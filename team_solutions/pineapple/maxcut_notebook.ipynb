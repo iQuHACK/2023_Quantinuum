{
 "cells": [
  {
   "cell_type": "markdown",
   "id": "a3ba3449",
   "metadata": {
    "slideshow": {
     "slide_type": "slide"
    }
   },
   "source": [
    "## The Quantum Approximate Optimisation Algorithm (QAOA) using TKET.\n",
    "\n",
    "Callum Macpherson"
   ]
  },
  {
   "cell_type": "markdown",
   "id": "45668632",
   "metadata": {
    "slideshow": {
     "slide_type": "subslide"
    }
   },
   "source": [
    "## The Max-Cut problem"
   ]
  },
  {
   "cell_type": "code",
   "execution_count": 5,
   "id": "9456fbeb",
   "metadata": {
    "slideshow": {
     "slide_type": "fragment"
    }
   },
   "outputs": [
    {
     "data": {
      "image/png": "[encoded data removed]",
      "text/plain": [
       "<Figure size 144x144 with 1 Axes>"
      ]
     },
     "metadata": {},
     "output_type": "display_data"
    }
   ],
   "source": [
    "import networkx as nx\n",
    "import matplotlib.pyplot as plt\n",
    "G = nx.Graph()\n",
    "G.add_edges_from([(0,1), (1,2), (2,0)])\n",
    "plt.figure(figsize=(2,2))\n",
    "nx.draw(G, node_color=['red', 'blue', 'red'])\n",
    "plt.show()"
   ]
  },
  {
   "cell_type": "markdown",
   "id": "cad41481",
   "metadata": {
    "slideshow": {
     "slide_type": "fragment"
    }
   },
   "source": [
    "There are \\\\(2^3\\\\) possible assignments of colour to nodes. In general there are \\\\( 2^n \\\\). The Max-cut problem can then be stated as that of finding the colour assignment which maximises the number of edges between vertices of a different colour."
   ]
  },
  {
   "cell_type": "markdown",
   "id": "7389bbe5",
   "metadata": {
    "slideshow": {
     "slide_type": "subslide"
    }
   },
   "source": [
    "## Quantum Approximate Optimization Algorithm (QAOA)\n",
    "\n",
    "Introduced in 'A Quantum Approximate Optimization Algorithm' (found at https://arxiv.org/abs/1411.4028). The idea is to prepare a quantum state which encodes a solution to the Max-cut problem.\n",
    "\n",
    "\n",
    "This is a variational algorithm, which is to say that a paramaterised state is prepared, with the parameters varied to improve the solution. We will have $2p$ parameters where p is our number of layers. In particular, the state prepared has the form \n",
    "\n",
    "\n",
    "\n",
    "\\\\[ \\left| \\psi \\left( \\beta, \\gamma \\right) \\right\\rangle = U \\left( \\beta_m \\right) U \\left( \\gamma_m \\right) ... U \\left( \\beta_0 \\right) U \\left( \\gamma_0 \\right) \\left| \\psi_0 \\right\\rangle \\\\]\n",
    "where\n",
    "\\\\[ U \\left( \\beta_i \\right) = e^{i \\beta H_B} \\quad \\& \\quad U \\left( \\gamma_i \\right) = e^{i \\gamma H_P} \\\\]\n",
    "with \\\\( H_B \\\\) and \\\\( H_P \\\\) depending on the problem instance. "
   ]
  },
  {
   "cell_type": "markdown",
   "id": "3596e66d",
   "metadata": {},
   "source": [
    "## Cost function for Maxcut\n",
    "$$\n",
    "\\begin{equation}\n",
    "C= \\sum_{(i,j)} x_i(1-x_j)\n",
    "\\end{equation}\n",
    "$$"
   ]
  },
  {
   "cell_type": "markdown",
   "id": "d720b387",
   "metadata": {
    "slideshow": {
     "slide_type": "subslide"
    }
   },
   "source": [
    "For the previous 3 vertex graph the *problem Hamiltonian* is\n",
    "\\\\[ H_P = \\frac{1}{2} \\big[ \\left( Z \\otimes Z \\otimes I \\right) + \\left( Z \\otimes I \\otimes Z \\right) + \\left( I \\otimes Z \\otimes Z \\right) \\big] \\\\]\n",
    "\n",
    "\n",
    "where you will notice that there is a \\\\( Z \\otimes Z \\\\) acting between each vertex which is connected by an edge."
   ]
  },
  {
   "cell_type": "markdown",
   "id": "8ca2e1b9",
   "metadata": {
    "slideshow": {
     "slide_type": "fragment"
    }
   },
   "source": [
    "The *mixer Hamiltonian* has the form \n",
    "\\\\[ H_B =   \\left( X \\otimes I \\otimes I \\right) + \\left( I \\otimes X \\otimes I \\right) + \\left( I \\otimes I \\otimes X \\right)  \\\\]\n",
    "\n",
    "\n",
    "where you will notice that there is an \\\\( X \\\\) acting on each vertex."
   ]
  },
  {
   "cell_type": "markdown",
   "id": "de6b9e03",
   "metadata": {},
   "source": [
    "## Cost function for Maxcut\n",
    "\n",
    "A solution to maxcut can be found by maximising the following cost function $C$ .\n",
    "\n",
    "\n",
    "\n",
    "$$\n",
    "\\begin{equation}\n",
    "C= \\sum_{(i,j)} x_i(1-x_j)\n",
    "\\end{equation}\n",
    "$$\n",
    "\n",
    "Here $x_i$ and $x_j$ are the the \"colours\" of each vertex.  \n",
    "\n",
    "$$\n",
    "\\begin{equation}\n",
    "x_i,x_j \\in \\{0,1\\}\n",
    "\\end{equation}\n",
    "$$\n",
    "\n",
    "$x_i(1-x_j)=0$ if $x_i=x_j$ and $ x_i(1-x_j)=1$ if the terms are not equal."
   ]
  },
  {
   "cell_type": "markdown",
   "id": "61d4e798",
   "metadata": {
    "slideshow": {
     "slide_type": "slide"
    }
   },
   "source": [
    "We want to encode our Maxcut cost function as a Hamiltonain. To do this we can perform the following translation.\n",
    "\n",
    "$$\n",
    "\\begin{equation}\n",
    "x_i \\mapsto \\frac{1}{2}(1-Z_i)\n",
    "\\end{equation}\n",
    "$$\n",
    "\n",
    "\n",
    "The Pauli Z operator can be used to distinguish between the $|0\\rangle$ and $|1\\rangle$ basis states as these are eigenstates with eigenvalues $\\pm 1$ .\n",
    "\n",
    "$$\n",
    "\\begin{equation}\n",
    "H_P = \\frac{1}{2}\\sum_{<jk>} (-Z_j \\,Z_k +I )\n",
    "\\end{equation}\n",
    "$$\n",
    "\n",
    "\n",
    "$$\n",
    "\\begin{equation}\n",
    "H_B = \\sum_i X_i\n",
    "\\end{equation}\n",
    "$$\n",
    "\n",
    "Here we use the the convention that $X_i$ means a Pauli X operator will be applied to the \"ith\" qubit and the identity operator will be applied to all other qubits in the circuit."
   ]
  },
  {
   "cell_type": "code",
   "execution_count": 6,
   "id": "aeb6abd9",
   "metadata": {
    "slideshow": {
     "slide_type": "skip"
    }
   },
   "outputs": [],
   "source": [
    "import warnings\n",
    "warnings.filterwarnings(\"ignore\")"
   ]
  },
  {
   "cell_type": "markdown",
   "id": "3cbb783a",
   "metadata": {
    "slideshow": {
     "slide_type": "slide"
    }
   },
   "source": [
    "# Circuit Construction for QAOA"
   ]
  },
  {
   "cell_type": "code",
   "execution_count": 7,
   "id": "688f1332",
   "metadata": {
    "slideshow": {
     "slide_type": "slide"
    }
   },
   "outputs": [
    {
     "data": {
      "image/png": "[encoded data removed]",
      "text/plain": [
       "<Figure size 432x288 with 1 Axes>"
      ]
     },
     "metadata": {},
     "output_type": "display_data"
    }
   ],
   "source": [
    "import networkx as nx\n",
    "\n",
    "max_cut_graph_edges = [(0,1), (1,2), (1,3), (3,4), (4,5), (4,6)]\n",
    "n_nodes = 7\n",
    "\n",
    "max_cut_graph = nx.Graph()\n",
    "max_cut_graph.add_edges_from(max_cut_graph_edges)\n",
    "nx.draw(max_cut_graph, labels={node: node for node in max_cut_graph.nodes()})\n",
    "\n",
    "expected_results = [(0,1,0,0,1,0,0), (1,0,1,1,0,1,1)]"
   ]
  },
  {
   "cell_type": "markdown",
   "id": "18a5bd16",
   "metadata": {
    "slideshow": {
     "slide_type": "slide"
    }
   },
   "source": [
    "## Define Cost Hamiltonian: $\\gamma H$"
   ]
  },
  {
   "cell_type": "markdown",
   "id": "543f87ca",
   "metadata": {},
   "source": [
    "$$\n",
    "\\begin{equation}\n",
    "H_P = \\frac{1}{2}\\sum_{<jk>} (-Z_j \\,Z_k +I )\n",
    "\\end{equation}\n",
    "$$"
   ]
  },
  {
   "cell_type": "code",
   "execution_count": 8,
   "id": "99226b24",
   "metadata": {
    "scrolled": true,
    "slideshow": {
     "slide_type": "fragment"
    }
   },
   "outputs": [
    {
     "name": "stdout",
     "output_type": "stream",
     "text": [
      "{(): 3.00000000000000, (Zq[0], Zq[1]): -0.500000000000000, (Zq[1], Zq[2]): -0.500000000000000, (Zq[1], Zq[3]): -0.500000000000000, (Zq[3], Zq[4]): -0.500000000000000, (Zq[4], Zq[5]): -0.500000000000000, (Zq[4], Zq[6]): -0.500000000000000}\n"
     ]
    }
   ],
   "source": [
    "from typing import List, Tuple, Any\n",
    "from pytket.utils import QubitPauliOperator\n",
    "from pytket.pauli import QubitPauliString, Pauli\n",
    "from pytket import Qubit\n",
    "\n",
    "def qaoa_graph_to_cost_hamiltonian(edges: List[Tuple[int, int]], cost_angle: float) -> QubitPauliOperator:\n",
    "    qpo_dict = {QubitPauliString(): len(edges)*0.5*cost_angle}\n",
    "    for e in edges:\n",
    "        term_string = QubitPauliString([Qubit(e[0]), Qubit(e[1])], [Pauli.Z, Pauli.Z])\n",
    "        qpo_dict[term_string] = -0.5*cost_angle\n",
    "    return QubitPauliOperator(qpo_dict)\n",
    "\n",
    "cost_angle = 1.0\n",
    "cost_ham_qpo = qaoa_graph_to_cost_hamiltonian(max_cut_graph_edges, cost_angle)\n",
    "print(cost_ham_qpo)"
   ]
  },
  {
   "cell_type": "markdown",
   "id": "6da499ac",
   "metadata": {
    "slideshow": {
     "slide_type": "fragment"
    }
   },
   "source": [
    "$$\n",
    "\\begin{equation}\n",
    "H_P = 3 I^{\\otimes 6} -0.5 \\big[ Z_0 Z_1 + Z_1 Z_2 +Z_1 Z_3 +Z_3 Z_4 +Z_4 Z_5 +Z_4 Z_6  \\big]\n",
    "\\end{equation}\n",
    "$$\n",
    "\n",
    "Using the same index convention as above"
   ]
  },
  {
   "cell_type": "markdown",
   "id": "785ff56c",
   "metadata": {
    "slideshow": {
     "slide_type": "slide"
    }
   },
   "source": [
    "## Hamiltonian Circuit"
   ]
  },
  {
   "cell_type": "code",
   "execution_count": 9,
   "id": "11fe9917",
   "metadata": {
    "slideshow": {
     "slide_type": "fragment"
    }
   },
   "outputs": [
    {
     "data": {
      "text/html": [
       "\n",
       "\n",
       "\n",
       "\n",
       "\n",
       "\n",
       "<iframe srcdoc=\"\n",
       "&lt;!DOCTYPE html&gt;\n",
       "&lt;html lang=&#34;en&#34;&gt;\n",
       "&lt;head&gt;\n",
       "    &lt;meta charset=&#34;UTF-8&#34;&gt;\n",
       "    &lt;script type=&#34;application/javascript&#34; src=&#34;https://cdn.jsdelivr.net/npm/vue@3&#34;&gt;&lt;/script&gt;\n",
       "    &lt;script type=&#34;application/javascript&#34; src=&#34;https://unpkg.com/pytket-circuit-renderer@0.3/dist/pytket-circuit-renderer.umd.js&#34;&gt;&lt;/script&gt;\n",
       "    &lt;link rel=&#34;stylesheet&#34; href=&#34;https://unpkg.com/pytket-circuit-renderer@0.3/dist/pytket-circuit-renderer.css&#34;&gt;\n",
       "&lt;/head&gt;\n",
       "&lt;body&gt;\n",
       "    &lt;div id=&#34;circuit-display-vue-container-f8bd446c-4497-4dd5-9cd9-a66926551f51&#34; class=&#34;pytket-circuit-display-container&#34;&gt;\n",
       "        &lt;div style=&#34;display: none&#34;&gt;\n",
       "            &lt;div id=&#34;circuit-json-to-display&#34;&gt;{&#34;bits&#34;: [], &#34;commands&#34;: [{&#34;args&#34;: [[&#34;q&#34;, [0]], [&#34;q&#34;, [1]], [&#34;q&#34;, [2]], [&#34;q&#34;, [3]], [&#34;q&#34;, [4]], [&#34;q&#34;, [5]], [&#34;q&#34;, [6]]], &#34;op&#34;: {&#34;box&#34;: {&#34;circuit&#34;: {&#34;bits&#34;: [], &#34;commands&#34;: [{&#34;args&#34;: [[&#34;q&#34;, [0]], [&#34;q&#34;, [1]]], &#34;op&#34;: {&#34;box&#34;: {&#34;id&#34;: &#34;279c7eb9-264f-4877-8dfa-f997a10f7ea4&#34;, &#34;paulis&#34;: [&#34;Z&#34;, &#34;Z&#34;], &#34;phase&#34;: &#34;-0.5&#34;, &#34;type&#34;: &#34;PauliExpBox&#34;}, &#34;type&#34;: &#34;PauliExpBox&#34;}}, {&#34;args&#34;: [[&#34;q&#34;, [1]], [&#34;q&#34;, [2]]], &#34;op&#34;: {&#34;box&#34;: {&#34;id&#34;: &#34;33a7ae3a-54b5-4282-bd7e-14477a7c7f2d&#34;, &#34;paulis&#34;: [&#34;Z&#34;, &#34;Z&#34;], &#34;phase&#34;: &#34;-0.5&#34;, &#34;type&#34;: &#34;PauliExpBox&#34;}, &#34;type&#34;: &#34;PauliExpBox&#34;}}, {&#34;args&#34;: [[&#34;q&#34;, [1]], [&#34;q&#34;, [3]]], &#34;op&#34;: {&#34;box&#34;: {&#34;id&#34;: &#34;3e61a35a-0142-43d7-9656-b5a81d6c60ed&#34;, &#34;paulis&#34;: [&#34;Z&#34;, &#34;Z&#34;], &#34;phase&#34;: &#34;-0.5&#34;, &#34;type&#34;: &#34;PauliExpBox&#34;}, &#34;type&#34;: &#34;PauliExpBox&#34;}}, {&#34;args&#34;: [[&#34;q&#34;, [3]], [&#34;q&#34;, [4]]], &#34;op&#34;: {&#34;box&#34;: {&#34;id&#34;: &#34;8a938ad7-d19f-42f9-b0ed-b7bc6a35048b&#34;, &#34;paulis&#34;: [&#34;Z&#34;, &#34;Z&#34;], &#34;phase&#34;: &#34;-0.5&#34;, &#34;type&#34;: &#34;PauliExpBox&#34;}, &#34;type&#34;: &#34;PauliExpBox&#34;}}, {&#34;args&#34;: [[&#34;q&#34;, [4]], [&#34;q&#34;, [5]]], &#34;op&#34;: {&#34;box&#34;: {&#34;id&#34;: &#34;a85f3bbc-7da8-40ef-9c72-accfbf21a755&#34;, &#34;paulis&#34;: [&#34;Z&#34;, &#34;Z&#34;], &#34;phase&#34;: &#34;-0.5&#34;, &#34;type&#34;: &#34;PauliExpBox&#34;}, &#34;type&#34;: &#34;PauliExpBox&#34;}}, {&#34;args&#34;: [[&#34;q&#34;, [4]], [&#34;q&#34;, [6]]], &#34;op&#34;: {&#34;box&#34;: {&#34;id&#34;: &#34;c0926ab5-0b12-49ea-8897-7da82c95e8ea&#34;, &#34;paulis&#34;: [&#34;Z&#34;, &#34;Z&#34;], &#34;phase&#34;: &#34;-0.5&#34;, &#34;type&#34;: &#34;PauliExpBox&#34;}, &#34;type&#34;: &#34;PauliExpBox&#34;}}], &#34;created_qubits&#34;: [], &#34;discarded_qubits&#34;: [], &#34;implicit_permutation&#34;: [[[&#34;q&#34;, [0]], [&#34;q&#34;, [0]]], [[&#34;q&#34;, [1]], [&#34;q&#34;, [1]]], [[&#34;q&#34;, [2]], [&#34;q&#34;, [2]]], [[&#34;q&#34;, [3]], [&#34;q&#34;, [3]]], [[&#34;q&#34;, [4]], [&#34;q&#34;, [4]]], [[&#34;q&#34;, [5]], [&#34;q&#34;, [5]]], [[&#34;q&#34;, [6]], [&#34;q&#34;, [6]]]], &#34;phase&#34;: &#34;0.5&#34;, &#34;qubits&#34;: [[&#34;q&#34;, [0]], [&#34;q&#34;, [1]], [&#34;q&#34;, [2]], [&#34;q&#34;, [3]], [&#34;q&#34;, [4]], [&#34;q&#34;, [5]], [&#34;q&#34;, [6]]]}, &#34;id&#34;: &#34;35493d72-73d5-4b58-bf8c-441ff85a4abd&#34;, &#34;type&#34;: &#34;CircBox&#34;}, &#34;type&#34;: &#34;CircBox&#34;}}], &#34;created_qubits&#34;: [], &#34;discarded_qubits&#34;: [], &#34;implicit_permutation&#34;: [[[&#34;q&#34;, [0]], [&#34;q&#34;, [0]]], [[&#34;q&#34;, [1]], [&#34;q&#34;, [1]]], [[&#34;q&#34;, [2]], [&#34;q&#34;, [2]]], [[&#34;q&#34;, [3]], [&#34;q&#34;, [3]]], [[&#34;q&#34;, [4]], [&#34;q&#34;, [4]]], [[&#34;q&#34;, [5]], [&#34;q&#34;, [5]]], [[&#34;q&#34;, [6]], [&#34;q&#34;, [6]]]], &#34;phase&#34;: &#34;0.0&#34;, &#34;qubits&#34;: [[&#34;q&#34;, [0]], [&#34;q&#34;, [1]], [&#34;q&#34;, [2]], [&#34;q&#34;, [3]], [&#34;q&#34;, [4]], [&#34;q&#34;, [5]], [&#34;q&#34;, [6]]]}&lt;/div&gt;\n",
       "        &lt;/div&gt;\n",
       "        &lt;circuit-display-container :circuit-element-str=&#34;&#39;#circuit-json-to-display&#39;&#34;&gt;&lt;/circuit-display-container&gt;\n",
       "    &lt;/div&gt;\n",
       "    &lt;script type=&#34;application/javascript&#34;&gt;\n",
       "        const { createApp } = Vue;\n",
       "        const circuitDisplayContainer = window[&#34;pytket-circuit-renderer&#34;].default;\n",
       "        // Init variables to be shared between circuit display instances\n",
       "        if (typeof window.pytketCircuitDisplays === &#34;undefined&#34;) {\n",
       "            window.pytketCircuitDisplays = {};\n",
       "        }\n",
       "        const uid = &#34;f8bd446c-4497-4dd5-9cd9-a66926551f51&#34;;\n",
       "        // Create the root Vue component\n",
       "        const app = createApp({\n",
       "            delimiters: [&#39;[[#&#39;, &#39;#]]&#39;],\n",
       "            components: { circuitDisplayContainer },\n",
       "        })\n",
       "        app.config.unwrapInjectedRef = true;\n",
       "        app.mount(&#34;#circuit-display-vue-container-&#34;+uid);\n",
       "        window.pytketCircuitDisplays[uid] = app;\n",
       "    &lt;/script&gt;\n",
       "&lt;/body&gt;\n",
       "&lt;/html&gt;\n",
       "\"\n",
       "        width=\"100%\" height=\"200px\"\n",
       "        style=\"border: none; outline: none; resize: vertical; overflow: auto\"></iframe>\n",
       "\n"
      ],
      "text/plain": [
       "<IPython.core.display.HTML object>"
      ]
     },
     "metadata": {},
     "output_type": "display_data"
    }
   ],
   "source": [
    "from pytket.utils import gen_term_sequence_circuit\n",
    "from pytket import Circuit\n",
    "from pytket.circuit import display\n",
    "\n",
    "cost_ham_circuit = gen_term_sequence_circuit(cost_ham_qpo, Circuit(n_nodes))\n",
    "display.render_circuit_jupyter(cost_ham_circuit)"
   ]
  },
  {
   "cell_type": "code",
   "execution_count": 10,
   "id": "9057c55f",
   "metadata": {
    "slideshow": {
     "slide_type": "slide"
    }
   },
   "outputs": [
    {
     "data": {
      "text/html": [
       "\n",
       "\n",
       "\n",
       "\n",
       "\n",
       "\n",
       "<iframe srcdoc=\"\n",
       "&lt;!DOCTYPE html&gt;\n",
       "&lt;html lang=&#34;en&#34;&gt;\n",
       "&lt;head&gt;\n",
       "    &lt;meta charset=&#34;UTF-8&#34;&gt;\n",
       "    &lt;script type=&#34;application/javascript&#34; src=&#34;https://cdn.jsdelivr.net/npm/vue@3&#34;&gt;&lt;/script&gt;\n",
       "    &lt;script type=&#34;application/javascript&#34; src=&#34;https://unpkg.com/pytket-circuit-renderer@0.3/dist/pytket-circuit-renderer.umd.js&#34;&gt;&lt;/script&gt;\n",
       "    &lt;link rel=&#34;stylesheet&#34; href=&#34;https://unpkg.com/pytket-circuit-renderer@0.3/dist/pytket-circuit-renderer.css&#34;&gt;\n",
       "&lt;/head&gt;\n",
       "&lt;body&gt;\n",
       "    &lt;div id=&#34;circuit-display-vue-container-548145c7-5a9b-440b-a9df-c222cc51185a&#34; class=&#34;pytket-circuit-display-container&#34;&gt;\n",
       "        &lt;div style=&#34;display: none&#34;&gt;\n",
       "            &lt;div id=&#34;circuit-json-to-display&#34;&gt;{&#34;bits&#34;: [], &#34;commands&#34;: [{&#34;args&#34;: [[&#34;q&#34;, [1]], [&#34;q&#34;, [0]]], &#34;op&#34;: {&#34;type&#34;: &#34;CX&#34;}}, {&#34;args&#34;: [[&#34;q&#34;, [0]]], &#34;op&#34;: {&#34;params&#34;: [&#34;-0.5&#34;], &#34;type&#34;: &#34;Rz&#34;}}, {&#34;args&#34;: [[&#34;q&#34;, [1]], [&#34;q&#34;, [0]]], &#34;op&#34;: {&#34;type&#34;: &#34;CX&#34;}}, {&#34;args&#34;: [[&#34;q&#34;, [2]], [&#34;q&#34;, [1]]], &#34;op&#34;: {&#34;type&#34;: &#34;CX&#34;}}, {&#34;args&#34;: [[&#34;q&#34;, [1]]], &#34;op&#34;: {&#34;params&#34;: [&#34;-0.5&#34;], &#34;type&#34;: &#34;Rz&#34;}}, {&#34;args&#34;: [[&#34;q&#34;, [2]], [&#34;q&#34;, [1]]], &#34;op&#34;: {&#34;type&#34;: &#34;CX&#34;}}, {&#34;args&#34;: [[&#34;q&#34;, [3]], [&#34;q&#34;, [1]]], &#34;op&#34;: {&#34;type&#34;: &#34;CX&#34;}}, {&#34;args&#34;: [[&#34;q&#34;, [1]]], &#34;op&#34;: {&#34;params&#34;: [&#34;-0.5&#34;], &#34;type&#34;: &#34;Rz&#34;}}, {&#34;args&#34;: [[&#34;q&#34;, [3]], [&#34;q&#34;, [1]]], &#34;op&#34;: {&#34;type&#34;: &#34;CX&#34;}}, {&#34;args&#34;: [[&#34;q&#34;, [4]], [&#34;q&#34;, [3]]], &#34;op&#34;: {&#34;type&#34;: &#34;CX&#34;}}, {&#34;args&#34;: [[&#34;q&#34;, [3]]], &#34;op&#34;: {&#34;params&#34;: [&#34;-0.5&#34;], &#34;type&#34;: &#34;Rz&#34;}}, {&#34;args&#34;: [[&#34;q&#34;, [4]], [&#34;q&#34;, [3]]], &#34;op&#34;: {&#34;type&#34;: &#34;CX&#34;}}, {&#34;args&#34;: [[&#34;q&#34;, [5]], [&#34;q&#34;, [4]]], &#34;op&#34;: {&#34;type&#34;: &#34;CX&#34;}}, {&#34;args&#34;: [[&#34;q&#34;, [4]]], &#34;op&#34;: {&#34;params&#34;: [&#34;-0.5&#34;], &#34;type&#34;: &#34;Rz&#34;}}, {&#34;args&#34;: [[&#34;q&#34;, [5]], [&#34;q&#34;, [4]]], &#34;op&#34;: {&#34;type&#34;: &#34;CX&#34;}}, {&#34;args&#34;: [[&#34;q&#34;, [6]], [&#34;q&#34;, [4]]], &#34;op&#34;: {&#34;type&#34;: &#34;CX&#34;}}, {&#34;args&#34;: [[&#34;q&#34;, [4]]], &#34;op&#34;: {&#34;params&#34;: [&#34;-0.5&#34;], &#34;type&#34;: &#34;Rz&#34;}}, {&#34;args&#34;: [[&#34;q&#34;, [6]], [&#34;q&#34;, [4]]], &#34;op&#34;: {&#34;type&#34;: &#34;CX&#34;}}], &#34;created_qubits&#34;: [], &#34;discarded_qubits&#34;: [], &#34;implicit_permutation&#34;: [[[&#34;q&#34;, [0]], [&#34;q&#34;, [0]]], [[&#34;q&#34;, [1]], [&#34;q&#34;, [1]]], [[&#34;q&#34;, [2]], [&#34;q&#34;, [2]]], [[&#34;q&#34;, [3]], [&#34;q&#34;, [3]]], [[&#34;q&#34;, [4]], [&#34;q&#34;, [4]]], [[&#34;q&#34;, [5]], [&#34;q&#34;, [5]]], [[&#34;q&#34;, [6]], [&#34;q&#34;, [6]]]], &#34;phase&#34;: &#34;0.5&#34;, &#34;qubits&#34;: [[&#34;q&#34;, [0]], [&#34;q&#34;, [1]], [&#34;q&#34;, [2]], [&#34;q&#34;, [3]], [&#34;q&#34;, [4]], [&#34;q&#34;, [5]], [&#34;q&#34;, [6]]]}&lt;/div&gt;\n",
       "        &lt;/div&gt;\n",
       "        &lt;circuit-display-container :circuit-element-str=&#34;&#39;#circuit-json-to-display&#39;&#34;&gt;&lt;/circuit-display-container&gt;\n",
       "    &lt;/div&gt;\n",
       "    &lt;script type=&#34;application/javascript&#34;&gt;\n",
       "        const { createApp } = Vue;\n",
       "        const circuitDisplayContainer = window[&#34;pytket-circuit-renderer&#34;].default;\n",
       "        // Init variables to be shared between circuit display instances\n",
       "        if (typeof window.pytketCircuitDisplays === &#34;undefined&#34;) {\n",
       "            window.pytketCircuitDisplays = {};\n",
       "        }\n",
       "        const uid = &#34;548145c7-5a9b-440b-a9df-c222cc51185a&#34;;\n",
       "        // Create the root Vue component\n",
       "        const app = createApp({\n",
       "            delimiters: [&#39;[[#&#39;, &#39;#]]&#39;],\n",
       "            components: { circuitDisplayContainer },\n",
       "        })\n",
       "        app.config.unwrapInjectedRef = true;\n",
       "        app.mount(&#34;#circuit-display-vue-container-&#34;+uid);\n",
       "        window.pytketCircuitDisplays[uid] = app;\n",
       "    &lt;/script&gt;\n",
       "&lt;/body&gt;\n",
       "&lt;/html&gt;\n",
       "\"\n",
       "        width=\"100%\" height=\"200px\"\n",
       "        style=\"border: none; outline: none; resize: vertical; overflow: auto\"></iframe>\n",
       "\n"
      ],
      "text/plain": [
       "<IPython.core.display.HTML object>"
      ]
     },
     "metadata": {},
     "output_type": "display_data"
    }
   ],
   "source": [
    "from pytket.transform import Transform\n",
    "\n",
    "Transform.DecomposeBoxes().apply(cost_ham_circuit)\n",
    "display.render_circuit_jupyter(cost_ham_circuit)"
   ]
  },
  {
   "cell_type": "markdown",
   "id": "4690b787",
   "metadata": {
    "slideshow": {
     "slide_type": "slide"
    }
   },
   "source": [
    "## Construction of the Mixer Hamiltonian: $\\beta B$"
   ]
  },
  {
   "cell_type": "code",
   "execution_count": 11,
   "id": "296c560d",
   "metadata": {
    "slideshow": {
     "slide_type": "fragment"
    }
   },
   "outputs": [
    {
     "data": {
      "text/html": [
       "\n",
       "\n",
       "\n",
       "\n",
       "\n",
       "\n",
       "<iframe srcdoc=\"\n",
       "&lt;!DOCTYPE html&gt;\n",
       "&lt;html lang=&#34;en&#34;&gt;\n",
       "&lt;head&gt;\n",
       "    &lt;meta charset=&#34;UTF-8&#34;&gt;\n",
       "    &lt;script type=&#34;application/javascript&#34; src=&#34;https://cdn.jsdelivr.net/npm/vue@3&#34;&gt;&lt;/script&gt;\n",
       "    &lt;script type=&#34;application/javascript&#34; src=&#34;https://unpkg.com/pytket-circuit-renderer@0.3/dist/pytket-circuit-renderer.umd.js&#34;&gt;&lt;/script&gt;\n",
       "    &lt;link rel=&#34;stylesheet&#34; href=&#34;https://unpkg.com/pytket-circuit-renderer@0.3/dist/pytket-circuit-renderer.css&#34;&gt;\n",
       "&lt;/head&gt;\n",
       "&lt;body&gt;\n",
       "    &lt;div id=&#34;circuit-display-vue-container-d43f59c4-6521-4a4a-a909-6eff2c15f254&#34; class=&#34;pytket-circuit-display-container&#34;&gt;\n",
       "        &lt;div style=&#34;display: none&#34;&gt;\n",
       "            &lt;div id=&#34;circuit-json-to-display&#34;&gt;{&#34;bits&#34;: [], &#34;commands&#34;: [{&#34;args&#34;: [[&#34;q&#34;, [0]]], &#34;op&#34;: {&#34;type&#34;: &#34;H&#34;}}, {&#34;args&#34;: [[&#34;q&#34;, [1]]], &#34;op&#34;: {&#34;type&#34;: &#34;H&#34;}}, {&#34;args&#34;: [[&#34;q&#34;, [2]]], &#34;op&#34;: {&#34;type&#34;: &#34;H&#34;}}, {&#34;args&#34;: [[&#34;q&#34;, [3]]], &#34;op&#34;: {&#34;type&#34;: &#34;H&#34;}}, {&#34;args&#34;: [[&#34;q&#34;, [4]]], &#34;op&#34;: {&#34;type&#34;: &#34;H&#34;}}, {&#34;args&#34;: [[&#34;q&#34;, [5]]], &#34;op&#34;: {&#34;type&#34;: &#34;H&#34;}}, {&#34;args&#34;: [[&#34;q&#34;, [6]]], &#34;op&#34;: {&#34;type&#34;: &#34;H&#34;}}, {&#34;args&#34;: [[&#34;q&#34;, [0]]], &#34;op&#34;: {&#34;params&#34;: [&#34;0.8&#34;], &#34;type&#34;: &#34;Rz&#34;}}, {&#34;args&#34;: [[&#34;q&#34;, [1]]], &#34;op&#34;: {&#34;params&#34;: [&#34;0.8&#34;], &#34;type&#34;: &#34;Rz&#34;}}, {&#34;args&#34;: [[&#34;q&#34;, [2]]], &#34;op&#34;: {&#34;params&#34;: [&#34;0.8&#34;], &#34;type&#34;: &#34;Rz&#34;}}, {&#34;args&#34;: [[&#34;q&#34;, [3]]], &#34;op&#34;: {&#34;params&#34;: [&#34;0.8&#34;], &#34;type&#34;: &#34;Rz&#34;}}, {&#34;args&#34;: [[&#34;q&#34;, [4]]], &#34;op&#34;: {&#34;params&#34;: [&#34;0.8&#34;], &#34;type&#34;: &#34;Rz&#34;}}, {&#34;args&#34;: [[&#34;q&#34;, [5]]], &#34;op&#34;: {&#34;params&#34;: [&#34;0.8&#34;], &#34;type&#34;: &#34;Rz&#34;}}, {&#34;args&#34;: [[&#34;q&#34;, [6]]], &#34;op&#34;: {&#34;params&#34;: [&#34;0.8&#34;], &#34;type&#34;: &#34;Rz&#34;}}, {&#34;args&#34;: [[&#34;q&#34;, [0]]], &#34;op&#34;: {&#34;type&#34;: &#34;H&#34;}}, {&#34;args&#34;: [[&#34;q&#34;, [1]]], &#34;op&#34;: {&#34;type&#34;: &#34;H&#34;}}, {&#34;args&#34;: [[&#34;q&#34;, [2]]], &#34;op&#34;: {&#34;type&#34;: &#34;H&#34;}}, {&#34;args&#34;: [[&#34;q&#34;, [3]]], &#34;op&#34;: {&#34;type&#34;: &#34;H&#34;}}, {&#34;args&#34;: [[&#34;q&#34;, [4]]], &#34;op&#34;: {&#34;type&#34;: &#34;H&#34;}}, {&#34;args&#34;: [[&#34;q&#34;, [5]]], &#34;op&#34;: {&#34;type&#34;: &#34;H&#34;}}, {&#34;args&#34;: [[&#34;q&#34;, [6]]], &#34;op&#34;: {&#34;type&#34;: &#34;H&#34;}}], &#34;created_qubits&#34;: [], &#34;discarded_qubits&#34;: [], &#34;implicit_permutation&#34;: [[[&#34;q&#34;, [0]], [&#34;q&#34;, [0]]], [[&#34;q&#34;, [1]], [&#34;q&#34;, [1]]], [[&#34;q&#34;, [2]], [&#34;q&#34;, [2]]], [[&#34;q&#34;, [3]], [&#34;q&#34;, [3]]], [[&#34;q&#34;, [4]], [&#34;q&#34;, [4]]], [[&#34;q&#34;, [5]], [&#34;q&#34;, [5]]], [[&#34;q&#34;, [6]], [&#34;q&#34;, [6]]]], &#34;phase&#34;: &#34;0.0&#34;, &#34;qubits&#34;: [[&#34;q&#34;, [0]], [&#34;q&#34;, [1]], [&#34;q&#34;, [2]], [&#34;q&#34;, [3]], [&#34;q&#34;, [4]], [&#34;q&#34;, [5]], [&#34;q&#34;, [6]]]}&lt;/div&gt;\n",
       "        &lt;/div&gt;\n",
       "        &lt;circuit-display-container :circuit-element-str=&#34;&#39;#circuit-json-to-display&#39;&#34;&gt;&lt;/circuit-display-container&gt;\n",
       "    &lt;/div&gt;\n",
       "    &lt;script type=&#34;application/javascript&#34;&gt;\n",
       "        const { createApp } = Vue;\n",
       "        const circuitDisplayContainer = window[&#34;pytket-circuit-renderer&#34;].default;\n",
       "        // Init variables to be shared between circuit display instances\n",
       "        if (typeof window.pytketCircuitDisplays === &#34;undefined&#34;) {\n",
       "            window.pytketCircuitDisplays = {};\n",
       "        }\n",
       "        const uid = &#34;d43f59c4-6521-4a4a-a909-6eff2c15f254&#34;;\n",
       "        // Create the root Vue component\n",
       "        const app = createApp({\n",
       "            delimiters: [&#39;[[#&#39;, &#39;#]]&#39;],\n",
       "            components: { circuitDisplayContainer },\n",
       "        })\n",
       "        app.config.unwrapInjectedRef = true;\n",
       "        app.mount(&#34;#circuit-display-vue-container-&#34;+uid);\n",
       "        window.pytketCircuitDisplays[uid] = app;\n",
       "    &lt;/script&gt;\n",
       "&lt;/body&gt;\n",
       "&lt;/html&gt;\n",
       "\"\n",
       "        width=\"100%\" height=\"200px\"\n",
       "        style=\"border: none; outline: none; resize: vertical; overflow: auto\"></iframe>\n",
       "\n"
      ],
      "text/plain": [
       "<IPython.core.display.HTML object>"
      ]
     },
     "metadata": {},
     "output_type": "display_data"
    }
   ],
   "source": [
    "mixer_angle = 0.8\n",
    "mixer_ham_qpo =  QubitPauliOperator({QubitPauliString([Qubit(i)], [Pauli.X]): mixer_angle for i in range(n_nodes)})\n",
    "mixer_ham_circuit = gen_term_sequence_circuit(mixer_ham_qpo, Circuit(n_nodes))\n",
    "Transform.DecomposeBoxes().apply(mixer_ham_circuit)\n",
    "display.render_circuit_jupyter(mixer_ham_circuit)"
   ]
  },
  {
   "cell_type": "markdown",
   "id": "4d128a70",
   "metadata": {
    "slideshow": {
     "slide_type": "slide"
    }
   },
   "source": [
    "## Define the Initial State"
   ]
  },
  {
   "cell_type": "code",
   "execution_count": 12,
   "id": "0a9db628",
   "metadata": {
    "slideshow": {
     "slide_type": "fragment"
    }
   },
   "outputs": [
    {
     "data": {
      "text/html": [
       "\n",
       "\n",
       "\n",
       "\n",
       "\n",
       "\n",
       "<iframe srcdoc=\"\n",
       "&lt;!DOCTYPE html&gt;\n",
       "&lt;html lang=&#34;en&#34;&gt;\n",
       "&lt;head&gt;\n",
       "    &lt;meta charset=&#34;UTF-8&#34;&gt;\n",
       "    &lt;script type=&#34;application/javascript&#34; src=&#34;https://cdn.jsdelivr.net/npm/vue@3&#34;&gt;&lt;/script&gt;\n",
       "    &lt;script type=&#34;application/javascript&#34; src=&#34;https://unpkg.com/pytket-circuit-renderer@0.3/dist/pytket-circuit-renderer.umd.js&#34;&gt;&lt;/script&gt;\n",
       "    &lt;link rel=&#34;stylesheet&#34; href=&#34;https://unpkg.com/pytket-circuit-renderer@0.3/dist/pytket-circuit-renderer.css&#34;&gt;\n",
       "&lt;/head&gt;\n",
       "&lt;body&gt;\n",
       "    &lt;div id=&#34;circuit-display-vue-container-214b846a-3b9c-4152-9d00-831b36be585d&#34; class=&#34;pytket-circuit-display-container&#34;&gt;\n",
       "        &lt;div style=&#34;display: none&#34;&gt;\n",
       "            &lt;div id=&#34;circuit-json-to-display&#34;&gt;{&#34;bits&#34;: [], &#34;commands&#34;: [{&#34;args&#34;: [[&#34;q&#34;, [0]]], &#34;op&#34;: {&#34;type&#34;: &#34;H&#34;}}, {&#34;args&#34;: [[&#34;q&#34;, [1]]], &#34;op&#34;: {&#34;type&#34;: &#34;H&#34;}}, {&#34;args&#34;: [[&#34;q&#34;, [2]]], &#34;op&#34;: {&#34;type&#34;: &#34;H&#34;}}, {&#34;args&#34;: [[&#34;q&#34;, [3]]], &#34;op&#34;: {&#34;type&#34;: &#34;H&#34;}}, {&#34;args&#34;: [[&#34;q&#34;, [4]]], &#34;op&#34;: {&#34;type&#34;: &#34;H&#34;}}, {&#34;args&#34;: [[&#34;q&#34;, [5]]], &#34;op&#34;: {&#34;type&#34;: &#34;H&#34;}}, {&#34;args&#34;: [[&#34;q&#34;, [6]]], &#34;op&#34;: {&#34;type&#34;: &#34;H&#34;}}], &#34;created_qubits&#34;: [], &#34;discarded_qubits&#34;: [], &#34;implicit_permutation&#34;: [[[&#34;q&#34;, [0]], [&#34;q&#34;, [0]]], [[&#34;q&#34;, [1]], [&#34;q&#34;, [1]]], [[&#34;q&#34;, [2]], [&#34;q&#34;, [2]]], [[&#34;q&#34;, [3]], [&#34;q&#34;, [3]]], [[&#34;q&#34;, [4]], [&#34;q&#34;, [4]]], [[&#34;q&#34;, [5]], [&#34;q&#34;, [5]]], [[&#34;q&#34;, [6]], [&#34;q&#34;, [6]]]], &#34;phase&#34;: &#34;0.0&#34;, &#34;qubits&#34;: [[&#34;q&#34;, [0]], [&#34;q&#34;, [1]], [&#34;q&#34;, [2]], [&#34;q&#34;, [3]], [&#34;q&#34;, [4]], [&#34;q&#34;, [5]], [&#34;q&#34;, [6]]]}&lt;/div&gt;\n",
       "        &lt;/div&gt;\n",
       "        &lt;circuit-display-container :circuit-element-str=&#34;&#39;#circuit-json-to-display&#39;&#34;&gt;&lt;/circuit-display-container&gt;\n",
       "    &lt;/div&gt;\n",
       "    &lt;script type=&#34;application/javascript&#34;&gt;\n",
       "        const { createApp } = Vue;\n",
       "        const circuitDisplayContainer = window[&#34;pytket-circuit-renderer&#34;].default;\n",
       "        // Init variables to be shared between circuit display instances\n",
       "        if (typeof window.pytketCircuitDisplays === &#34;undefined&#34;) {\n",
       "            window.pytketCircuitDisplays = {};\n",
       "        }\n",
       "        const uid = &#34;214b846a-3b9c-4152-9d00-831b36be585d&#34;;\n",
       "        // Create the root Vue component\n",
       "        const app = createApp({\n",
       "            delimiters: [&#39;[[#&#39;, &#39;#]]&#39;],\n",
       "            components: { circuitDisplayContainer },\n",
       "        })\n",
       "        app.config.unwrapInjectedRef = true;\n",
       "        app.mount(&#34;#circuit-display-vue-container-&#34;+uid);\n",
       "        window.pytketCircuitDisplays[uid] = app;\n",
       "    &lt;/script&gt;\n",
       "&lt;/body&gt;\n",
       "&lt;/html&gt;\n",
       "\"\n",
       "        width=\"100%\" height=\"200px\"\n",
       "        style=\"border: none; outline: none; resize: vertical; overflow: auto\"></iframe>\n",
       "\n"
      ],
      "text/plain": [
       "<IPython.core.display.HTML object>"
      ]
     },
     "metadata": {},
     "output_type": "display_data"
    }
   ],
   "source": [
    "def qaoa_initial_circuit(n_qubits: int) -> Circuit:\n",
    "    c = Circuit(n_qubits)\n",
    "    for i in range(n_qubits):\n",
    "        c.H(i)\n",
    "    return c\n",
    "\n",
    "superposition_circuit = qaoa_initial_circuit(n_nodes)\n",
    "\n",
    "display.render_circuit_jupyter(superposition_circuit)"
   ]
  },
  {
   "cell_type": "markdown",
   "id": "da759b59",
   "metadata": {
    "slideshow": {
     "slide_type": "slide"
    }
   },
   "source": [
    "## Construct QAOA Circuit"
   ]
  },
  {
   "cell_type": "markdown",
   "id": "359a1a0f-e92e-40ae-bbe6-ce960b118f49",
   "metadata": {},
   "source": [
    "Now lets define a function to create our entire QAOA circuit. For $p$ QAOA layers we expect that our circuit will require $2p$ parameters. Here we will pass and cost mixer parameters in as a list where the length of the list defines the number of layers."
   ]
  },
  {
   "cell_type": "code",
   "execution_count": 13,
   "id": "23f8910a",
   "metadata": {
    "slideshow": {
     "slide_type": "fragment"
    }
   },
   "outputs": [],
   "source": [
    "def qaoa_max_cut_circuit(edges: List[Tuple[int, int]],\n",
    "                         n_nodes: int,\n",
    "                         mixer_angles: List[float],\n",
    "                         cost_angles: List[float]) -> Circuit:\n",
    "    \n",
    "    assert len(mixer_angles) == len(cost_angles)\n",
    "    \n",
    "    # initial state\n",
    "    qaoa_circuit = qaoa_initial_circuit(n_nodes)\n",
    "    \n",
    "    # add cost and mixer terms to state\n",
    "    for cost, mixer in zip(cost_angles, mixer_angles):\n",
    "        cost_ham = qaoa_graph_to_cost_hamiltonian(edges, cost)\n",
    "        mixer_ham = QubitPauliOperator({QubitPauliString([Qubit(i)], [Pauli.X]): mixer for i in range(n_nodes)})\n",
    "        qaoa_circuit.append(gen_term_sequence_circuit(cost_ham, Circuit(n_nodes)))\n",
    "        qaoa_circuit.append(gen_term_sequence_circuit(mixer_ham, Circuit(n_nodes)))\n",
    "        \n",
    "    Transform.DecomposeBoxes().apply(qaoa_circuit)\n",
    "    return qaoa_circuit"
   ]
  },
  {
   "cell_type": "markdown",
   "id": "bc2f8939-41b7-476b-a5a8-09de07211079",
   "metadata": {},
   "source": [
    "We also need to extract our energy expectation values from a `BackendResult` object after our circuit is processed by the device/simulator. We do this with the `get_max_cut_energy` function below. Note that the fact that the maxcut Hamiltonian contains only commuting terms means that we do not need to calculate our energy expectation using multiple measurement circuits. This may not the the case for a different problem Hamiltonian."
   ]
  },
  {
   "cell_type": "code",
   "execution_count": 14,
   "id": "df387eea-4198-428e-9b92-4f3bceb12f0e",
   "metadata": {},
   "outputs": [],
   "source": [
    "from typing import List, Tuple\n",
    "from pytket.backends.backendresult import BackendResult\n",
    "\n",
    "def get_max_cut_energy(edges: List[Tuple[int, int]], results: BackendResult) -> float:\n",
    "    energy = 0.0\n",
    "    dist = results.get_distribution()\n",
    "    for i, j in edges:\n",
    "        energy += sum((meas[i] ^ meas[j]) * prob for meas, prob in dist.items())\n",
    "\n",
    "    return energy"
   ]
  },
  {
   "cell_type": "code",
   "execution_count": 15,
   "id": "e5abad7b-e989-4156-9708-3d8c97d8ca2a",
   "metadata": {},
   "outputs": [],
   "source": [
    "from pytket.backends.backend import Backend\n",
    "from typing import Callable\n",
    "import numpy as np\n",
    "\n",
    "def qaoa_instance(\n",
    "    backend: Backend,\n",
    "    compiler_pass: Callable[[Circuit], bool],\n",
    "    guess_mixer_angles: np.array,\n",
    "    guess_cost_angles: np.array,\n",
    "    seed: int,\n",
    "    shots: int = 5000,\n",
    ") -> float:\n",
    "    # step 1: get state guess\n",
    "    my_prep_circuit = qaoa_max_cut_circuit(\n",
    "        max_cut_graph_edges, n_nodes, guess_mixer_angles, guess_cost_angles\n",
    "    )\n",
    "    measured_circ = my_prep_circuit.copy().measure_all()\n",
    "    compiler_pass(measured_circ)\n",
    "    res = backend.run_circuit(measured_circ, shots, seed=seed)\n",
    "\n",
    "    return get_max_cut_energy(max_cut_graph_edges, res)"
   ]
  },
  {
   "cell_type": "markdown",
   "id": "2c01c28b",
   "metadata": {
    "slideshow": {
     "slide_type": "slide"
    }
   },
   "source": [
    "## Optimise Energy by Guessing Parameters"
   ]
  },
  {
   "cell_type": "code",
   "execution_count": 16,
   "id": "0a44bed8",
   "metadata": {
    "slideshow": {
     "slide_type": "fragment"
    }
   },
   "outputs": [],
   "source": [
    "def qaoa_optimise_energy(compiler_pass: Callable[[Circuit], bool],\n",
    "                         backend: Backend,\n",
    "                         iterations: int = 100,\n",
    "                         n: int = 3,\n",
    "                         shots: int = 5000,\n",
    "                         seed: int= 12345):\n",
    "    \n",
    "    highest_energy = 0    \n",
    "    best_guess_mixer_angles = [0 for i in range(n)]    \n",
    "    best_guess_cost_angles = [0 for i in range(n)]\n",
    "    rng = np.random.default_rng(seed)\n",
    "    # guess some angles (iterations)-times and try if they are better than the best angles found before\n",
    "    \n",
    "    for i in range(iterations):\n",
    "        \n",
    "        guess_mixer_angles = rng.uniform(0, 1, n)\n",
    "        guess_cost_angles = rng.uniform(0, 1, n)\n",
    "        \n",
    "        qaoa_energy = qaoa_instance(backend,\n",
    "                                    compiler_pass,\n",
    "                                    guess_mixer_angles,\n",
    "                                    guess_cost_angles,\n",
    "                                    seed=seed,\n",
    "                                    shots=shots)\n",
    "        \n",
    "        if(qaoa_energy > highest_energy):\n",
    "            \n",
    "            print(\"new highest energy found: \", qaoa_energy)\n",
    "            \n",
    "            best_guess_mixer_angles = np.round(guess_mixer_angles, 3)\n",
    "            best_guess_cost_angles = np.round(guess_cost_angles, 3)\n",
    "            highest_energy = qaoa_energy\n",
    "            \n",
    "    print(\"highest energy: \", highest_energy)\n",
    "    print(\"best guess mixer angles: \", best_guess_mixer_angles)\n",
    "    print(\"best guess cost angles: \", best_guess_cost_angles)\n",
    "    return best_guess_mixer_angles, best_guess_cost_angles"
   ]
  },
  {
   "cell_type": "markdown",
   "id": "d22226cc",
   "metadata": {
    "slideshow": {
     "slide_type": "slide"
    }
   },
   "source": [
    "## Calculate the State for the final Parameters"
   ]
  },
  {
   "cell_type": "code",
   "execution_count": 17,
   "id": "da46e63d",
   "metadata": {
    "slideshow": {
     "slide_type": "fragment"
    }
   },
   "outputs": [],
   "source": [
    "def qaoa_calculate(backend: Backend,\n",
    "                   compiler_pass: Callable[[Circuit], bool],\n",
    "                   shots: int = 5000,\n",
    "                   iterations: int = 100,\n",
    "                   seed: int = 12345,\n",
    "                  ) -> BackendResult:\n",
    "    \n",
    "    # find the parameters for the highest energy\n",
    "    best_mixer, best_cost = qaoa_optimise_energy(compiler_pass,\n",
    "                                                 backend,\n",
    "                                                 iterations,\n",
    "                                                 3,\n",
    "                                                 shots=shots,\n",
    "                                                 seed=seed)\n",
    "    \n",
    "    # get the circuit with the final parameters of the optimisation:\n",
    "    my_qaoa_circuit = qaoa_max_cut_circuit(max_cut_graph_edges,\n",
    "                                           n_nodes,\n",
    "                                           best_mixer,\n",
    "                                           best_cost)\n",
    "\n",
    "    my_qaoa_circuit.measure_all()\n",
    "\n",
    "    compiler_pass(my_qaoa_circuit)\n",
    "    handle = backend.process_circuit(my_qaoa_circuit, shots, seed=seed)\n",
    "\n",
    "    result = backend.get_result(handle)    \n",
    "    \n",
    "    return result"
   ]
  },
  {
   "cell_type": "markdown",
   "id": "9dd97e10",
   "metadata": {
    "slideshow": {
     "slide_type": "slide"
    }
   },
   "source": [
    "## Results with the Noiseless Simulator"
   ]
  },
  {
   "cell_type": "code",
   "execution_count": 18,
   "id": "e7afb38e",
   "metadata": {
    "slideshow": {
     "slide_type": "fragment"
    }
   },
   "outputs": [],
   "source": [
    "from pytket.extensions.qiskit import AerBackend\n",
    "\n",
    "backend = AerBackend()\n",
    "comp = backend.get_compiled_circuit"
   ]
  },
  {
   "cell_type": "code",
   "execution_count": 18,
   "id": "aaea7e2f",
   "metadata": {
    "slideshow": {
     "slide_type": "slide"
    }
   },
   "outputs": [
    {
     "name": "stdout",
     "output_type": "stream",
     "text": [
      "new highest energy found:  3.1432\n",
      "new highest energy found:  3.283599999999999\n",
      "new highest energy found:  4.361\n",
      "new highest energy found:  4.925600000000001\n",
      "new highest energy found:  4.941999999999999\n",
      "highest energy:  4.941999999999999\n",
      "best guess mixer angles:  [0.392 0.247 0.138]\n",
      "best guess cost angles:  [0.592 0.738 0.608]\n",
      "CPU times: user 35.1 s, sys: 7.19 ms, total: 35.1 s\n",
      "Wall time: 35.1 s\n"
     ]
    }
   ],
   "source": [
    "%%time\n",
    "res = qaoa_calculate(backend, backend.default_compilation_pass(2).apply, shots = 5000, iterations = 100, seed=12345)"
   ]
  },
  {
   "cell_type": "code",
   "execution_count": 16,
   "id": "3b86301e-7645-4553-be38-3ebf89eedd37",
   "metadata": {},
   "outputs": [
    {
     "name": "stdout",
     "output_type": "stream",
     "text": [
      "Success ratio 0.4252 \n"
     ]
    },
    {
     "data": {
      "image/png": "[encoded data removed]",
      "text/plain": [
       "<Figure size 432x288 with 1 Axes>"
      ]
     },
     "metadata": {
      "needs_background": "light"
     },
     "output_type": "display_data"
    }
   ],
   "source": [
    "from maxcut_plotting import plot_maxcut_results\n",
    "\n",
    "plot_maxcut_results(res, 6)"
   ]
  },
  {
   "cell_type": "markdown",
   "id": "6e36c4fb-a118-4ab8-be01-77a674f273e3",
   "metadata": {},
   "source": [
    "Here the binary strings in the results correspond to the two optimal colourings of our graph."
   ]
  },
  {
   "cell_type": "code",
   "execution_count": 17,
   "id": "ffce2a97-902c-44d8-8d64-b25498752907",
   "metadata": {},
   "outputs": [
    {
     "data": {
      "image/png": "[encoded data removed]",
      "text/plain": [
       "<Figure size 432x288 with 1 Axes>"
      ]
     },
     "metadata": {},
     "output_type": "display_data"
    },
    {
     "data": {
      "image/png": "[encoded data removed]",
      "text/plain": [
       "<Figure size 432x288 with 1 Axes>"
      ]
     },
     "metadata": {},
     "output_type": "display_data"
    }
   ],
   "source": [
    "G = nx.Graph()\n",
    "G.add_edges_from(max_cut_graph_edges)\n",
    "\n",
    "H = nx.Graph()\n",
    "H.add_edges_from(max_cut_graph_edges)\n",
    "\n",
    "plt.figure(1)\n",
    "nx.draw(G, labels={node: node for node in max_cut_graph.nodes()}, node_color= ['red', 'blue', 'red','red', 'blue', 'red', 'red'])\n",
    "plt.figure(2)\n",
    "nx.draw(H, labels={node: node for node in max_cut_graph.nodes()}, node_color= ['blue', 'red', 'blue', 'blue', 'red', 'blue', 'blue'])\n",
    "\n",
    "plt.show()"
   ]
  }
 ],
 "metadata": {
  "celltoolbar": "Slideshow",
  "kernelspec": {
   "display_name": "Python 3 [Default]",
   "language": "python",
   "name": "python3"
  },
  "language_info": {
   "codemirror_mode": {
    "name": "ipython",
    "version": 3
   },
   "file_extension": ".py",
   "mimetype": "text/x-python",
   "name": "python",
   "nbconvert_exporter": "python",
   "pygments_lexer": "ipython3",
   "version": "3.9.10"
  },
  "vscode": {
   "interpreter": {
    "hash": "3289aa74b4cc5b65254d7b081e6c83acb4efa1b1c1d2fe845644451ee4b44b02"
   }
  }
 },
 "nbformat": 4,
 "nbformat_minor": 5
}
