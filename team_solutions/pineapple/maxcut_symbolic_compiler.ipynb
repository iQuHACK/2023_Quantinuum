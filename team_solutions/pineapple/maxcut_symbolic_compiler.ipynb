{
 "cells": [
  {
   "cell_type": "markdown",
   "id": "a3ba3449",
   "metadata": {
    "slideshow": {
     "slide_type": "slide"
    }
   },
   "source": [
    "## The Quantum Approximate Optimisation Algorithm (QAOA) using TKET.\n",
    "\n",
    "Callum Macpherson"
   ]
  },
  {
   "cell_type": "markdown",
   "id": "45668632",
   "metadata": {
    "slideshow": {
     "slide_type": "subslide"
    }
   },
   "source": [
    "## The Max-Cut problem"
   ]
  },
  {
   "cell_type": "code",
   "execution_count": 1,
   "id": "9456fbeb",
   "metadata": {
    "slideshow": {
     "slide_type": "fragment"
    }
   },
   "outputs": [
    {
     "data": {
      "image/png": "[encoded data removed]",
      "text/plain": [
       "<Figure size 144x144 with 1 Axes>"
      ]
     },
     "metadata": {},
     "output_type": "display_data"
    }
   ],
   "source": [
    "import networkx as nx\n",
    "import matplotlib.pyplot as plt\n",
    "G = nx.Graph()\n",
    "G.add_edges_from([(0,1), (1,2), (2,0)])\n",
    "plt.figure(figsize=(2,2))\n",
    "nx.draw(G, node_color=['red', 'blue', 'red'])\n",
    "plt.show()"
   ]
  },
  {
   "cell_type": "markdown",
   "id": "cad41481",
   "metadata": {
    "slideshow": {
     "slide_type": "fragment"
    }
   },
   "source": [
    "There are \\\\(2^3\\\\) possible assignments of colour to nodes. In general there are \\\\( 2^n \\\\). The Max-cut problem can then be stated as that of finding the colour assignment which maximises the number of edges between vertices of a different colour."
   ]
  },
  {
   "cell_type": "markdown",
   "id": "7389bbe5",
   "metadata": {
    "slideshow": {
     "slide_type": "subslide"
    }
   },
   "source": [
    "## Quantum Approximate Optimization Algorithm (QAOA)\n",
    "\n",
    "Introduced in 'A Quantum Approximate Optimization Algorithm' (found at https://arxiv.org/abs/1411.4028). The idea is to prepare a quantum state which encodes a solution to the Max-cut problem.\n",
    "\n",
    "\n",
    "This is a variational algorithm, which is to say that a paramaterised state is prepared, with the parameters varied to improve the solution. We will have $2p$ parameters where p is our number of layers. In particular, the state prepared has the form \n",
    "\n",
    "\n",
    "\n",
    "\\\\[ \\left| \\psi \\left( \\beta, \\gamma \\right) \\right\\rangle = U \\left( \\beta_m \\right) U \\left( \\gamma_m \\right) ... U \\left( \\beta_0 \\right) U \\left( \\gamma_0 \\right) \\left| \\psi_0 \\right\\rangle \\\\]\n",
    "where\n",
    "\\\\[ U \\left( \\beta_i \\right) = e^{i \\beta H_B} \\quad \\& \\quad U \\left( \\gamma_i \\right) = e^{i \\gamma H_P} \\\\]\n",
    "with \\\\( H_B \\\\) and \\\\( H_P \\\\) depending on the problem instance. "
   ]
  },
  {
   "cell_type": "markdown",
   "id": "3596e66d",
   "metadata": {},
   "source": [
    "## Cost function for Maxcut\n",
    "$$\n",
    "\\begin{equation}\n",
    "C= \\sum_{(i,j)} x_i(1-x_j)\n",
    "\\end{equation}\n",
    "$$"
   ]
  },
  {
   "cell_type": "markdown",
   "id": "d720b387",
   "metadata": {
    "slideshow": {
     "slide_type": "subslide"
    }
   },
   "source": [
    "For the previous 3 vertex graph the *problem Hamiltonian* is\n",
    "\\\\[ H_P = \\frac{1}{2} \\big[ \\left( Z \\otimes Z \\otimes I \\right) + \\left( Z \\otimes I \\otimes Z \\right) + \\left( I \\otimes Z \\otimes Z \\right) \\big] \\\\]\n",
    "\n",
    "\n",
    "where you will notice that there is a \\\\( Z \\otimes Z \\\\) acting between each vertex which is connected by an edge."
   ]
  },
  {
   "cell_type": "markdown",
   "id": "8ca2e1b9",
   "metadata": {
    "slideshow": {
     "slide_type": "fragment"
    }
   },
   "source": [
    "The *mixer Hamiltonian* has the form \n",
    "\\\\[ H_B =   \\left( X \\otimes I \\otimes I \\right) + \\left( I \\otimes X \\otimes I \\right) + \\left( I \\otimes I \\otimes X \\right)  \\\\]\n",
    "\n",
    "\n",
    "where you will notice that there is an \\\\( X \\\\) acting on each vertex."
   ]
  },
  {
   "cell_type": "markdown",
   "id": "de6b9e03",
   "metadata": {},
   "source": [
    "## Cost function for Maxcut\n",
    "\n",
    "A solution to maxcut can be found by maximising the following cost function $C$ .\n",
    "\n",
    "\n",
    "\n",
    "$$\n",
    "\\begin{equation}\n",
    "C= \\sum_{(i,j)} x_i(1-x_j)\n",
    "\\end{equation}\n",
    "$$\n",
    "\n",
    "Here $x_i$ and $x_j$ are the the \"colours\" of each vertex.  \n",
    "\n",
    "$$\n",
    "\\begin{equation}\n",
    "x_i,x_j \\in \\{0,1\\}\n",
    "\\end{equation}\n",
    "$$\n",
    "\n",
    "$x_i(1-x_j)=0$ if $x_i=x_j$ and $ x_i(1-x_j)=1$ if the terms are not equal."
   ]
  },
  {
   "cell_type": "markdown",
   "id": "61d4e798",
   "metadata": {
    "slideshow": {
     "slide_type": "slide"
    }
   },
   "source": [
    "We want to encode our Maxcut cost function as a Hamiltonain. To do this we can perform the following translation.\n",
    "\n",
    "$$\n",
    "\\begin{equation}\n",
    "x_i \\mapsto \\frac{1}{2}(1-Z_i)\n",
    "\\end{equation}\n",
    "$$\n",
    "\n",
    "\n",
    "The Pauli Z operator can be used to distinguish between the $|0\\rangle$ and $|1\\rangle$ basis states as these are eigenstates with eigenvalues $\\pm 1$ .\n",
    "\n",
    "$$\n",
    "\\begin{equation}\n",
    "H_P = \\frac{1}{2}\\sum_{<jk>} (-Z_j \\,Z_k +I )\n",
    "\\end{equation}\n",
    "$$\n",
    "\n",
    "\n",
    "$$\n",
    "\\begin{equation}\n",
    "H_B = \\sum_i X_i\n",
    "\\end{equation}\n",
    "$$\n",
    "\n",
    "Here we use the the convention that $X_i$ means a Pauli X operator will be applied to the \"ith\" qubit and the identity operator will be applied to all other qubits in the circuit."
   ]
  },
  {
   "cell_type": "code",
   "execution_count": 2,
   "id": "aeb6abd9",
   "metadata": {
    "slideshow": {
     "slide_type": "skip"
    }
   },
   "outputs": [],
   "source": [
    "import warnings\n",
    "warnings.filterwarnings(\"ignore\")"
   ]
  },
  {
   "cell_type": "markdown",
   "id": "3cbb783a",
   "metadata": {
    "slideshow": {
     "slide_type": "slide"
    }
   },
   "source": [
    "# Circuit Construction for QAOA"
   ]
  },
  {
   "cell_type": "code",
   "execution_count": 3,
   "id": "688f1332",
   "metadata": {
    "slideshow": {
     "slide_type": "slide"
    }
   },
   "outputs": [
    {
     "data": {
      "image/png": "[encoded data removed]",
      "text/plain": [
       "<Figure size 432x288 with 1 Axes>"
      ]
     },
     "metadata": {},
     "output_type": "display_data"
    }
   ],
   "source": [
    "import networkx as nx\n",
    "\n",
    "max_cut_graph_edges = [(0,1), (1,2), (1,3), (3,4), (4,5), (4,6)]\n",
    "n_nodes = 7\n",
    "\n",
    "max_cut_graph = nx.Graph()\n",
    "max_cut_graph.add_edges_from(max_cut_graph_edges)\n",
    "nx.draw(max_cut_graph, labels={node: node for node in max_cut_graph.nodes()})\n",
    "\n",
    "expected_results = [(0,1,0,0,1,0,0), (1,0,1,1,0,1,1)]"
   ]
  },
  {
   "cell_type": "markdown",
   "id": "18a5bd16",
   "metadata": {
    "slideshow": {
     "slide_type": "slide"
    }
   },
   "source": [
    "## Define Cost Hamiltonian: $\\gamma H$"
   ]
  },
  {
   "cell_type": "markdown",
   "id": "543f87ca",
   "metadata": {},
   "source": [
    "$$\n",
    "\\begin{equation}\n",
    "H_P = \\frac{1}{2}\\sum_{<jk>} (-Z_j \\,Z_k +I )\n",
    "\\end{equation}\n",
    "$$"
   ]
  },
  {
   "cell_type": "code",
   "execution_count": 35,
   "id": "99226b24",
   "metadata": {
    "scrolled": true,
    "slideshow": {
     "slide_type": "fragment"
    }
   },
   "outputs": [
    {
     "name": "stdout",
     "output_type": "stream",
     "text": [
      "{(): 3.0*cost0_5, (Zq[0], Zq[1]): -0.5*cost0_5, (Zq[1], Zq[2]): -0.5*cost0_5, (Zq[1], Zq[3]): -0.5*cost0_5, (Zq[3], Zq[4]): -0.5*cost0_5, (Zq[4], Zq[5]): -0.5*cost0_5, (Zq[4], Zq[6]): -0.5*cost0_5}\n"
     ]
    }
   ],
   "source": [
    "from typing import List, Tuple, Any\n",
    "from pytket.utils import QubitPauliOperator\n",
    "from pytket.circuit import fresh_symbol\n",
    "from pytket.pauli import QubitPauliString, Pauli\n",
    "from pytket import Qubit\n",
    "\n",
    "cost0 = fresh_symbol(\"cost0\")\n",
    "cost1 = fresh_symbol(\"cost1\")\n",
    "cost2 = fresh_symbol(\"cost2\")\n",
    "mixer0 = fresh_symbol(\"mixer0\")\n",
    "mixer1 = fresh_symbol(\"mixer1\")\n",
    "mixer2 = fresh_symbol(\"mixer2\")\n",
    "vardict = {0: cost0, 1: cost1, 2: cost2, 3: mixer0, 4: mixer1, 5: mixer2}\n",
    "\n",
    "\n",
    "def qaoa_graph_to_cost_hamiltonian(edges: List[Tuple[int, int]], name) -> QubitPauliOperator:\n",
    "    qpo_dict = {QubitPauliString(): float(len(edges))*0.5*name}\n",
    "    for e in edges:\n",
    "        term_string = QubitPauliString([Qubit(e[0]), Qubit(e[1])], [Pauli.Z, Pauli.Z])\n",
    "        qpo_dict[term_string] = -0.5*name\n",
    "    return QubitPauliOperator(qpo_dict)\n",
    "\n",
    "cost_ham_qpo = qaoa_graph_to_cost_hamiltonian(max_cut_graph_edges, cost0)\n",
    "print(cost_ham_qpo)"
   ]
  },
  {
   "cell_type": "markdown",
   "id": "6da499ac",
   "metadata": {
    "slideshow": {
     "slide_type": "fragment"
    }
   },
   "source": [
    "$$\n",
    "\\begin{equation}\n",
    "H_P = 3 I^{\\otimes 6} -0.5 \\big[ Z_0 Z_1 + Z_1 Z_2 +Z_1 Z_3 +Z_3 Z_4 +Z_4 Z_5 +Z_4 Z_6  \\big]\n",
    "\\end{equation}\n",
    "$$\n",
    "\n",
    "Using the same index convention as above"
   ]
  },
  {
   "cell_type": "markdown",
   "id": "785ff56c",
   "metadata": {
    "slideshow": {
     "slide_type": "slide"
    }
   },
   "source": [
    "## Hamiltonian Circuit"
   ]
  },
  {
   "cell_type": "code",
   "execution_count": 36,
   "id": "11fe9917",
   "metadata": {
    "slideshow": {
     "slide_type": "fragment"
    }
   },
   "outputs": [
    {
     "data": {
      "text/html": [
       "\n",
       "\n",
       "\n",
       "\n",
       "\n",
       "\n",
       "<iframe srcdoc=\"\n",
       "&lt;!DOCTYPE html&gt;\n",
       "&lt;html lang=&#34;en&#34;&gt;\n",
       "&lt;head&gt;\n",
       "    &lt;meta charset=&#34;UTF-8&#34;&gt;\n",
       "    &lt;script type=&#34;application/javascript&#34; src=&#34;https://cdn.jsdelivr.net/npm/vue@3&#34;&gt;&lt;/script&gt;\n",
       "    &lt;script type=&#34;application/javascript&#34; src=&#34;https://unpkg.com/pytket-circuit-renderer@0.3/dist/pytket-circuit-renderer.umd.js&#34;&gt;&lt;/script&gt;\n",
       "    &lt;link rel=&#34;stylesheet&#34; href=&#34;https://unpkg.com/pytket-circuit-renderer@0.3/dist/pytket-circuit-renderer.css&#34;&gt;\n",
       "&lt;/head&gt;\n",
       "&lt;body&gt;\n",
       "    &lt;div id=&#34;circuit-display-vue-container-3e76888e-6169-4e86-be89-dba35a3c20d8&#34; class=&#34;pytket-circuit-display-container&#34;&gt;\n",
       "        &lt;div style=&#34;display: none&#34;&gt;\n",
       "            &lt;div id=&#34;circuit-json-to-display&#34;&gt;{&#34;bits&#34;: [], &#34;commands&#34;: [{&#34;args&#34;: [[&#34;q&#34;, [0]], [&#34;q&#34;, [1]], [&#34;q&#34;, [2]], [&#34;q&#34;, [3]], [&#34;q&#34;, [4]], [&#34;q&#34;, [5]], [&#34;q&#34;, [6]]], &#34;op&#34;: {&#34;box&#34;: {&#34;circuit&#34;: {&#34;bits&#34;: [], &#34;commands&#34;: [{&#34;args&#34;: [[&#34;q&#34;, [0]], [&#34;q&#34;, [1]]], &#34;op&#34;: {&#34;box&#34;: {&#34;id&#34;: &#34;7904a741-3fb6-4372-9ce3-8863516a8a3a&#34;, &#34;paulis&#34;: [&#34;Z&#34;, &#34;Z&#34;], &#34;phase&#34;: &#34;-0.5*cost0_5&#34;, &#34;type&#34;: &#34;PauliExpBox&#34;}, &#34;type&#34;: &#34;PauliExpBox&#34;}}, {&#34;args&#34;: [[&#34;q&#34;, [1]], [&#34;q&#34;, [2]]], &#34;op&#34;: {&#34;box&#34;: {&#34;id&#34;: &#34;37e76153-a131-4661-b0bf-dd9ccae73b45&#34;, &#34;paulis&#34;: [&#34;Z&#34;, &#34;Z&#34;], &#34;phase&#34;: &#34;-0.5*cost0_5&#34;, &#34;type&#34;: &#34;PauliExpBox&#34;}, &#34;type&#34;: &#34;PauliExpBox&#34;}}, {&#34;args&#34;: [[&#34;q&#34;, [1]], [&#34;q&#34;, [3]]], &#34;op&#34;: {&#34;box&#34;: {&#34;id&#34;: &#34;6479266b-5a28-4245-821f-407e1b4343f3&#34;, &#34;paulis&#34;: [&#34;Z&#34;, &#34;Z&#34;], &#34;phase&#34;: &#34;-0.5*cost0_5&#34;, &#34;type&#34;: &#34;PauliExpBox&#34;}, &#34;type&#34;: &#34;PauliExpBox&#34;}}, {&#34;args&#34;: [[&#34;q&#34;, [3]], [&#34;q&#34;, [4]]], &#34;op&#34;: {&#34;box&#34;: {&#34;id&#34;: &#34;cfd93efb-25a6-4cdf-86bb-89020de2c47c&#34;, &#34;paulis&#34;: [&#34;Z&#34;, &#34;Z&#34;], &#34;phase&#34;: &#34;-0.5*cost0_5&#34;, &#34;type&#34;: &#34;PauliExpBox&#34;}, &#34;type&#34;: &#34;PauliExpBox&#34;}}, {&#34;args&#34;: [[&#34;q&#34;, [4]], [&#34;q&#34;, [5]]], &#34;op&#34;: {&#34;box&#34;: {&#34;id&#34;: &#34;d1581d6f-b1b5-41e6-8bc9-7caa4bd1d4e9&#34;, &#34;paulis&#34;: [&#34;Z&#34;, &#34;Z&#34;], &#34;phase&#34;: &#34;-0.5*cost0_5&#34;, &#34;type&#34;: &#34;PauliExpBox&#34;}, &#34;type&#34;: &#34;PauliExpBox&#34;}}, {&#34;args&#34;: [[&#34;q&#34;, [4]], [&#34;q&#34;, [6]]], &#34;op&#34;: {&#34;box&#34;: {&#34;id&#34;: &#34;b3d5ce1e-6a1a-4349-83a7-73769f3d2647&#34;, &#34;paulis&#34;: [&#34;Z&#34;, &#34;Z&#34;], &#34;phase&#34;: &#34;-0.5*cost0_5&#34;, &#34;type&#34;: &#34;PauliExpBox&#34;}, &#34;type&#34;: &#34;PauliExpBox&#34;}}], &#34;created_qubits&#34;: [], &#34;discarded_qubits&#34;: [], &#34;implicit_permutation&#34;: [[[&#34;q&#34;, [0]], [&#34;q&#34;, [0]]], [[&#34;q&#34;, [1]], [&#34;q&#34;, [1]]], [[&#34;q&#34;, [2]], [&#34;q&#34;, [2]]], [[&#34;q&#34;, [3]], [&#34;q&#34;, [3]]], [[&#34;q&#34;, [4]], [&#34;q&#34;, [4]]], [[&#34;q&#34;, [5]], [&#34;q&#34;, [5]]], [[&#34;q&#34;, [6]], [&#34;q&#34;, [6]]]], &#34;phase&#34;: &#34;-1.5*cost0_5&#34;, &#34;qubits&#34;: [[&#34;q&#34;, [0]], [&#34;q&#34;, [1]], [&#34;q&#34;, [2]], [&#34;q&#34;, [3]], [&#34;q&#34;, [4]], [&#34;q&#34;, [5]], [&#34;q&#34;, [6]]]}, &#34;id&#34;: &#34;b297acbf-1860-4290-a6a0-29b1f4008449&#34;, &#34;type&#34;: &#34;CircBox&#34;}, &#34;type&#34;: &#34;CircBox&#34;}}], &#34;created_qubits&#34;: [], &#34;discarded_qubits&#34;: [], &#34;implicit_permutation&#34;: [[[&#34;q&#34;, [0]], [&#34;q&#34;, [0]]], [[&#34;q&#34;, [1]], [&#34;q&#34;, [1]]], [[&#34;q&#34;, [2]], [&#34;q&#34;, [2]]], [[&#34;q&#34;, [3]], [&#34;q&#34;, [3]]], [[&#34;q&#34;, [4]], [&#34;q&#34;, [4]]], [[&#34;q&#34;, [5]], [&#34;q&#34;, [5]]], [[&#34;q&#34;, [6]], [&#34;q&#34;, [6]]]], &#34;phase&#34;: &#34;0.0&#34;, &#34;qubits&#34;: [[&#34;q&#34;, [0]], [&#34;q&#34;, [1]], [&#34;q&#34;, [2]], [&#34;q&#34;, [3]], [&#34;q&#34;, [4]], [&#34;q&#34;, [5]], [&#34;q&#34;, [6]]]}&lt;/div&gt;\n",
       "        &lt;/div&gt;\n",
       "        &lt;circuit-display-container :circuit-element-str=&#34;&#39;#circuit-json-to-display&#39;&#34;&gt;&lt;/circuit-display-container&gt;\n",
       "    &lt;/div&gt;\n",
       "    &lt;script type=&#34;application/javascript&#34;&gt;\n",
       "        const { createApp } = Vue;\n",
       "        const circuitDisplayContainer = window[&#34;pytket-circuit-renderer&#34;].default;\n",
       "        // Init variables to be shared between circuit display instances\n",
       "        if (typeof window.pytketCircuitDisplays === &#34;undefined&#34;) {\n",
       "            window.pytketCircuitDisplays = {};\n",
       "        }\n",
       "        const uid = &#34;3e76888e-6169-4e86-be89-dba35a3c20d8&#34;;\n",
       "        // Create the root Vue component\n",
       "        const app = createApp({\n",
       "            delimiters: [&#39;[[#&#39;, &#39;#]]&#39;],\n",
       "            components: { circuitDisplayContainer },\n",
       "        })\n",
       "        app.config.unwrapInjectedRef = true;\n",
       "        app.mount(&#34;#circuit-display-vue-container-&#34;+uid);\n",
       "        window.pytketCircuitDisplays[uid] = app;\n",
       "    &lt;/script&gt;\n",
       "&lt;/body&gt;\n",
       "&lt;/html&gt;\n",
       "\"\n",
       "        width=\"100%\" height=\"200px\"\n",
       "        style=\"border: none; outline: none; resize: vertical; overflow: auto\"></iframe>\n",
       "\n"
      ],
      "text/plain": [
       "<IPython.core.display.HTML object>"
      ]
     },
     "metadata": {},
     "output_type": "display_data"
    }
   ],
   "source": [
    "from pytket.utils import gen_term_sequence_circuit\n",
    "from pytket import Circuit\n",
    "from pytket.circuit import display\n",
    "\n",
    "cost_ham_circuit = gen_term_sequence_circuit(cost_ham_qpo, Circuit(n_nodes))\n",
    "display.render_circuit_jupyter(cost_ham_circuit)"
   ]
  },
  {
   "cell_type": "code",
   "execution_count": 37,
   "id": "9057c55f",
   "metadata": {
    "slideshow": {
     "slide_type": "slide"
    }
   },
   "outputs": [
    {
     "data": {
      "text/html": [
       "\n",
       "\n",
       "\n",
       "\n",
       "\n",
       "\n",
       "<iframe srcdoc=\"\n",
       "&lt;!DOCTYPE html&gt;\n",
       "&lt;html lang=&#34;en&#34;&gt;\n",
       "&lt;head&gt;\n",
       "    &lt;meta charset=&#34;UTF-8&#34;&gt;\n",
       "    &lt;script type=&#34;application/javascript&#34; src=&#34;https://cdn.jsdelivr.net/npm/vue@3&#34;&gt;&lt;/script&gt;\n",
       "    &lt;script type=&#34;application/javascript&#34; src=&#34;https://unpkg.com/pytket-circuit-renderer@0.3/dist/pytket-circuit-renderer.umd.js&#34;&gt;&lt;/script&gt;\n",
       "    &lt;link rel=&#34;stylesheet&#34; href=&#34;https://unpkg.com/pytket-circuit-renderer@0.3/dist/pytket-circuit-renderer.css&#34;&gt;\n",
       "&lt;/head&gt;\n",
       "&lt;body&gt;\n",
       "    &lt;div id=&#34;circuit-display-vue-container-39a6394e-8e34-4d55-8825-c8d2a062c8aa&#34; class=&#34;pytket-circuit-display-container&#34;&gt;\n",
       "        &lt;div style=&#34;display: none&#34;&gt;\n",
       "            &lt;div id=&#34;circuit-json-to-display&#34;&gt;{&#34;bits&#34;: [], &#34;commands&#34;: [{&#34;args&#34;: [[&#34;q&#34;, [1]], [&#34;q&#34;, [0]]], &#34;op&#34;: {&#34;type&#34;: &#34;CX&#34;}}, {&#34;args&#34;: [[&#34;q&#34;, [0]]], &#34;op&#34;: {&#34;params&#34;: [&#34;-0.5*cost0_5&#34;], &#34;type&#34;: &#34;Rz&#34;}}, {&#34;args&#34;: [[&#34;q&#34;, [1]], [&#34;q&#34;, [0]]], &#34;op&#34;: {&#34;type&#34;: &#34;CX&#34;}}, {&#34;args&#34;: [[&#34;q&#34;, [2]], [&#34;q&#34;, [1]]], &#34;op&#34;: {&#34;type&#34;: &#34;CX&#34;}}, {&#34;args&#34;: [[&#34;q&#34;, [1]]], &#34;op&#34;: {&#34;params&#34;: [&#34;-0.5*cost0_5&#34;], &#34;type&#34;: &#34;Rz&#34;}}, {&#34;args&#34;: [[&#34;q&#34;, [2]], [&#34;q&#34;, [1]]], &#34;op&#34;: {&#34;type&#34;: &#34;CX&#34;}}, {&#34;args&#34;: [[&#34;q&#34;, [3]], [&#34;q&#34;, [1]]], &#34;op&#34;: {&#34;type&#34;: &#34;CX&#34;}}, {&#34;args&#34;: [[&#34;q&#34;, [1]]], &#34;op&#34;: {&#34;params&#34;: [&#34;-0.5*cost0_5&#34;], &#34;type&#34;: &#34;Rz&#34;}}, {&#34;args&#34;: [[&#34;q&#34;, [3]], [&#34;q&#34;, [1]]], &#34;op&#34;: {&#34;type&#34;: &#34;CX&#34;}}, {&#34;args&#34;: [[&#34;q&#34;, [4]], [&#34;q&#34;, [3]]], &#34;op&#34;: {&#34;type&#34;: &#34;CX&#34;}}, {&#34;args&#34;: [[&#34;q&#34;, [3]]], &#34;op&#34;: {&#34;params&#34;: [&#34;-0.5*cost0_5&#34;], &#34;type&#34;: &#34;Rz&#34;}}, {&#34;args&#34;: [[&#34;q&#34;, [4]], [&#34;q&#34;, [3]]], &#34;op&#34;: {&#34;type&#34;: &#34;CX&#34;}}, {&#34;args&#34;: [[&#34;q&#34;, [5]], [&#34;q&#34;, [4]]], &#34;op&#34;: {&#34;type&#34;: &#34;CX&#34;}}, {&#34;args&#34;: [[&#34;q&#34;, [4]]], &#34;op&#34;: {&#34;params&#34;: [&#34;-0.5*cost0_5&#34;], &#34;type&#34;: &#34;Rz&#34;}}, {&#34;args&#34;: [[&#34;q&#34;, [5]], [&#34;q&#34;, [4]]], &#34;op&#34;: {&#34;type&#34;: &#34;CX&#34;}}, {&#34;args&#34;: [[&#34;q&#34;, [6]], [&#34;q&#34;, [4]]], &#34;op&#34;: {&#34;type&#34;: &#34;CX&#34;}}, {&#34;args&#34;: [[&#34;q&#34;, [4]]], &#34;op&#34;: {&#34;params&#34;: [&#34;-0.5*cost0_5&#34;], &#34;type&#34;: &#34;Rz&#34;}}, {&#34;args&#34;: [[&#34;q&#34;, [6]], [&#34;q&#34;, [4]]], &#34;op&#34;: {&#34;type&#34;: &#34;CX&#34;}}], &#34;created_qubits&#34;: [], &#34;discarded_qubits&#34;: [], &#34;implicit_permutation&#34;: [[[&#34;q&#34;, [0]], [&#34;q&#34;, [0]]], [[&#34;q&#34;, [1]], [&#34;q&#34;, [1]]], [[&#34;q&#34;, [2]], [&#34;q&#34;, [2]]], [[&#34;q&#34;, [3]], [&#34;q&#34;, [3]]], [[&#34;q&#34;, [4]], [&#34;q&#34;, [4]]], [[&#34;q&#34;, [5]], [&#34;q&#34;, [5]]], [[&#34;q&#34;, [6]], [&#34;q&#34;, [6]]]], &#34;phase&#34;: &#34;-1.5*cost0_5&#34;, &#34;qubits&#34;: [[&#34;q&#34;, [0]], [&#34;q&#34;, [1]], [&#34;q&#34;, [2]], [&#34;q&#34;, [3]], [&#34;q&#34;, [4]], [&#34;q&#34;, [5]], [&#34;q&#34;, [6]]]}&lt;/div&gt;\n",
       "        &lt;/div&gt;\n",
       "        &lt;circuit-display-container :circuit-element-str=&#34;&#39;#circuit-json-to-display&#39;&#34;&gt;&lt;/circuit-display-container&gt;\n",
       "    &lt;/div&gt;\n",
       "    &lt;script type=&#34;application/javascript&#34;&gt;\n",
       "        const { createApp } = Vue;\n",
       "        const circuitDisplayContainer = window[&#34;pytket-circuit-renderer&#34;].default;\n",
       "        // Init variables to be shared between circuit display instances\n",
       "        if (typeof window.pytketCircuitDisplays === &#34;undefined&#34;) {\n",
       "            window.pytketCircuitDisplays = {};\n",
       "        }\n",
       "        const uid = &#34;39a6394e-8e34-4d55-8825-c8d2a062c8aa&#34;;\n",
       "        // Create the root Vue component\n",
       "        const app = createApp({\n",
       "            delimiters: [&#39;[[#&#39;, &#39;#]]&#39;],\n",
       "            components: { circuitDisplayContainer },\n",
       "        })\n",
       "        app.config.unwrapInjectedRef = true;\n",
       "        app.mount(&#34;#circuit-display-vue-container-&#34;+uid);\n",
       "        window.pytketCircuitDisplays[uid] = app;\n",
       "    &lt;/script&gt;\n",
       "&lt;/body&gt;\n",
       "&lt;/html&gt;\n",
       "\"\n",
       "        width=\"100%\" height=\"200px\"\n",
       "        style=\"border: none; outline: none; resize: vertical; overflow: auto\"></iframe>\n",
       "\n"
      ],
      "text/plain": [
       "<IPython.core.display.HTML object>"
      ]
     },
     "metadata": {},
     "output_type": "display_data"
    }
   ],
   "source": [
    "from pytket.transform import Transform\n",
    "\n",
    "Transform.DecomposeBoxes().apply(cost_ham_circuit)\n",
    "display.render_circuit_jupyter(cost_ham_circuit)"
   ]
  },
  {
   "cell_type": "markdown",
   "id": "4690b787",
   "metadata": {
    "slideshow": {
     "slide_type": "slide"
    }
   },
   "source": [
    "## Construction of the Mixer Hamiltonian: $\\beta B$"
   ]
  },
  {
   "cell_type": "code",
   "execution_count": 38,
   "id": "296c560d",
   "metadata": {
    "slideshow": {
     "slide_type": "fragment"
    }
   },
   "outputs": [
    {
     "data": {
      "text/html": [
       "\n",
       "\n",
       "\n",
       "\n",
       "\n",
       "\n",
       "<iframe srcdoc=\"\n",
       "&lt;!DOCTYPE html&gt;\n",
       "&lt;html lang=&#34;en&#34;&gt;\n",
       "&lt;head&gt;\n",
       "    &lt;meta charset=&#34;UTF-8&#34;&gt;\n",
       "    &lt;script type=&#34;application/javascript&#34; src=&#34;https://cdn.jsdelivr.net/npm/vue@3&#34;&gt;&lt;/script&gt;\n",
       "    &lt;script type=&#34;application/javascript&#34; src=&#34;https://unpkg.com/pytket-circuit-renderer@0.3/dist/pytket-circuit-renderer.umd.js&#34;&gt;&lt;/script&gt;\n",
       "    &lt;link rel=&#34;stylesheet&#34; href=&#34;https://unpkg.com/pytket-circuit-renderer@0.3/dist/pytket-circuit-renderer.css&#34;&gt;\n",
       "&lt;/head&gt;\n",
       "&lt;body&gt;\n",
       "    &lt;div id=&#34;circuit-display-vue-container-48881dde-11ea-4536-8b82-e07428b902ec&#34; class=&#34;pytket-circuit-display-container&#34;&gt;\n",
       "        &lt;div style=&#34;display: none&#34;&gt;\n",
       "            &lt;div id=&#34;circuit-json-to-display&#34;&gt;{&#34;bits&#34;: [], &#34;commands&#34;: [{&#34;args&#34;: [[&#34;q&#34;, [0]]], &#34;op&#34;: {&#34;type&#34;: &#34;H&#34;}}, {&#34;args&#34;: [[&#34;q&#34;, [1]]], &#34;op&#34;: {&#34;type&#34;: &#34;H&#34;}}, {&#34;args&#34;: [[&#34;q&#34;, [2]]], &#34;op&#34;: {&#34;type&#34;: &#34;H&#34;}}, {&#34;args&#34;: [[&#34;q&#34;, [3]]], &#34;op&#34;: {&#34;type&#34;: &#34;H&#34;}}, {&#34;args&#34;: [[&#34;q&#34;, [4]]], &#34;op&#34;: {&#34;type&#34;: &#34;H&#34;}}, {&#34;args&#34;: [[&#34;q&#34;, [5]]], &#34;op&#34;: {&#34;type&#34;: &#34;H&#34;}}, {&#34;args&#34;: [[&#34;q&#34;, [6]]], &#34;op&#34;: {&#34;type&#34;: &#34;H&#34;}}, {&#34;args&#34;: [[&#34;q&#34;, [0]]], &#34;op&#34;: {&#34;params&#34;: [&#34;0.8&#34;], &#34;type&#34;: &#34;Rz&#34;}}, {&#34;args&#34;: [[&#34;q&#34;, [1]]], &#34;op&#34;: {&#34;params&#34;: [&#34;0.8&#34;], &#34;type&#34;: &#34;Rz&#34;}}, {&#34;args&#34;: [[&#34;q&#34;, [2]]], &#34;op&#34;: {&#34;params&#34;: [&#34;0.8&#34;], &#34;type&#34;: &#34;Rz&#34;}}, {&#34;args&#34;: [[&#34;q&#34;, [3]]], &#34;op&#34;: {&#34;params&#34;: [&#34;0.8&#34;], &#34;type&#34;: &#34;Rz&#34;}}, {&#34;args&#34;: [[&#34;q&#34;, [4]]], &#34;op&#34;: {&#34;params&#34;: [&#34;0.8&#34;], &#34;type&#34;: &#34;Rz&#34;}}, {&#34;args&#34;: [[&#34;q&#34;, [5]]], &#34;op&#34;: {&#34;params&#34;: [&#34;0.8&#34;], &#34;type&#34;: &#34;Rz&#34;}}, {&#34;args&#34;: [[&#34;q&#34;, [6]]], &#34;op&#34;: {&#34;params&#34;: [&#34;0.8&#34;], &#34;type&#34;: &#34;Rz&#34;}}, {&#34;args&#34;: [[&#34;q&#34;, [0]]], &#34;op&#34;: {&#34;type&#34;: &#34;H&#34;}}, {&#34;args&#34;: [[&#34;q&#34;, [1]]], &#34;op&#34;: {&#34;type&#34;: &#34;H&#34;}}, {&#34;args&#34;: [[&#34;q&#34;, [2]]], &#34;op&#34;: {&#34;type&#34;: &#34;H&#34;}}, {&#34;args&#34;: [[&#34;q&#34;, [3]]], &#34;op&#34;: {&#34;type&#34;: &#34;H&#34;}}, {&#34;args&#34;: [[&#34;q&#34;, [4]]], &#34;op&#34;: {&#34;type&#34;: &#34;H&#34;}}, {&#34;args&#34;: [[&#34;q&#34;, [5]]], &#34;op&#34;: {&#34;type&#34;: &#34;H&#34;}}, {&#34;args&#34;: [[&#34;q&#34;, [6]]], &#34;op&#34;: {&#34;type&#34;: &#34;H&#34;}}], &#34;created_qubits&#34;: [], &#34;discarded_qubits&#34;: [], &#34;implicit_permutation&#34;: [[[&#34;q&#34;, [0]], [&#34;q&#34;, [0]]], [[&#34;q&#34;, [1]], [&#34;q&#34;, [1]]], [[&#34;q&#34;, [2]], [&#34;q&#34;, [2]]], [[&#34;q&#34;, [3]], [&#34;q&#34;, [3]]], [[&#34;q&#34;, [4]], [&#34;q&#34;, [4]]], [[&#34;q&#34;, [5]], [&#34;q&#34;, [5]]], [[&#34;q&#34;, [6]], [&#34;q&#34;, [6]]]], &#34;phase&#34;: &#34;0.0&#34;, &#34;qubits&#34;: [[&#34;q&#34;, [0]], [&#34;q&#34;, [1]], [&#34;q&#34;, [2]], [&#34;q&#34;, [3]], [&#34;q&#34;, [4]], [&#34;q&#34;, [5]], [&#34;q&#34;, [6]]]}&lt;/div&gt;\n",
       "        &lt;/div&gt;\n",
       "        &lt;circuit-display-container :circuit-element-str=&#34;&#39;#circuit-json-to-display&#39;&#34;&gt;&lt;/circuit-display-container&gt;\n",
       "    &lt;/div&gt;\n",
       "    &lt;script type=&#34;application/javascript&#34;&gt;\n",
       "        const { createApp } = Vue;\n",
       "        const circuitDisplayContainer = window[&#34;pytket-circuit-renderer&#34;].default;\n",
       "        // Init variables to be shared between circuit display instances\n",
       "        if (typeof window.pytketCircuitDisplays === &#34;undefined&#34;) {\n",
       "            window.pytketCircuitDisplays = {};\n",
       "        }\n",
       "        const uid = &#34;48881dde-11ea-4536-8b82-e07428b902ec&#34;;\n",
       "        // Create the root Vue component\n",
       "        const app = createApp({\n",
       "            delimiters: [&#39;[[#&#39;, &#39;#]]&#39;],\n",
       "            components: { circuitDisplayContainer },\n",
       "        })\n",
       "        app.config.unwrapInjectedRef = true;\n",
       "        app.mount(&#34;#circuit-display-vue-container-&#34;+uid);\n",
       "        window.pytketCircuitDisplays[uid] = app;\n",
       "    &lt;/script&gt;\n",
       "&lt;/body&gt;\n",
       "&lt;/html&gt;\n",
       "\"\n",
       "        width=\"100%\" height=\"200px\"\n",
       "        style=\"border: none; outline: none; resize: vertical; overflow: auto\"></iframe>\n",
       "\n"
      ],
      "text/plain": [
       "<IPython.core.display.HTML object>"
      ]
     },
     "metadata": {},
     "output_type": "display_data"
    }
   ],
   "source": [
    "mixer_angle = 0.8\n",
    "mixer_ham_qpo =  QubitPauliOperator({QubitPauliString([Qubit(i)], [Pauli.X]): mixer_angle for i in range(n_nodes)})\n",
    "mixer_ham_circuit = gen_term_sequence_circuit(mixer_ham_qpo, Circuit(n_nodes))\n",
    "Transform.DecomposeBoxes().apply(mixer_ham_circuit)\n",
    "display.render_circuit_jupyter(mixer_ham_circuit)"
   ]
  },
  {
   "cell_type": "markdown",
   "id": "4d128a70",
   "metadata": {
    "slideshow": {
     "slide_type": "slide"
    }
   },
   "source": [
    "## Define the Initial State"
   ]
  },
  {
   "cell_type": "code",
   "execution_count": 39,
   "id": "0a9db628",
   "metadata": {
    "slideshow": {
     "slide_type": "fragment"
    }
   },
   "outputs": [
    {
     "data": {
      "text/html": [
       "\n",
       "\n",
       "\n",
       "\n",
       "\n",
       "\n",
       "<iframe srcdoc=\"\n",
       "&lt;!DOCTYPE html&gt;\n",
       "&lt;html lang=&#34;en&#34;&gt;\n",
       "&lt;head&gt;\n",
       "    &lt;meta charset=&#34;UTF-8&#34;&gt;\n",
       "    &lt;script type=&#34;application/javascript&#34; src=&#34;https://cdn.jsdelivr.net/npm/vue@3&#34;&gt;&lt;/script&gt;\n",
       "    &lt;script type=&#34;application/javascript&#34; src=&#34;https://unpkg.com/pytket-circuit-renderer@0.3/dist/pytket-circuit-renderer.umd.js&#34;&gt;&lt;/script&gt;\n",
       "    &lt;link rel=&#34;stylesheet&#34; href=&#34;https://unpkg.com/pytket-circuit-renderer@0.3/dist/pytket-circuit-renderer.css&#34;&gt;\n",
       "&lt;/head&gt;\n",
       "&lt;body&gt;\n",
       "    &lt;div id=&#34;circuit-display-vue-container-80e3db2f-77bb-42f9-b6c8-780e7d49c46b&#34; class=&#34;pytket-circuit-display-container&#34;&gt;\n",
       "        &lt;div style=&#34;display: none&#34;&gt;\n",
       "            &lt;div id=&#34;circuit-json-to-display&#34;&gt;{&#34;bits&#34;: [], &#34;commands&#34;: [{&#34;args&#34;: [[&#34;q&#34;, [0]]], &#34;op&#34;: {&#34;params&#34;: [&#34;1/2&#34;, &#34;1/2&#34;, &#34;1/2&#34;], &#34;type&#34;: &#34;TK1&#34;}}, {&#34;args&#34;: [[&#34;q&#34;, [1]]], &#34;op&#34;: {&#34;params&#34;: [&#34;1/2&#34;, &#34;1/2&#34;, &#34;1/2&#34;], &#34;type&#34;: &#34;TK1&#34;}}, {&#34;args&#34;: [[&#34;q&#34;, [2]]], &#34;op&#34;: {&#34;params&#34;: [&#34;1/2&#34;, &#34;1/2&#34;, &#34;1/2&#34;], &#34;type&#34;: &#34;TK1&#34;}}, {&#34;args&#34;: [[&#34;q&#34;, [3]]], &#34;op&#34;: {&#34;params&#34;: [&#34;1/2&#34;, &#34;1/2&#34;, &#34;1/2&#34;], &#34;type&#34;: &#34;TK1&#34;}}, {&#34;args&#34;: [[&#34;q&#34;, [4]]], &#34;op&#34;: {&#34;params&#34;: [&#34;1/2&#34;, &#34;1/2&#34;, &#34;1/2&#34;], &#34;type&#34;: &#34;TK1&#34;}}, {&#34;args&#34;: [[&#34;q&#34;, [5]]], &#34;op&#34;: {&#34;params&#34;: [&#34;1/2&#34;, &#34;1/2&#34;, &#34;1/2&#34;], &#34;type&#34;: &#34;TK1&#34;}}, {&#34;args&#34;: [[&#34;q&#34;, [6]]], &#34;op&#34;: {&#34;params&#34;: [&#34;1/2&#34;, &#34;1/2&#34;, &#34;1/2&#34;], &#34;type&#34;: &#34;TK1&#34;}}], &#34;created_qubits&#34;: [], &#34;discarded_qubits&#34;: [], &#34;implicit_permutation&#34;: [[[&#34;q&#34;, [0]], [&#34;q&#34;, [0]]], [[&#34;q&#34;, [1]], [&#34;q&#34;, [1]]], [[&#34;q&#34;, [2]], [&#34;q&#34;, [2]]], [[&#34;q&#34;, [3]], [&#34;q&#34;, [3]]], [[&#34;q&#34;, [4]], [&#34;q&#34;, [4]]], [[&#34;q&#34;, [5]], [&#34;q&#34;, [5]]], [[&#34;q&#34;, [6]], [&#34;q&#34;, [6]]]], &#34;phase&#34;: &#34;1.5&#34;, &#34;qubits&#34;: [[&#34;q&#34;, [0]], [&#34;q&#34;, [1]], [&#34;q&#34;, [2]], [&#34;q&#34;, [3]], [&#34;q&#34;, [4]], [&#34;q&#34;, [5]], [&#34;q&#34;, [6]]]}&lt;/div&gt;\n",
       "        &lt;/div&gt;\n",
       "        &lt;circuit-display-container :circuit-element-str=&#34;&#39;#circuit-json-to-display&#39;&#34;&gt;&lt;/circuit-display-container&gt;\n",
       "    &lt;/div&gt;\n",
       "    &lt;script type=&#34;application/javascript&#34;&gt;\n",
       "        const { createApp } = Vue;\n",
       "        const circuitDisplayContainer = window[&#34;pytket-circuit-renderer&#34;].default;\n",
       "        // Init variables to be shared between circuit display instances\n",
       "        if (typeof window.pytketCircuitDisplays === &#34;undefined&#34;) {\n",
       "            window.pytketCircuitDisplays = {};\n",
       "        }\n",
       "        const uid = &#34;80e3db2f-77bb-42f9-b6c8-780e7d49c46b&#34;;\n",
       "        // Create the root Vue component\n",
       "        const app = createApp({\n",
       "            delimiters: [&#39;[[#&#39;, &#39;#]]&#39;],\n",
       "            components: { circuitDisplayContainer },\n",
       "        })\n",
       "        app.config.unwrapInjectedRef = true;\n",
       "        app.mount(&#34;#circuit-display-vue-container-&#34;+uid);\n",
       "        window.pytketCircuitDisplays[uid] = app;\n",
       "    &lt;/script&gt;\n",
       "&lt;/body&gt;\n",
       "&lt;/html&gt;\n",
       "\"\n",
       "        width=\"100%\" height=\"200px\"\n",
       "        style=\"border: none; outline: none; resize: vertical; overflow: auto\"></iframe>\n",
       "\n"
      ],
      "text/plain": [
       "<IPython.core.display.HTML object>"
      ]
     },
     "metadata": {},
     "output_type": "display_data"
    }
   ],
   "source": [
    "from pytket.extensions.qiskit import AerBackend\n",
    "\n",
    "backend = AerBackend()\n",
    "comp = backend.get_compiled_circuit\n",
    "\n",
    "def qaoa_initial_circuit(n_qubits: int) -> Circuit:\n",
    "    c = Circuit(n_qubits)\n",
    "    for i in range(n_qubits):\n",
    "        c.H(i)\n",
    "    return c\n",
    "\n",
    "superposition_circuit = qaoa_initial_circuit(n_nodes)\n",
    "Transform.DecomposeBoxes().apply(superposition_circuit)\n",
    "backend.default_compilation_pass(2).apply(superposition_circuit)\n",
    "\n",
    "display.render_circuit_jupyter(superposition_circuit)"
   ]
  },
  {
   "cell_type": "markdown",
   "id": "da759b59",
   "metadata": {
    "slideshow": {
     "slide_type": "slide"
    }
   },
   "source": [
    "## Construct QAOA Circuit"
   ]
  },
  {
   "cell_type": "markdown",
   "id": "359a1a0f-e92e-40ae-bbe6-ce960b118f49",
   "metadata": {},
   "source": [
    "Now lets define a function to create our entire QAOA circuit. For $p$ QAOA layers we expect that our circuit will require $2p$ parameters. Here we will pass and cost mixer parameters in as a list where the length of the list defines the number of layers."
   ]
  },
  {
   "cell_type": "code",
   "execution_count": 40,
   "id": "23f8910a",
   "metadata": {
    "slideshow": {
     "slide_type": "fragment"
    }
   },
   "outputs": [],
   "source": [
    "def qaoa_max_cut_circuit(edges: List[Tuple[int, int]],\n",
    "                         n_nodes: int, length: int) -> Circuit:\n",
    "        \n",
    "    # initial state\n",
    "    qaoa_circuit = superposition_circuit.copy()    \n",
    "    # add cost and mixer terms to state\n",
    "    for index in range(length):\n",
    "        cost_ham = qaoa_graph_to_cost_hamiltonian(edges, vardict[index])\n",
    "        mixer_ham = QubitPauliOperator({QubitPauliString([Qubit(i)], [Pauli.X]): vardict[index + length] for i in range(n_nodes)})\n",
    "        qaoa_circuit.append(gen_term_sequence_circuit(cost_ham, Circuit(n_nodes)))\n",
    "        qaoa_circuit.append(gen_term_sequence_circuit(mixer_ham, Circuit(n_nodes)))\n",
    "        \n",
    "    Transform.DecomposeBoxes().apply(qaoa_circuit)\n",
    "    Transform.OptimisePhaseGadgets().apply(qaoa_circuit)\n",
    "    \n",
    "    return qaoa_circuit"
   ]
  },
  {
   "cell_type": "markdown",
   "id": "bc2f8939-41b7-476b-a5a8-09de07211079",
   "metadata": {},
   "source": [
    "We also need to extract our energy expectation values from a `BackendResult` object after our circuit is processed by the device/simulator. We do this with the `get_max_cut_energy` function below. Note that the fact that the maxcut Hamiltonian contains only commuting terms means that we do not need to calculate our energy expectation using multiple measurement circuits. This may not the the case for a different problem Hamiltonian."
   ]
  },
  {
   "cell_type": "code",
   "execution_count": 41,
   "id": "df387eea-4198-428e-9b92-4f3bceb12f0e",
   "metadata": {},
   "outputs": [],
   "source": [
    "from typing import List, Tuple\n",
    "from pytket.backends.backendresult import BackendResult\n",
    "\n",
    "def get_max_cut_energy(edges: List[Tuple[int, int]], results: BackendResult) -> float:\n",
    "    energy = 0.0\n",
    "    dist = results.get_distribution()\n",
    "    for i, j in edges:\n",
    "        energy += sum((meas[i] ^ meas[j]) * prob for meas, prob in dist.items())\n",
    "\n",
    "    return energy"
   ]
  },
  {
   "cell_type": "code",
   "execution_count": 42,
   "id": "e5abad7b-e989-4156-9708-3d8c97d8ca2a",
   "metadata": {},
   "outputs": [],
   "source": [
    "from pytket.backends.backend import Backend\n",
    "from typing import Callable\n",
    "import numpy as np\n",
    "\n",
    "def qaoa_instance(\n",
    "    backend: Backend,\n",
    "    compiler_pass: Callable[[Circuit], bool],\n",
    "    guess_mixer_angles: np.array,\n",
    "    guess_cost_angles: np.array,\n",
    "    prep_circuit: Circuit,\n",
    "    seed: int,\n",
    "    shots: int = 5000,\n",
    ") -> float:\n",
    "    # step 1: get state guess\n",
    "    measured_circ = prep_circuit.copy().measure_all()\n",
    "    symbol_dict = {}\n",
    "    for i in range(guess_mixer_angles.shape[0]):\n",
    "        symbol_dict[vardict[i]] = guess_cost_angles[i]\n",
    "        symbol_dict[vardict[i + guess_mixer_angles.shape[0]]] = guess_mixer_angles[i]\n",
    "        \n",
    "    measured_circ.symbol_substitution(symbol_dict)\n",
    "    res = backend.run_circuit(measured_circ, shots, seed=seed)\n",
    "\n",
    "    return get_max_cut_energy(max_cut_graph_edges, res)"
   ]
  },
  {
   "cell_type": "markdown",
   "id": "2c01c28b",
   "metadata": {
    "slideshow": {
     "slide_type": "slide"
    }
   },
   "source": [
    "## Optimise Energy by Guessing Parameters"
   ]
  },
  {
   "cell_type": "code",
   "execution_count": 43,
   "id": "0a44bed8",
   "metadata": {
    "slideshow": {
     "slide_type": "fragment"
    }
   },
   "outputs": [],
   "source": [
    "def qaoa_optimise_energy(compiler_pass: Callable[[Circuit], bool],\n",
    "                         backend: Backend,\n",
    "                         iterations: int = 100,\n",
    "                         n: int = 3,\n",
    "                         shots: int = 5000,\n",
    "                         seed: int= 12345):\n",
    "    \n",
    "    highest_energy = 0    \n",
    "    best_guess_mixer_angles = [0 for i in range(n)]    \n",
    "    best_guess_cost_angles = [0 for i in range(n)]\n",
    "    rng = np.random.default_rng(seed)\n",
    "    # guess some angles (iterations)-times and try if they are better than the best angles found before\n",
    "    my_prep_circuit = qaoa_max_cut_circuit(\n",
    "        max_cut_graph_edges, n_nodes, len(best_guess_mixer_angles)\n",
    "    )\n",
    "    for i in range(iterations):\n",
    "        \n",
    "        guess_mixer_angles = rng.uniform(0, 1, n)\n",
    "        guess_cost_angles = rng.uniform(0, 1, n)\n",
    "        \n",
    "        qaoa_energy = qaoa_instance(backend,\n",
    "                                    compiler_pass,\n",
    "                                    guess_mixer_angles,\n",
    "                                    guess_cost_angles,\n",
    "                                    my_prep_circuit,\n",
    "                                    seed=seed,\n",
    "                                    shots=shots)\n",
    "        \n",
    "        if(qaoa_energy > highest_energy):\n",
    "            \n",
    "            print(\"new highest energy found: \", qaoa_energy)\n",
    "            \n",
    "            best_guess_mixer_angles = np.round(guess_mixer_angles, 3)\n",
    "            best_guess_cost_angles = np.round(guess_cost_angles, 3)\n",
    "            highest_energy = qaoa_energy\n",
    "            \n",
    "    print(\"highest energy: \", highest_energy)\n",
    "    print(\"best guess mixer angles: \", best_guess_mixer_angles)\n",
    "    print(\"best guess cost angles: \", best_guess_cost_angles)\n",
    "    return best_guess_mixer_angles, best_guess_cost_angles"
   ]
  },
  {
   "cell_type": "markdown",
   "id": "d22226cc",
   "metadata": {
    "slideshow": {
     "slide_type": "slide"
    }
   },
   "source": [
    "## Calculate the State for the final Parameters"
   ]
  },
  {
   "cell_type": "code",
   "execution_count": 44,
   "id": "da46e63d",
   "metadata": {
    "slideshow": {
     "slide_type": "fragment"
    }
   },
   "outputs": [],
   "source": [
    "def qaoa_calculate(backend: Backend,\n",
    "                   compiler_pass: Callable[[Circuit], bool],\n",
    "                   shots: int = 5000,\n",
    "                   iterations: int = 100,\n",
    "                   seed: int = 12345,\n",
    "                  ) -> BackendResult:\n",
    "    \n",
    "    # find the parameters for the highest energy\n",
    "    best_mixer, best_cost = qaoa_optimise_energy(compiler_pass,\n",
    "                                                 backend,\n",
    "                                                 iterations,\n",
    "                                                 3,\n",
    "                                                 shots=shots,\n",
    "                                                 seed=seed)\n",
    "    \n",
    "    # get the circuit with the final parameters of the optimisation:\n",
    "    my_qaoa_circuit = qaoa_max_cut_circuit(max_cut_graph_edges,\n",
    "                                           n_nodes,\n",
    "                                           len(best_mixer))\n",
    "\n",
    "    final_circ = my_qaoa_circuit.copy().measure_all()\n",
    "    symbol_dict = {}\n",
    "    for i in range(len(best_mixer)):\n",
    "        symbol_dict[vardict[i]] = best_cost[i]\n",
    "        symbol_dict[vardict[i + len(best_mixer)]] = best_mixer[i]\n",
    "        \n",
    "    final_circ.symbol_substitution(symbol_dict)\n",
    "\n",
    "    compiler_pass(final_circ)\n",
    "    handle = backend.process_circuit(final_circ, shots, seed=seed)\n",
    "\n",
    "    result = backend.get_result(handle)    \n",
    "    \n",
    "    return result"
   ]
  },
  {
   "cell_type": "markdown",
   "id": "9dd97e10",
   "metadata": {
    "slideshow": {
     "slide_type": "slide"
    }
   },
   "source": [
    "## Results with the Noiseless Simulator"
   ]
  },
  {
   "cell_type": "code",
   "execution_count": 45,
   "id": "e7afb38e",
   "metadata": {
    "slideshow": {
     "slide_type": "fragment"
    }
   },
   "outputs": [],
   "source": [
    "from pytket.extensions.qiskit import AerBackend\n",
    "\n",
    "backend = AerBackend()\n",
    "comp = backend.get_compiled_circuit"
   ]
  },
  {
   "cell_type": "code",
   "execution_count": 46,
   "id": "aaea7e2f",
   "metadata": {
    "slideshow": {
     "slide_type": "slide"
    }
   },
   "outputs": [
    {
     "name": "stdout",
     "output_type": "stream",
     "text": [
      "new highest energy found:  3.1432\n",
      "new highest energy found:  3.283599999999999\n",
      "new highest energy found:  4.361\n",
      "new highest energy found:  4.925600000000001\n",
      "new highest energy found:  4.941999999999999\n",
      "highest energy:  4.941999999999999\n",
      "best guess mixer angles:  [0.392 0.247 0.138]\n",
      "best guess cost angles:  [0.592 0.738 0.608]\n",
      "CPU times: user 4.53 s, sys: 31.1 ms, total: 4.56 s\n",
      "Wall time: 4.55 s\n"
     ]
    }
   ],
   "source": [
    "%%time\n",
    "res = qaoa_calculate(backend, backend.default_compilation_pass(2).apply, shots = 5000, iterations = 100, seed=12345)"
   ]
  },
  {
   "cell_type": "code",
   "execution_count": 47,
   "id": "3b86301e-7645-4553-be38-3ebf89eedd37",
   "metadata": {},
   "outputs": [
    {
     "name": "stdout",
     "output_type": "stream",
     "text": [
      "Success ratio 0.4252 \n"
     ]
    },
    {
     "data": {
      "image/png": "[encoded data removed]",
      "text/plain": [
       "<Figure size 432x288 with 1 Axes>"
      ]
     },
     "metadata": {
      "needs_background": "light"
     },
     "output_type": "display_data"
    }
   ],
   "source": [
    "from maxcut_plotting import plot_maxcut_results\n",
    "\n",
    "plot_maxcut_results(res, 6)"
   ]
  },
  {
   "cell_type": "markdown",
   "id": "6e36c4fb-a118-4ab8-be01-77a674f273e3",
   "metadata": {},
   "source": [
    "Here the binary strings in the results correspond to the two optimal colourings of our graph."
   ]
  },
  {
   "cell_type": "code",
   "execution_count": 48,
   "id": "ffce2a97-902c-44d8-8d64-b25498752907",
   "metadata": {},
   "outputs": [
    {
     "data": {
      "image/png": "[encoded data removed]",
      "text/plain": [
       "<Figure size 432x288 with 1 Axes>"
      ]
     },
     "metadata": {},
     "output_type": "display_data"
    },
    {
     "data": {
      "image/png": "[encoded data removed]",
      "text/plain": [
       "<Figure size 432x288 with 1 Axes>"
      ]
     },
     "metadata": {},
     "output_type": "display_data"
    }
   ],
   "source": [
    "G = nx.Graph()\n",
    "G.add_edges_from(max_cut_graph_edges)\n",
    "\n",
    "H = nx.Graph()\n",
    "H.add_edges_from(max_cut_graph_edges)\n",
    "\n",
    "plt.figure(1)\n",
    "nx.draw(G, labels={node: node for node in max_cut_graph.nodes()}, node_color= ['red', 'blue', 'red','red', 'blue', 'red', 'red'])\n",
    "plt.figure(2)\n",
    "nx.draw(H, labels={node: node for node in max_cut_graph.nodes()}, node_color= ['blue', 'red', 'blue', 'blue', 'red', 'blue', 'blue'])\n",
    "\n",
    "plt.show()"
   ]
  },
  {
   "cell_type": "code",
   "execution_count": null,
   "id": "f129e390-f926-497d-a2ba-88bdc6d07378",
   "metadata": {},
   "outputs": [],
   "source": []
  }
 ],
 "metadata": {
  "celltoolbar": "Slideshow",
  "kernelspec": {
   "display_name": "Python 3 [Default]",
   "language": "python",
   "name": "python3"
  },
  "language_info": {
   "codemirror_mode": {
    "name": "ipython",
    "version": 3
   },
   "file_extension": ".py",
   "mimetype": "text/x-python",
   "name": "python",
   "nbconvert_exporter": "python",
   "pygments_lexer": "ipython3",
   "version": "3.9.10"
  },
  "vscode": {
   "interpreter": {
    "hash": "3289aa74b4cc5b65254d7b081e6c83acb4efa1b1c1d2fe845644451ee4b44b02"
   }
  }
 },
 "nbformat": 4,
 "nbformat_minor": 5
}
