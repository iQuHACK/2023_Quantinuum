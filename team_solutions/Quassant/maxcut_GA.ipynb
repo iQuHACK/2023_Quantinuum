{
 "cells": [
  {
   "cell_type": "markdown",
   "id": "a3ba3449",
   "metadata": {
    "slideshow": {
     "slide_type": "slide"
    }
   },
   "source": [
    "## The Quantum Approximate Optimisation Algorithm (QAOA) using TKET.\n",
    "\n",
    "Callum Macpherson"
   ]
  },
  {
   "cell_type": "markdown",
   "id": "45668632",
   "metadata": {
    "slideshow": {
     "slide_type": "subslide"
    }
   },
   "source": [
    "## The Max-Cut problem"
   ]
  },
  {
   "cell_type": "code",
   "execution_count": 1,
   "id": "9456fbeb",
   "metadata": {
    "slideshow": {
     "slide_type": "fragment"
    }
   },
   "outputs": [
    {
     "data": {
      "image/png": "[encoded data removed]",
      "text/plain": [
       "<Figure size 144x144 with 1 Axes>"
      ]
     },
     "metadata": {},
     "output_type": "display_data"
    }
   ],
   "source": [
    "import networkx as nx\n",
    "import matplotlib.pyplot as plt\n",
    "import random\n",
    "\n",
    "G = nx.Graph()\n",
    "G.add_edges_from([(0,1), (1,2), (2,0)])\n",
    "plt.figure(figsize=(2,2))\n",
    "nx.draw(G, node_color=['red', 'blue', 'red'])\n",
    "plt.show()"
   ]
  },
  {
   "cell_type": "markdown",
   "id": "cad41481",
   "metadata": {
    "slideshow": {
     "slide_type": "fragment"
    }
   },
   "source": [
    "There are \\\\(2^3\\\\) possible assignments of colour to nodes. In general there are \\\\( 2^n \\\\). The Max-cut problem can then be stated as that of finding the colour assignment which maximises the number of edges between vertices of a different colour."
   ]
  },
  {
   "cell_type": "markdown",
   "id": "7389bbe5",
   "metadata": {
    "slideshow": {
     "slide_type": "subslide"
    }
   },
   "source": [
    "## Quantum Approximate Optimization Algorithm (QAOA)\n",
    "\n",
    "Introduced in 'A Quantum Approximate Optimization Algorithm' (found at https://arxiv.org/abs/1411.4028). The idea is to prepare a quantum state which encodes a solution to the Max-cut problem.\n",
    "\n",
    "\n",
    "This is a variational algorithm, which is to say that a paramaterised state is prepared, with the parameters varied to improve the solution. We will have $2p$ parameters where p is our number of layers. In particular, the state prepared has the form \n",
    "\n",
    "\n",
    "\n",
    "\\\\[ \\left| \\psi \\left( \\beta, \\gamma \\right) \\right\\rangle = U \\left( \\beta_m \\right) U \\left( \\gamma_m \\right) ... U \\left( \\beta_0 \\right) U \\left( \\gamma_0 \\right) \\left| \\psi_0 \\right\\rangle \\\\]\n",
    "where\n",
    "\\\\[ U \\left( \\beta_i \\right) = e^{i \\beta H_B} \\quad \\& \\quad U \\left( \\gamma_i \\right) = e^{i \\gamma H_P} \\\\]\n",
    "with \\\\( H_B \\\\) and \\\\( H_P \\\\) depending on the problem instance. "
   ]
  },
  {
   "cell_type": "markdown",
   "id": "3596e66d",
   "metadata": {},
   "source": [
    "## Cost function for Maxcut\n",
    "$$\n",
    "\\begin{equation}\n",
    "C= \\sum_{(i,j)} x_i(1-x_j)\n",
    "\\end{equation}\n",
    "$$"
   ]
  },
  {
   "cell_type": "markdown",
   "id": "d720b387",
   "metadata": {
    "slideshow": {
     "slide_type": "subslide"
    }
   },
   "source": [
    "For the previous 3 vertex graph the *problem Hamiltonian* is\n",
    "\\\\[ H_P = \\frac{1}{2} \\big[ \\left( Z \\otimes Z \\otimes I \\right) + \\left( Z \\otimes I \\otimes Z \\right) + \\left( I \\otimes Z \\otimes Z \\right) \\big] \\\\]\n",
    "\n",
    "\n",
    "where you will notice that there is a \\\\( Z \\otimes Z \\\\) acting between each vertex which is connected by an edge."
   ]
  },
  {
   "cell_type": "markdown",
   "id": "8ca2e1b9",
   "metadata": {
    "slideshow": {
     "slide_type": "fragment"
    }
   },
   "source": [
    "The *mixer Hamiltonian* has the form \n",
    "\\\\[ H_B =   \\left( X \\otimes I \\otimes I \\right) + \\left( I \\otimes X \\otimes I \\right) + \\left( I \\otimes I \\otimes X \\right)  \\\\]\n",
    "\n",
    "\n",
    "where you will notice that there is an \\\\( X \\\\) acting on each vertex."
   ]
  },
  {
   "cell_type": "markdown",
   "id": "de6b9e03",
   "metadata": {},
   "source": [
    "## Cost function for Maxcut\n",
    "\n",
    "A solution to maxcut can be found by maximising the following cost function $C$ .\n",
    "\n",
    "\n",
    "\n",
    "$$\n",
    "\\begin{equation}\n",
    "C= \\sum_{(i,j)} x_i(1-x_j)\n",
    "\\end{equation}\n",
    "$$\n",
    "\n",
    "Here $x_i$ and $x_j$ are the the \"colours\" of each vertex.  \n",
    "\n",
    "$$\n",
    "\\begin{equation}\n",
    "x_i,x_j \\in \\{0,1\\}\n",
    "\\end{equation}\n",
    "$$\n",
    "\n",
    "$x_i(1-x_j)=0$ if $x_i=x_j$ and $ x_i(1-x_j)=1$ if the terms are not equal."
   ]
  },
  {
   "cell_type": "markdown",
   "id": "61d4e798",
   "metadata": {
    "slideshow": {
     "slide_type": "slide"
    }
   },
   "source": [
    "We want to encode our Maxcut cost function as a Hamiltonain. To do this we can perform the following translation.\n",
    "\n",
    "$$\n",
    "\\begin{equation}\n",
    "x_i \\mapsto \\frac{1}{2}(1-Z_i)\n",
    "\\end{equation}\n",
    "$$\n",
    "\n",
    "\n",
    "The Pauli Z operator can be used to distinguish between the $|0\\rangle$ and $|1\\rangle$ basis states as these are eigenstates with eigenvalues $\\pm 1$ .\n",
    "\n",
    "$$\n",
    "\\begin{equation}\n",
    "H_P = \\frac{1}{2}\\sum_{<jk>} (-Z_j \\,Z_k +I )\n",
    "\\end{equation}\n",
    "$$\n",
    "\n",
    "\n",
    "$$\n",
    "\\begin{equation}\n",
    "H_B = \\sum_i X_i\n",
    "\\end{equation}\n",
    "$$\n",
    "\n",
    "Here we use the the convention that $X_i$ means a Pauli X operator will be applied to the \"ith\" qubit and the identity operator will be applied to all other qubits in the circuit."
   ]
  },
  {
   "cell_type": "code",
   "execution_count": 2,
   "id": "aeb6abd9",
   "metadata": {
    "slideshow": {
     "slide_type": "skip"
    }
   },
   "outputs": [],
   "source": [
    "import warnings\n",
    "warnings.filterwarnings(\"ignore\")"
   ]
  },
  {
   "cell_type": "markdown",
   "id": "3cbb783a",
   "metadata": {
    "slideshow": {
     "slide_type": "slide"
    }
   },
   "source": [
    "# Circuit Construction for QAOA"
   ]
  },
  {
   "cell_type": "code",
   "execution_count": 3,
   "id": "688f1332",
   "metadata": {
    "slideshow": {
     "slide_type": "slide"
    }
   },
   "outputs": [
    {
     "data": {
      "image/png": "[encoded data removed]",
      "text/plain": [
       "<Figure size 432x288 with 1 Axes>"
      ]
     },
     "metadata": {},
     "output_type": "display_data"
    }
   ],
   "source": [
    "import networkx as nx\n",
    "\n",
    "max_cut_graph_edges = [(0,1), (1,2), (1,3), (3,4), (4,5), (4,6)]\n",
    "n_nodes = 7\n",
    "\n",
    "max_cut_graph = nx.Graph()\n",
    "max_cut_graph.add_edges_from(max_cut_graph_edges)\n",
    "nx.draw(max_cut_graph, labels={node: node for node in max_cut_graph.nodes()})\n",
    "\n",
    "expected_results = [(0,1,0,0,1,0,0), (1,0,1,1,0,1,1)]"
   ]
  },
  {
   "cell_type": "markdown",
   "id": "18a5bd16",
   "metadata": {
    "slideshow": {
     "slide_type": "slide"
    }
   },
   "source": [
    "## Define Cost Hamiltonian: $\\gamma H$"
   ]
  },
  {
   "cell_type": "markdown",
   "id": "543f87ca",
   "metadata": {},
   "source": [
    "$$\n",
    "\\begin{equation}\n",
    "H_P = \\frac{1}{2}\\sum_{<jk>} (-Z_j \\,Z_k +I )\n",
    "\\end{equation}\n",
    "$$"
   ]
  },
  {
   "cell_type": "code",
   "execution_count": 4,
   "id": "99226b24",
   "metadata": {
    "scrolled": true,
    "slideshow": {
     "slide_type": "fragment"
    }
   },
   "outputs": [
    {
     "name": "stdout",
     "output_type": "stream",
     "text": [
      "{(): 3.00000000000000, (Zq[0], Zq[1]): -0.500000000000000, (Zq[1], Zq[2]): -0.500000000000000, (Zq[1], Zq[3]): -0.500000000000000, (Zq[3], Zq[4]): -0.500000000000000, (Zq[4], Zq[5]): -0.500000000000000, (Zq[4], Zq[6]): -0.500000000000000}\n"
     ]
    }
   ],
   "source": [
    "from typing import List, Tuple, Any\n",
    "from pytket.utils import QubitPauliOperator\n",
    "from pytket.pauli import QubitPauliString, Pauli\n",
    "from pytket import Qubit\n",
    "\n",
    "def qaoa_graph_to_cost_hamiltonian(edges: List[Tuple[int, int]], cost_angle: float) -> QubitPauliOperator:\n",
    "    qpo_dict = {QubitPauliString(): len(edges)*0.5*cost_angle}\n",
    "    for e in edges:\n",
    "        term_string = QubitPauliString([Qubit(e[0]), Qubit(e[1])], [Pauli.Z, Pauli.Z])\n",
    "        qpo_dict[term_string] = -0.5*cost_angle\n",
    "    return QubitPauliOperator(qpo_dict)\n",
    "\n",
    "cost_angle = 1.0\n",
    "cost_ham_qpo = qaoa_graph_to_cost_hamiltonian(max_cut_graph_edges, cost_angle)\n",
    "print(cost_ham_qpo)"
   ]
  },
  {
   "cell_type": "markdown",
   "id": "6da499ac",
   "metadata": {
    "slideshow": {
     "slide_type": "fragment"
    }
   },
   "source": [
    "$$\n",
    "\\begin{equation}\n",
    "H_P = 3 I^{\\otimes 6} -0.5 \\big[ Z_0 Z_1 + Z_1 Z_2 +Z_1 Z_3 +Z_3 Z_4 +Z_4 Z_5 +Z_4 Z_6  \\big]\n",
    "\\end{equation}\n",
    "$$\n",
    "\n",
    "Using the same index convention as above"
   ]
  },
  {
   "cell_type": "markdown",
   "id": "785ff56c",
   "metadata": {
    "slideshow": {
     "slide_type": "slide"
    }
   },
   "source": [
    "## Hamiltonian Circuit"
   ]
  },
  {
   "cell_type": "code",
   "execution_count": 5,
   "id": "11fe9917",
   "metadata": {
    "slideshow": {
     "slide_type": "fragment"
    }
   },
   "outputs": [
    {
     "data": {
      "text/html": [
       "\n",
       "\n",
       "\n",
       "\n",
       "\n",
       "\n",
       "<iframe srcdoc=\"\n",
       "&lt;!DOCTYPE html&gt;\n",
       "&lt;html lang=&#34;en&#34;&gt;\n",
       "&lt;head&gt;\n",
       "    &lt;meta charset=&#34;UTF-8&#34;&gt;\n",
       "    &lt;script type=&#34;application/javascript&#34; src=&#34;https://cdn.jsdelivr.net/npm/vue@3&#34;&gt;&lt;/script&gt;\n",
       "    &lt;script type=&#34;application/javascript&#34; src=&#34;https://unpkg.com/pytket-circuit-renderer@0.3/dist/pytket-circuit-renderer.umd.js&#34;&gt;&lt;/script&gt;\n",
       "    &lt;link rel=&#34;stylesheet&#34; href=&#34;https://unpkg.com/pytket-circuit-renderer@0.3/dist/pytket-circuit-renderer.css&#34;&gt;\n",
       "&lt;/head&gt;\n",
       "&lt;body&gt;\n",
       "    &lt;div id=&#34;circuit-display-vue-container-baf0f80b-c2c8-478f-823a-bf7b09ab099e&#34; class=&#34;pytket-circuit-display-container&#34;&gt;\n",
       "        &lt;div style=&#34;display: none&#34;&gt;\n",
       "            &lt;div id=&#34;circuit-json-to-display&#34;&gt;{&#34;bits&#34;: [], &#34;commands&#34;: [{&#34;args&#34;: [[&#34;q&#34;, [0]], [&#34;q&#34;, [1]], [&#34;q&#34;, [2]], [&#34;q&#34;, [3]], [&#34;q&#34;, [4]], [&#34;q&#34;, [5]], [&#34;q&#34;, [6]]], &#34;op&#34;: {&#34;box&#34;: {&#34;circuit&#34;: {&#34;bits&#34;: [], &#34;commands&#34;: [{&#34;args&#34;: [[&#34;q&#34;, [0]], [&#34;q&#34;, [1]]], &#34;op&#34;: {&#34;box&#34;: {&#34;id&#34;: &#34;ff0f7d3a-c531-4850-b527-38b82ca1a565&#34;, &#34;paulis&#34;: [&#34;Z&#34;, &#34;Z&#34;], &#34;phase&#34;: &#34;-0.5&#34;, &#34;type&#34;: &#34;PauliExpBox&#34;}, &#34;type&#34;: &#34;PauliExpBox&#34;}}, {&#34;args&#34;: [[&#34;q&#34;, [1]], [&#34;q&#34;, [2]]], &#34;op&#34;: {&#34;box&#34;: {&#34;id&#34;: &#34;c2541a93-4543-4370-ad94-2ae1d4f790c6&#34;, &#34;paulis&#34;: [&#34;Z&#34;, &#34;Z&#34;], &#34;phase&#34;: &#34;-0.5&#34;, &#34;type&#34;: &#34;PauliExpBox&#34;}, &#34;type&#34;: &#34;PauliExpBox&#34;}}, {&#34;args&#34;: [[&#34;q&#34;, [1]], [&#34;q&#34;, [3]]], &#34;op&#34;: {&#34;box&#34;: {&#34;id&#34;: &#34;9831180f-94f0-4a17-a3b6-e82c684dbf3e&#34;, &#34;paulis&#34;: [&#34;Z&#34;, &#34;Z&#34;], &#34;phase&#34;: &#34;-0.5&#34;, &#34;type&#34;: &#34;PauliExpBox&#34;}, &#34;type&#34;: &#34;PauliExpBox&#34;}}, {&#34;args&#34;: [[&#34;q&#34;, [3]], [&#34;q&#34;, [4]]], &#34;op&#34;: {&#34;box&#34;: {&#34;id&#34;: &#34;fbe457f6-919b-4b7b-9239-a9399abf6a32&#34;, &#34;paulis&#34;: [&#34;Z&#34;, &#34;Z&#34;], &#34;phase&#34;: &#34;-0.5&#34;, &#34;type&#34;: &#34;PauliExpBox&#34;}, &#34;type&#34;: &#34;PauliExpBox&#34;}}, {&#34;args&#34;: [[&#34;q&#34;, [4]], [&#34;q&#34;, [5]]], &#34;op&#34;: {&#34;box&#34;: {&#34;id&#34;: &#34;c1bd6e10-56ad-4f1a-81d6-0dffba6249d1&#34;, &#34;paulis&#34;: [&#34;Z&#34;, &#34;Z&#34;], &#34;phase&#34;: &#34;-0.5&#34;, &#34;type&#34;: &#34;PauliExpBox&#34;}, &#34;type&#34;: &#34;PauliExpBox&#34;}}, {&#34;args&#34;: [[&#34;q&#34;, [4]], [&#34;q&#34;, [6]]], &#34;op&#34;: {&#34;box&#34;: {&#34;id&#34;: &#34;22126671-2fcc-4d62-8252-438aeeeb83b6&#34;, &#34;paulis&#34;: [&#34;Z&#34;, &#34;Z&#34;], &#34;phase&#34;: &#34;-0.5&#34;, &#34;type&#34;: &#34;PauliExpBox&#34;}, &#34;type&#34;: &#34;PauliExpBox&#34;}}], &#34;created_qubits&#34;: [], &#34;discarded_qubits&#34;: [], &#34;implicit_permutation&#34;: [[[&#34;q&#34;, [0]], [&#34;q&#34;, [0]]], [[&#34;q&#34;, [1]], [&#34;q&#34;, [1]]], [[&#34;q&#34;, [2]], [&#34;q&#34;, [2]]], [[&#34;q&#34;, [3]], [&#34;q&#34;, [3]]], [[&#34;q&#34;, [4]], [&#34;q&#34;, [4]]], [[&#34;q&#34;, [5]], [&#34;q&#34;, [5]]], [[&#34;q&#34;, [6]], [&#34;q&#34;, [6]]]], &#34;phase&#34;: &#34;0.5&#34;, &#34;qubits&#34;: [[&#34;q&#34;, [0]], [&#34;q&#34;, [1]], [&#34;q&#34;, [2]], [&#34;q&#34;, [3]], [&#34;q&#34;, [4]], [&#34;q&#34;, [5]], [&#34;q&#34;, [6]]]}, &#34;id&#34;: &#34;b48b2f7a-4417-4551-8c22-e595cf1b9cdc&#34;, &#34;type&#34;: &#34;CircBox&#34;}, &#34;type&#34;: &#34;CircBox&#34;}}], &#34;created_qubits&#34;: [], &#34;discarded_qubits&#34;: [], &#34;implicit_permutation&#34;: [[[&#34;q&#34;, [0]], [&#34;q&#34;, [0]]], [[&#34;q&#34;, [1]], [&#34;q&#34;, [1]]], [[&#34;q&#34;, [2]], [&#34;q&#34;, [2]]], [[&#34;q&#34;, [3]], [&#34;q&#34;, [3]]], [[&#34;q&#34;, [4]], [&#34;q&#34;, [4]]], [[&#34;q&#34;, [5]], [&#34;q&#34;, [5]]], [[&#34;q&#34;, [6]], [&#34;q&#34;, [6]]]], &#34;phase&#34;: &#34;0.0&#34;, &#34;qubits&#34;: [[&#34;q&#34;, [0]], [&#34;q&#34;, [1]], [&#34;q&#34;, [2]], [&#34;q&#34;, [3]], [&#34;q&#34;, [4]], [&#34;q&#34;, [5]], [&#34;q&#34;, [6]]]}&lt;/div&gt;\n",
       "        &lt;/div&gt;\n",
       "        &lt;circuit-display-container :circuit-element-str=&#34;&#39;#circuit-json-to-display&#39;&#34;&gt;&lt;/circuit-display-container&gt;\n",
       "    &lt;/div&gt;\n",
       "    &lt;script type=&#34;application/javascript&#34;&gt;\n",
       "        const { createApp } = Vue;\n",
       "        const circuitDisplayContainer = window[&#34;pytket-circuit-renderer&#34;].default;\n",
       "        // Init variables to be shared between circuit display instances\n",
       "        if (typeof window.pytketCircuitDisplays === &#34;undefined&#34;) {\n",
       "            window.pytketCircuitDisplays = {};\n",
       "        }\n",
       "        const uid = &#34;baf0f80b-c2c8-478f-823a-bf7b09ab099e&#34;;\n",
       "        // Create the root Vue component\n",
       "        const app = createApp({\n",
       "            delimiters: [&#39;[[#&#39;, &#39;#]]&#39;],\n",
       "            components: { circuitDisplayContainer },\n",
       "        })\n",
       "        app.config.unwrapInjectedRef = true;\n",
       "        app.mount(&#34;#circuit-display-vue-container-&#34;+uid);\n",
       "        window.pytketCircuitDisplays[uid] = app;\n",
       "    &lt;/script&gt;\n",
       "&lt;/body&gt;\n",
       "&lt;/html&gt;\n",
       "\"\n",
       "        width=\"100%\" height=\"200px\"\n",
       "        style=\"border: none; outline: none; resize: vertical; overflow: auto\"></iframe>\n",
       "\n"
      ],
      "text/plain": [
       "<IPython.core.display.HTML object>"
      ]
     },
     "metadata": {},
     "output_type": "display_data"
    }
   ],
   "source": [
    "from pytket.utils import gen_term_sequence_circuit\n",
    "from pytket import Circuit\n",
    "from pytket.circuit import display\n",
    "\n",
    "cost_ham_circuit = gen_term_sequence_circuit(cost_ham_qpo, Circuit(n_nodes))\n",
    "display.render_circuit_jupyter(cost_ham_circuit)"
   ]
  },
  {
   "cell_type": "code",
   "execution_count": 6,
   "id": "9057c55f",
   "metadata": {
    "slideshow": {
     "slide_type": "slide"
    }
   },
   "outputs": [
    {
     "data": {
      "text/html": [
       "\n",
       "\n",
       "\n",
       "\n",
       "\n",
       "\n",
       "<iframe srcdoc=\"\n",
       "&lt;!DOCTYPE html&gt;\n",
       "&lt;html lang=&#34;en&#34;&gt;\n",
       "&lt;head&gt;\n",
       "    &lt;meta charset=&#34;UTF-8&#34;&gt;\n",
       "    &lt;script type=&#34;application/javascript&#34; src=&#34;https://cdn.jsdelivr.net/npm/vue@3&#34;&gt;&lt;/script&gt;\n",
       "    &lt;script type=&#34;application/javascript&#34; src=&#34;https://unpkg.com/pytket-circuit-renderer@0.3/dist/pytket-circuit-renderer.umd.js&#34;&gt;&lt;/script&gt;\n",
       "    &lt;link rel=&#34;stylesheet&#34; href=&#34;https://unpkg.com/pytket-circuit-renderer@0.3/dist/pytket-circuit-renderer.css&#34;&gt;\n",
       "&lt;/head&gt;\n",
       "&lt;body&gt;\n",
       "    &lt;div id=&#34;circuit-display-vue-container-82ade98b-f544-4489-a4fb-4896f110ea4e&#34; class=&#34;pytket-circuit-display-container&#34;&gt;\n",
       "        &lt;div style=&#34;display: none&#34;&gt;\n",
       "            &lt;div id=&#34;circuit-json-to-display&#34;&gt;{&#34;bits&#34;: [], &#34;commands&#34;: [{&#34;args&#34;: [[&#34;q&#34;, [1]], [&#34;q&#34;, [0]]], &#34;op&#34;: {&#34;type&#34;: &#34;CX&#34;}}, {&#34;args&#34;: [[&#34;q&#34;, [0]]], &#34;op&#34;: {&#34;params&#34;: [&#34;-0.5&#34;], &#34;type&#34;: &#34;Rz&#34;}}, {&#34;args&#34;: [[&#34;q&#34;, [1]], [&#34;q&#34;, [0]]], &#34;op&#34;: {&#34;type&#34;: &#34;CX&#34;}}, {&#34;args&#34;: [[&#34;q&#34;, [2]], [&#34;q&#34;, [1]]], &#34;op&#34;: {&#34;type&#34;: &#34;CX&#34;}}, {&#34;args&#34;: [[&#34;q&#34;, [1]]], &#34;op&#34;: {&#34;params&#34;: [&#34;-0.5&#34;], &#34;type&#34;: &#34;Rz&#34;}}, {&#34;args&#34;: [[&#34;q&#34;, [2]], [&#34;q&#34;, [1]]], &#34;op&#34;: {&#34;type&#34;: &#34;CX&#34;}}, {&#34;args&#34;: [[&#34;q&#34;, [3]], [&#34;q&#34;, [1]]], &#34;op&#34;: {&#34;type&#34;: &#34;CX&#34;}}, {&#34;args&#34;: [[&#34;q&#34;, [1]]], &#34;op&#34;: {&#34;params&#34;: [&#34;-0.5&#34;], &#34;type&#34;: &#34;Rz&#34;}}, {&#34;args&#34;: [[&#34;q&#34;, [3]], [&#34;q&#34;, [1]]], &#34;op&#34;: {&#34;type&#34;: &#34;CX&#34;}}, {&#34;args&#34;: [[&#34;q&#34;, [4]], [&#34;q&#34;, [3]]], &#34;op&#34;: {&#34;type&#34;: &#34;CX&#34;}}, {&#34;args&#34;: [[&#34;q&#34;, [3]]], &#34;op&#34;: {&#34;params&#34;: [&#34;-0.5&#34;], &#34;type&#34;: &#34;Rz&#34;}}, {&#34;args&#34;: [[&#34;q&#34;, [4]], [&#34;q&#34;, [3]]], &#34;op&#34;: {&#34;type&#34;: &#34;CX&#34;}}, {&#34;args&#34;: [[&#34;q&#34;, [5]], [&#34;q&#34;, [4]]], &#34;op&#34;: {&#34;type&#34;: &#34;CX&#34;}}, {&#34;args&#34;: [[&#34;q&#34;, [4]]], &#34;op&#34;: {&#34;params&#34;: [&#34;-0.5&#34;], &#34;type&#34;: &#34;Rz&#34;}}, {&#34;args&#34;: [[&#34;q&#34;, [5]], [&#34;q&#34;, [4]]], &#34;op&#34;: {&#34;type&#34;: &#34;CX&#34;}}, {&#34;args&#34;: [[&#34;q&#34;, [6]], [&#34;q&#34;, [4]]], &#34;op&#34;: {&#34;type&#34;: &#34;CX&#34;}}, {&#34;args&#34;: [[&#34;q&#34;, [4]]], &#34;op&#34;: {&#34;params&#34;: [&#34;-0.5&#34;], &#34;type&#34;: &#34;Rz&#34;}}, {&#34;args&#34;: [[&#34;q&#34;, [6]], [&#34;q&#34;, [4]]], &#34;op&#34;: {&#34;type&#34;: &#34;CX&#34;}}], &#34;created_qubits&#34;: [], &#34;discarded_qubits&#34;: [], &#34;implicit_permutation&#34;: [[[&#34;q&#34;, [0]], [&#34;q&#34;, [0]]], [[&#34;q&#34;, [1]], [&#34;q&#34;, [1]]], [[&#34;q&#34;, [2]], [&#34;q&#34;, [2]]], [[&#34;q&#34;, [3]], [&#34;q&#34;, [3]]], [[&#34;q&#34;, [4]], [&#34;q&#34;, [4]]], [[&#34;q&#34;, [5]], [&#34;q&#34;, [5]]], [[&#34;q&#34;, [6]], [&#34;q&#34;, [6]]]], &#34;phase&#34;: &#34;0.5&#34;, &#34;qubits&#34;: [[&#34;q&#34;, [0]], [&#34;q&#34;, [1]], [&#34;q&#34;, [2]], [&#34;q&#34;, [3]], [&#34;q&#34;, [4]], [&#34;q&#34;, [5]], [&#34;q&#34;, [6]]]}&lt;/div&gt;\n",
       "        &lt;/div&gt;\n",
       "        &lt;circuit-display-container :circuit-element-str=&#34;&#39;#circuit-json-to-display&#39;&#34;&gt;&lt;/circuit-display-container&gt;\n",
       "    &lt;/div&gt;\n",
       "    &lt;script type=&#34;application/javascript&#34;&gt;\n",
       "        const { createApp } = Vue;\n",
       "        const circuitDisplayContainer = window[&#34;pytket-circuit-renderer&#34;].default;\n",
       "        // Init variables to be shared between circuit display instances\n",
       "        if (typeof window.pytketCircuitDisplays === &#34;undefined&#34;) {\n",
       "            window.pytketCircuitDisplays = {};\n",
       "        }\n",
       "        const uid = &#34;82ade98b-f544-4489-a4fb-4896f110ea4e&#34;;\n",
       "        // Create the root Vue component\n",
       "        const app = createApp({\n",
       "            delimiters: [&#39;[[#&#39;, &#39;#]]&#39;],\n",
       "            components: { circuitDisplayContainer },\n",
       "        })\n",
       "        app.config.unwrapInjectedRef = true;\n",
       "        app.mount(&#34;#circuit-display-vue-container-&#34;+uid);\n",
       "        window.pytketCircuitDisplays[uid] = app;\n",
       "    &lt;/script&gt;\n",
       "&lt;/body&gt;\n",
       "&lt;/html&gt;\n",
       "\"\n",
       "        width=\"100%\" height=\"200px\"\n",
       "        style=\"border: none; outline: none; resize: vertical; overflow: auto\"></iframe>\n",
       "\n"
      ],
      "text/plain": [
       "<IPython.core.display.HTML object>"
      ]
     },
     "metadata": {},
     "output_type": "display_data"
    }
   ],
   "source": [
    "from pytket.transform import Transform\n",
    "\n",
    "Transform.DecomposeBoxes().apply(cost_ham_circuit)\n",
    "display.render_circuit_jupyter(cost_ham_circuit)"
   ]
  },
  {
   "cell_type": "markdown",
   "id": "4690b787",
   "metadata": {
    "slideshow": {
     "slide_type": "slide"
    }
   },
   "source": [
    "## Construction of the Mixer Hamiltonian: $\\beta B$"
   ]
  },
  {
   "cell_type": "code",
   "execution_count": 7,
   "id": "296c560d",
   "metadata": {
    "slideshow": {
     "slide_type": "fragment"
    }
   },
   "outputs": [
    {
     "data": {
      "text/html": [
       "\n",
       "\n",
       "\n",
       "\n",
       "\n",
       "\n",
       "<iframe srcdoc=\"\n",
       "&lt;!DOCTYPE html&gt;\n",
       "&lt;html lang=&#34;en&#34;&gt;\n",
       "&lt;head&gt;\n",
       "    &lt;meta charset=&#34;UTF-8&#34;&gt;\n",
       "    &lt;script type=&#34;application/javascript&#34; src=&#34;https://cdn.jsdelivr.net/npm/vue@3&#34;&gt;&lt;/script&gt;\n",
       "    &lt;script type=&#34;application/javascript&#34; src=&#34;https://unpkg.com/pytket-circuit-renderer@0.3/dist/pytket-circuit-renderer.umd.js&#34;&gt;&lt;/script&gt;\n",
       "    &lt;link rel=&#34;stylesheet&#34; href=&#34;https://unpkg.com/pytket-circuit-renderer@0.3/dist/pytket-circuit-renderer.css&#34;&gt;\n",
       "&lt;/head&gt;\n",
       "&lt;body&gt;\n",
       "    &lt;div id=&#34;circuit-display-vue-container-3cd6b617-dfaf-4bdb-b953-7ca88739a421&#34; class=&#34;pytket-circuit-display-container&#34;&gt;\n",
       "        &lt;div style=&#34;display: none&#34;&gt;\n",
       "            &lt;div id=&#34;circuit-json-to-display&#34;&gt;{&#34;bits&#34;: [], &#34;commands&#34;: [{&#34;args&#34;: [[&#34;q&#34;, [0]]], &#34;op&#34;: {&#34;type&#34;: &#34;H&#34;}}, {&#34;args&#34;: [[&#34;q&#34;, [1]]], &#34;op&#34;: {&#34;type&#34;: &#34;H&#34;}}, {&#34;args&#34;: [[&#34;q&#34;, [2]]], &#34;op&#34;: {&#34;type&#34;: &#34;H&#34;}}, {&#34;args&#34;: [[&#34;q&#34;, [3]]], &#34;op&#34;: {&#34;type&#34;: &#34;H&#34;}}, {&#34;args&#34;: [[&#34;q&#34;, [4]]], &#34;op&#34;: {&#34;type&#34;: &#34;H&#34;}}, {&#34;args&#34;: [[&#34;q&#34;, [5]]], &#34;op&#34;: {&#34;type&#34;: &#34;H&#34;}}, {&#34;args&#34;: [[&#34;q&#34;, [6]]], &#34;op&#34;: {&#34;type&#34;: &#34;H&#34;}}, {&#34;args&#34;: [[&#34;q&#34;, [0]]], &#34;op&#34;: {&#34;params&#34;: [&#34;0.8&#34;], &#34;type&#34;: &#34;Rz&#34;}}, {&#34;args&#34;: [[&#34;q&#34;, [1]]], &#34;op&#34;: {&#34;params&#34;: [&#34;0.8&#34;], &#34;type&#34;: &#34;Rz&#34;}}, {&#34;args&#34;: [[&#34;q&#34;, [2]]], &#34;op&#34;: {&#34;params&#34;: [&#34;0.8&#34;], &#34;type&#34;: &#34;Rz&#34;}}, {&#34;args&#34;: [[&#34;q&#34;, [3]]], &#34;op&#34;: {&#34;params&#34;: [&#34;0.8&#34;], &#34;type&#34;: &#34;Rz&#34;}}, {&#34;args&#34;: [[&#34;q&#34;, [4]]], &#34;op&#34;: {&#34;params&#34;: [&#34;0.8&#34;], &#34;type&#34;: &#34;Rz&#34;}}, {&#34;args&#34;: [[&#34;q&#34;, [5]]], &#34;op&#34;: {&#34;params&#34;: [&#34;0.8&#34;], &#34;type&#34;: &#34;Rz&#34;}}, {&#34;args&#34;: [[&#34;q&#34;, [6]]], &#34;op&#34;: {&#34;params&#34;: [&#34;0.8&#34;], &#34;type&#34;: &#34;Rz&#34;}}, {&#34;args&#34;: [[&#34;q&#34;, [0]]], &#34;op&#34;: {&#34;type&#34;: &#34;H&#34;}}, {&#34;args&#34;: [[&#34;q&#34;, [1]]], &#34;op&#34;: {&#34;type&#34;: &#34;H&#34;}}, {&#34;args&#34;: [[&#34;q&#34;, [2]]], &#34;op&#34;: {&#34;type&#34;: &#34;H&#34;}}, {&#34;args&#34;: [[&#34;q&#34;, [3]]], &#34;op&#34;: {&#34;type&#34;: &#34;H&#34;}}, {&#34;args&#34;: [[&#34;q&#34;, [4]]], &#34;op&#34;: {&#34;type&#34;: &#34;H&#34;}}, {&#34;args&#34;: [[&#34;q&#34;, [5]]], &#34;op&#34;: {&#34;type&#34;: &#34;H&#34;}}, {&#34;args&#34;: [[&#34;q&#34;, [6]]], &#34;op&#34;: {&#34;type&#34;: &#34;H&#34;}}], &#34;created_qubits&#34;: [], &#34;discarded_qubits&#34;: [], &#34;implicit_permutation&#34;: [[[&#34;q&#34;, [0]], [&#34;q&#34;, [0]]], [[&#34;q&#34;, [1]], [&#34;q&#34;, [1]]], [[&#34;q&#34;, [2]], [&#34;q&#34;, [2]]], [[&#34;q&#34;, [3]], [&#34;q&#34;, [3]]], [[&#34;q&#34;, [4]], [&#34;q&#34;, [4]]], [[&#34;q&#34;, [5]], [&#34;q&#34;, [5]]], [[&#34;q&#34;, [6]], [&#34;q&#34;, [6]]]], &#34;phase&#34;: &#34;0.0&#34;, &#34;qubits&#34;: [[&#34;q&#34;, [0]], [&#34;q&#34;, [1]], [&#34;q&#34;, [2]], [&#34;q&#34;, [3]], [&#34;q&#34;, [4]], [&#34;q&#34;, [5]], [&#34;q&#34;, [6]]]}&lt;/div&gt;\n",
       "        &lt;/div&gt;\n",
       "        &lt;circuit-display-container :circuit-element-str=&#34;&#39;#circuit-json-to-display&#39;&#34;&gt;&lt;/circuit-display-container&gt;\n",
       "    &lt;/div&gt;\n",
       "    &lt;script type=&#34;application/javascript&#34;&gt;\n",
       "        const { createApp } = Vue;\n",
       "        const circuitDisplayContainer = window[&#34;pytket-circuit-renderer&#34;].default;\n",
       "        // Init variables to be shared between circuit display instances\n",
       "        if (typeof window.pytketCircuitDisplays === &#34;undefined&#34;) {\n",
       "            window.pytketCircuitDisplays = {};\n",
       "        }\n",
       "        const uid = &#34;3cd6b617-dfaf-4bdb-b953-7ca88739a421&#34;;\n",
       "        // Create the root Vue component\n",
       "        const app = createApp({\n",
       "            delimiters: [&#39;[[#&#39;, &#39;#]]&#39;],\n",
       "            components: { circuitDisplayContainer },\n",
       "        })\n",
       "        app.config.unwrapInjectedRef = true;\n",
       "        app.mount(&#34;#circuit-display-vue-container-&#34;+uid);\n",
       "        window.pytketCircuitDisplays[uid] = app;\n",
       "    &lt;/script&gt;\n",
       "&lt;/body&gt;\n",
       "&lt;/html&gt;\n",
       "\"\n",
       "        width=\"100%\" height=\"200px\"\n",
       "        style=\"border: none; outline: none; resize: vertical; overflow: auto\"></iframe>\n",
       "\n"
      ],
      "text/plain": [
       "<IPython.core.display.HTML object>"
      ]
     },
     "metadata": {},
     "output_type": "display_data"
    }
   ],
   "source": [
    "mixer_angle = 0.8\n",
    "mixer_ham_qpo =  QubitPauliOperator({QubitPauliString([Qubit(i)], [Pauli.X]): mixer_angle for i in range(n_nodes)})\n",
    "mixer_ham_circuit = gen_term_sequence_circuit(mixer_ham_qpo, Circuit(n_nodes))\n",
    "Transform.DecomposeBoxes().apply(mixer_ham_circuit)\n",
    "display.render_circuit_jupyter(mixer_ham_circuit)"
   ]
  },
  {
   "cell_type": "markdown",
   "id": "4d128a70",
   "metadata": {
    "slideshow": {
     "slide_type": "slide"
    }
   },
   "source": [
    "## Define the Initial State"
   ]
  },
  {
   "cell_type": "code",
   "execution_count": 8,
   "id": "0a9db628",
   "metadata": {
    "slideshow": {
     "slide_type": "fragment"
    }
   },
   "outputs": [
    {
     "data": {
      "text/html": [
       "\n",
       "\n",
       "\n",
       "\n",
       "\n",
       "\n",
       "<iframe srcdoc=\"\n",
       "&lt;!DOCTYPE html&gt;\n",
       "&lt;html lang=&#34;en&#34;&gt;\n",
       "&lt;head&gt;\n",
       "    &lt;meta charset=&#34;UTF-8&#34;&gt;\n",
       "    &lt;script type=&#34;application/javascript&#34; src=&#34;https://cdn.jsdelivr.net/npm/vue@3&#34;&gt;&lt;/script&gt;\n",
       "    &lt;script type=&#34;application/javascript&#34; src=&#34;https://unpkg.com/pytket-circuit-renderer@0.3/dist/pytket-circuit-renderer.umd.js&#34;&gt;&lt;/script&gt;\n",
       "    &lt;link rel=&#34;stylesheet&#34; href=&#34;https://unpkg.com/pytket-circuit-renderer@0.3/dist/pytket-circuit-renderer.css&#34;&gt;\n",
       "&lt;/head&gt;\n",
       "&lt;body&gt;\n",
       "    &lt;div id=&#34;circuit-display-vue-container-ff010200-ec35-4f9c-a339-960b255b8779&#34; class=&#34;pytket-circuit-display-container&#34;&gt;\n",
       "        &lt;div style=&#34;display: none&#34;&gt;\n",
       "            &lt;div id=&#34;circuit-json-to-display&#34;&gt;{&#34;bits&#34;: [], &#34;commands&#34;: [{&#34;args&#34;: [[&#34;q&#34;, [0]]], &#34;op&#34;: {&#34;type&#34;: &#34;H&#34;}}, {&#34;args&#34;: [[&#34;q&#34;, [1]]], &#34;op&#34;: {&#34;type&#34;: &#34;H&#34;}}, {&#34;args&#34;: [[&#34;q&#34;, [2]]], &#34;op&#34;: {&#34;type&#34;: &#34;H&#34;}}, {&#34;args&#34;: [[&#34;q&#34;, [3]]], &#34;op&#34;: {&#34;type&#34;: &#34;H&#34;}}, {&#34;args&#34;: [[&#34;q&#34;, [4]]], &#34;op&#34;: {&#34;type&#34;: &#34;H&#34;}}, {&#34;args&#34;: [[&#34;q&#34;, [5]]], &#34;op&#34;: {&#34;type&#34;: &#34;H&#34;}}, {&#34;args&#34;: [[&#34;q&#34;, [6]]], &#34;op&#34;: {&#34;type&#34;: &#34;H&#34;}}], &#34;created_qubits&#34;: [], &#34;discarded_qubits&#34;: [], &#34;implicit_permutation&#34;: [[[&#34;q&#34;, [0]], [&#34;q&#34;, [0]]], [[&#34;q&#34;, [1]], [&#34;q&#34;, [1]]], [[&#34;q&#34;, [2]], [&#34;q&#34;, [2]]], [[&#34;q&#34;, [3]], [&#34;q&#34;, [3]]], [[&#34;q&#34;, [4]], [&#34;q&#34;, [4]]], [[&#34;q&#34;, [5]], [&#34;q&#34;, [5]]], [[&#34;q&#34;, [6]], [&#34;q&#34;, [6]]]], &#34;phase&#34;: &#34;0.0&#34;, &#34;qubits&#34;: [[&#34;q&#34;, [0]], [&#34;q&#34;, [1]], [&#34;q&#34;, [2]], [&#34;q&#34;, [3]], [&#34;q&#34;, [4]], [&#34;q&#34;, [5]], [&#34;q&#34;, [6]]]}&lt;/div&gt;\n",
       "        &lt;/div&gt;\n",
       "        &lt;circuit-display-container :circuit-element-str=&#34;&#39;#circuit-json-to-display&#39;&#34;&gt;&lt;/circuit-display-container&gt;\n",
       "    &lt;/div&gt;\n",
       "    &lt;script type=&#34;application/javascript&#34;&gt;\n",
       "        const { createApp } = Vue;\n",
       "        const circuitDisplayContainer = window[&#34;pytket-circuit-renderer&#34;].default;\n",
       "        // Init variables to be shared between circuit display instances\n",
       "        if (typeof window.pytketCircuitDisplays === &#34;undefined&#34;) {\n",
       "            window.pytketCircuitDisplays = {};\n",
       "        }\n",
       "        const uid = &#34;ff010200-ec35-4f9c-a339-960b255b8779&#34;;\n",
       "        // Create the root Vue component\n",
       "        const app = createApp({\n",
       "            delimiters: [&#39;[[#&#39;, &#39;#]]&#39;],\n",
       "            components: { circuitDisplayContainer },\n",
       "        })\n",
       "        app.config.unwrapInjectedRef = true;\n",
       "        app.mount(&#34;#circuit-display-vue-container-&#34;+uid);\n",
       "        window.pytketCircuitDisplays[uid] = app;\n",
       "    &lt;/script&gt;\n",
       "&lt;/body&gt;\n",
       "&lt;/html&gt;\n",
       "\"\n",
       "        width=\"100%\" height=\"200px\"\n",
       "        style=\"border: none; outline: none; resize: vertical; overflow: auto\"></iframe>\n",
       "\n"
      ],
      "text/plain": [
       "<IPython.core.display.HTML object>"
      ]
     },
     "metadata": {},
     "output_type": "display_data"
    }
   ],
   "source": [
    "def qaoa_initial_circuit(n_qubits: int) -> Circuit:\n",
    "    c = Circuit(n_qubits)\n",
    "    for i in range(n_qubits):\n",
    "        c.H(i)\n",
    "    return c\n",
    "\n",
    "superposition_circuit = qaoa_initial_circuit(n_nodes)\n",
    "\n",
    "display.render_circuit_jupyter(superposition_circuit)"
   ]
  },
  {
   "cell_type": "markdown",
   "id": "da759b59",
   "metadata": {
    "slideshow": {
     "slide_type": "slide"
    }
   },
   "source": [
    "## Construct QAOA Circuit"
   ]
  },
  {
   "cell_type": "markdown",
   "id": "359a1a0f-e92e-40ae-bbe6-ce960b118f49",
   "metadata": {},
   "source": [
    "Now lets define a function to create our entire QAOA circuit. For $p$ QAOA layers we expect that our circuit will require $2p$ parameters. Here we will pass and cost mixer parameters in as a list where the length of the list defines the number of layers."
   ]
  },
  {
   "cell_type": "code",
   "execution_count": 9,
   "id": "23f8910a",
   "metadata": {
    "slideshow": {
     "slide_type": "fragment"
    }
   },
   "outputs": [],
   "source": [
    "def qaoa_max_cut_circuit(edges: List[Tuple[int, int]],\n",
    "                         n_nodes: int,\n",
    "                         mixer_angles: List[float],\n",
    "                         cost_angles: List[float]) -> Circuit:\n",
    "    \n",
    "    assert len(mixer_angles) == len(cost_angles)\n",
    "    \n",
    "    # initial state\n",
    "    qaoa_circuit = qaoa_initial_circuit(n_nodes)\n",
    "    \n",
    "    # add cost and mixer terms to state\n",
    "    for cost, mixer in zip(cost_angles, mixer_angles):\n",
    "        cost_ham = qaoa_graph_to_cost_hamiltonian(edges, cost)\n",
    "        mixer_ham = QubitPauliOperator({QubitPauliString([Qubit(i)], [Pauli.X]): mixer for i in range(n_nodes)})\n",
    "        qaoa_circuit.append(gen_term_sequence_circuit(cost_ham, Circuit(n_nodes)))\n",
    "        qaoa_circuit.append(gen_term_sequence_circuit(mixer_ham, Circuit(n_nodes)))\n",
    "        \n",
    "    Transform.DecomposeBoxes().apply(qaoa_circuit)\n",
    "    return qaoa_circuit"
   ]
  },
  {
   "cell_type": "markdown",
   "id": "bc2f8939-41b7-476b-a5a8-09de07211079",
   "metadata": {},
   "source": [
    "We also need to extract our energy expectation values from a `BackendResult` object after our circuit is processed by the device/simulator. We do this with the `get_max_cut_energy` function below. Note that the fact that the maxcut Hamiltonian contains only commuting terms means that we do not need to calculate our energy expectation using multiple measurement circuits. This may not the the case for a different problem Hamiltonian."
   ]
  },
  {
   "cell_type": "code",
   "execution_count": 11,
   "id": "df387eea-4198-428e-9b92-4f3bceb12f0e",
   "metadata": {},
   "outputs": [],
   "source": [
    "from typing import List, Tuple\n",
    "from pytket.backends.backendresult import BackendResult\n",
    "\n",
    "def get_max_cut_energy(edges: List[Tuple[int, int]], results: BackendResult) -> float:\n",
    "    energy = 0.0\n",
    "    dist = results.get_distribution()\n",
    "    for i, j in edges:\n",
    "        energy += sum((meas[i] ^ meas[j]) * prob for meas, prob in dist.items())\n",
    "\n",
    "    return energy"
   ]
  },
  {
   "cell_type": "code",
   "execution_count": 12,
   "id": "e5abad7b-e989-4156-9708-3d8c97d8ca2a",
   "metadata": {},
   "outputs": [],
   "source": [
    "from pytket.backends.backend import Backend\n",
    "from typing import Callable\n",
    "import numpy as np\n",
    "\n",
    "def qaoa_instance(\n",
    "    backend: Backend,\n",
    "    compiler_pass: Callable[[Circuit], bool],\n",
    "    guess_mixer_angles: np.array,\n",
    "    guess_cost_angles: np.array,\n",
    "    seed: int,\n",
    "    shots: int = 5000,\n",
    ") -> float:\n",
    "    # step 1: get state guess\n",
    "    my_prep_circuit = qaoa_max_cut_circuit(\n",
    "        max_cut_graph_edges, n_nodes, guess_mixer_angles, guess_cost_angles\n",
    "    )\n",
    "    measured_circ = my_prep_circuit.copy().measure_all()\n",
    "    compiler_pass(measured_circ)\n",
    "    res = backend.run_circuit(measured_circ, shots, seed=seed)\n",
    "\n",
    "    return get_max_cut_energy(max_cut_graph_edges, res)"
   ]
  },
  {
   "cell_type": "code",
   "execution_count": 13,
   "id": "a3ac1f64-571b-44ff-bbab-62729e7887b7",
   "metadata": {},
   "outputs": [],
   "source": [
    "def initialize_population(compiler_pass: Callable[[Circuit], bool],\n",
    "                         backend: Backend,\n",
    "                         n: int = 3, \n",
    "                         population_size: int = 20, \n",
    "                         mixer_angle_encode_size: int = 8,\n",
    "                         cost_angle_encode_size: int = 8,\n",
    "                         shots: int = 100,\n",
    "                         seed: int = 12345\n",
    "                         ):\n",
    "    \n",
    "    chromosomes_list = []\n",
    "    ENCODED_MAX = pow(2, mixer_angle_encode_size) \n",
    "    for p in range(population_size):\n",
    "        one_pop_str = \"\"\n",
    "        mixer_angle_str = \"\"\n",
    "        cost_angle_str = \"\"\n",
    "        \n",
    "        for mi in range(mixer_angle_encode_size*n):\n",
    "            mixer_angle_str += str(random.randint(0, 1))\n",
    "        \n",
    "        for ci in range(cost_angle_encode_size*n):\n",
    "            cost_angle_str += str(random.randint(0, 1))\n",
    "            \n",
    "        one_pop_str += mixer_angle_str\n",
    "        one_pop_str += cost_angle_str\n",
    "        \n",
    "        \n",
    "        mixer_angles = []\n",
    "        cost_angles = []\n",
    "        \n",
    "        for i in range(n):\n",
    "            mixer_angles.append(int(mixer_angle_str[i*mixer_angle_encode_size: (i+1)*mixer_angle_encode_size], 2)/ENCODED_MAX)\n",
    "            cost_angles.append(int(cost_angle_str[i*cost_angle_encode_size: (i+1)* cost_angle_encode_size], 2)/ENCODED_MAX)\n",
    "            \n",
    "        init_mixer_angles = mixer_angles\n",
    "        init_cost_angles = cost_angles\n",
    "        fitness_score_qaoa_energy = qaoa_instance(backend,\n",
    "                                    compiler_pass,\n",
    "                                    init_mixer_angles,\n",
    "                                    init_cost_angles,\n",
    "                                    seed=seed,\n",
    "                                    shots=shots)\n",
    "        \n",
    "        chromosomes_list.append((fitness_score_qaoa_energy, one_pop_str))\n",
    "    return chromosomes_list"
   ]
  },
  {
   "cell_type": "code",
   "execution_count": 14,
   "id": "5c3ba6c2-c2fa-40ae-a08f-27acafd29479",
   "metadata": {},
   "outputs": [],
   "source": [
    "# Implement a Genetic Algorithm to find the best mixer angles and cost angles\n",
    "def qaoa_optimise_energy_GA(compiler_pass: Callable[[Circuit], bool],\n",
    "                         backend: Backend,\n",
    "                         iterations: int = 100, # 100\n",
    "                         n: int = 3, # 3\n",
    "                         shots: int = 100, # 100\n",
    "                         seed: int = 12345, # 12345\n",
    "                         population_size: int = 20, # 20\n",
    "                         mixer_angles_encode_size: int = 8,  # 8\n",
    "                         cost_angles_encode_size: int = 8,  # 8\n",
    "                         generations: int = 20, # 20\n",
    "                         elite_size: int = 8# 8\n",
    "                           ):\n",
    "    chromosomes_list = initialize_population(compiler_pass, backend, n, population_size, mixer_angles_encode_size, cost_angles_encode_size, shots, seed)\n",
    "   \n",
    "             \n",
    "    ENCODED_MAX = pow(2, mixer_angles_encode_size) \n",
    "    best_chormosome = \"\"\n",
    "    highest_energy = 0\n",
    "    best_mixer_angles = [0]*n\n",
    "    best_cost_angles = [0]*n\n",
    "    g = 0\n",
    "    while g in range(generations):\n",
    "        # sort the chromosomes_list in reverse order, this is the \"population\"\n",
    "        chromosomes_list.sort(reverse=True)\n",
    "        if g == 0:\n",
    "            print(\"population is: \")\n",
    "            print(chromosomes_list)\n",
    "        \n",
    "        best_chromosome = chromosomes_list[0][1]\n",
    "        highest_energy = chromosomes_list[0][0]\n",
    "\n",
    "        print(\"generation number is: \", g)\n",
    "        print(\"Best 3: \",  [chromosomes_list[0][0],  chromosomes_list[1][0],  chromosomes_list[2][0]])\n",
    "        print(\"Worst 3: \",  [chromosomes_list[-1][0],  chromosomes_list[-2][0],  chromosomes_list[-3][0]])\n",
    "        best_chromosome_len = int(len(best_chromosome)/2)\n",
    "        # print(\"best chromosome size is:  \", type(best_chromosome_len))\n",
    "        best_chromosome_mixer_segment = best_chromosome[0:best_chromosome_len]\n",
    "        best_chromosome_cost_segment = best_chromosome[best_chromosome_len:]\n",
    "        \n",
    "    \n",
    "    \n",
    "        mixer_angles = []\n",
    "        cost_angles = []\n",
    "        \n",
    "        for i in range(n):\n",
    "            mixer_angles.append(int(best_chromosome_mixer_segment[i*mixer_angles_encode_size: (i+1)*mixer_angles_encode_size], 2)/ENCODED_MAX)\n",
    "            cost_angles.append(int(best_chromosome_cost_segment[i*cost_angles_encode_size: (i+1)*cost_angles_encode_size], 2)/ENCODED_MAX)\n",
    "            \n",
    "        best_mixer_angles = mixer_angles\n",
    "        best_cost_angles = cost_angles\n",
    "        \n",
    "        # selection, select top 6 over 20 population to do crossovers\n",
    "        # prepare to use the top \n",
    "        elite_group = chromosomes_list[:elite_size]\n",
    "        \n",
    "        # select the worst 3 from the population\n",
    "        worst_group = chromosomes_list[-3]\n",
    "        \n",
    "        # get a list of index for crossover operations\n",
    "        crossover_pairs_indexes = list(range(elite_size))\n",
    "        new_born_chromosomes = []\n",
    "        chromosomes_pairs_to_crossover = []\n",
    "        while len(crossover_pairs_indexes) != 0:\n",
    "            # remove two elements from the crossover_pairs_indexes\n",
    "            chromo1_index = random.choice(crossover_pairs_indexes)\n",
    "            crossover_pairs_indexes.remove(chromo1_index)\n",
    "            chromo2_index = random.choice(crossover_pairs_indexes)\n",
    "            crossover_pairs_indexes.remove(chromo2_index)\n",
    "            \n",
    "            chromosomes_pairs_to_crossover.append((elite_group[chromo1_index][1], elite_group[chromo2_index][1]))\n",
    "            \n",
    "        # By this stage we should get chromosome pairs to do cross over\n",
    "        # start to do crossover, for some new children obtaoned, do mutation  \n",
    "        for chromosomes_pairs in chromosomes_pairs_to_crossover:\n",
    "            chromo1 = chromosomes_pairs[0]\n",
    "            chromo2 = chromosomes_pairs[1]\n",
    "            \n",
    "            crossover_point = random.randint(1, len(chromo1))\n",
    "            chromo1_front = chromo1[0:crossover_point]\n",
    "            chromo2_front = chromo2[0:crossover_point]\n",
    "            chromo1_end = chromo1[crossover_point:]\n",
    "            chromo2_end = chromo2[crossover_point:]\n",
    "            \n",
    "            new_child1 = \"\"\n",
    "            new_child1 = chromo1_front + chromo2_end\n",
    "            new_child1_list = list(new_child1)\n",
    "            \n",
    "            # mutation for new_child1\n",
    "            if random.randint(1, len(chromo1))%len(chromo1) <= 5:\n",
    "                mutation_point1 = random.randint(1, len(new_child1) - 1)\n",
    "                \n",
    "                if new_child1_list[mutation_point1] == 1:\n",
    "                    new_child1_list[mutation_point1] = 0\n",
    "                else:\n",
    "                    new_child1_list[mutation_point1] = 1\n",
    "\n",
    "            new_child1 = ''.join(str(e) for e in new_child1_list)\n",
    "            new_child1_len = int(len(new_child1)/2)\n",
    "            new_child1_mixer_segment = new_child1[0:new_child1_len]\n",
    "            new_child1_cost_segment = new_child1[new_child1_len:]\n",
    "\n",
    "        \n",
    "            child1_mixer_angles = []\n",
    "            child1_cost_angles = []\n",
    "            for i in range(n):\n",
    "                child1_mixer_angles.append(int(new_child1_mixer_segment[i*mixer_angles_encode_size: (i+1)*mixer_angles_encode_size], 2)/ENCODED_MAX)\n",
    "                child1_cost_angles.append(int(new_child1_cost_segment[i*cost_angles_encode_size: (i+1)*cost_angles_encode_size], 2)/ENCODED_MAX)\n",
    "            new_child1_mixer_angles = child1_mixer_angles\n",
    "            new_child1_cost_angles = child1_cost_angles\n",
    "            \n",
    "            fitness_score_new_child1 = qaoa_instance(backend,\n",
    "                                    compiler_pass,\n",
    "                                    new_child1_mixer_angles,\n",
    "                                    new_child1_cost_angles,\n",
    "                                    seed=seed,\n",
    "                                    shots=shots)\n",
    "            \n",
    "            new_child2 = \"\"        \n",
    "            new_child2 = chromo2_front + chromo1_end\n",
    "            new_child2_list = list(new_child2)\n",
    "            \n",
    "            # mutation for new_child2\n",
    "            if random.randint(1, len(chromo2))% len(chromo2) <= 5:\n",
    "                mutation_point2 = random.randint(1, len(new_child2) - 1)\n",
    "                if new_child2_list[mutation_point2] == 1:\n",
    "                    new_child2_list[mutation_point2] = 0\n",
    "                else:\n",
    "                    new_child2_list[mutation_point2] = 1\n",
    "                \n",
    "            new_child2 = ''.join(str(e) for e in new_child2_list)\n",
    "        \n",
    "            new_child2_len = int(len(new_child2)/2)\n",
    "            new_child2_mixer_segment = new_child2[0:new_child2_len]\n",
    "            new_child2_cost_segment = new_child2[new_child2_len:]\n",
    "    \n",
    "            child2_mixer_angles = []\n",
    "            child2_cost_angles = []\n",
    "            for i in range(n):\n",
    "                child2_mixer_angles.append(int(new_child2_mixer_segment[i*mixer_angles_encode_size: (i+1)*mixer_angles_encode_size], 2)/ENCODED_MAX)\n",
    "                child2_cost_angles.append(int(new_child2_cost_segment[i*cost_angles_encode_size: (i+1)*cost_angles_encode_size], 2)/ENCODED_MAX)\n",
    "            new_child2_mixer_angles = child2_mixer_angles\n",
    "            new_child2_cost_angles = child2_cost_angles\n",
    "            \n",
    "            fitness_score_new_child2 = qaoa_instance(backend,\n",
    "                                    compiler_pass,\n",
    "                                    new_child2_mixer_angles,\n",
    "                                    new_child2_cost_angles,\n",
    "                                    seed=seed,\n",
    "                                    shots=shots)\n",
    "            \n",
    "            # add newly generated chromosomes to the list\n",
    "            new_born_chromosomes.append((fitness_score_new_child1, new_child1))\n",
    "            new_born_chromosomes.append((fitness_score_new_child2, new_child2))\n",
    "            \n",
    "            \n",
    "        # compare the new_born chromosomes with the worst three, \n",
    "        # replace the worst three in the population with the best new three chromosomes\n",
    "        new_born_chromosomes.sort(reverse=True)\n",
    "        worst_one_index = len(chromosomes_list) - 3\n",
    "        \n",
    "        while worst_one_index < len(chromosomes_list):\n",
    "            for new_chromosome in new_born_chromosomes:\n",
    "                if new_chromosome[0] > chromosomes_list[worst_one_index][0]:\n",
    "                    chromosomes_list[worst_one_index] = new_chromosome\n",
    "                    new_born_chromosomes.remove(new_chromosome)\n",
    "                    break\n",
    "            worst_one_index += 1\n",
    "        g += 1\n",
    "        \n",
    "    print(\"highest energy: \", highest_energy)\n",
    "    print(\"best guess mixer angles: \", best_mixer_angles)\n",
    "    print(\"best guess cost angles: \",  best_cost_angles)\n",
    "    return best_mixer_angles, best_cost_angles"
   ]
  },
  {
   "cell_type": "markdown",
   "id": "d22226cc",
   "metadata": {
    "slideshow": {
     "slide_type": "slide"
    }
   },
   "source": [
    "## Calculate the State for the final Parameters"
   ]
  },
  {
   "cell_type": "code",
   "execution_count": 16,
   "id": "da46e63d",
   "metadata": {
    "slideshow": {
     "slide_type": "fragment"
    }
   },
   "outputs": [],
   "source": [
    "def qaoa_calculate(backend: Backend,\n",
    "                   compiler_pass: Callable[[Circuit], bool],\n",
    "                   shots: int = 5000,\n",
    "                   iterations: int = 100,\n",
    "                   seed: int = 12345,\n",
    "                  ) -> BackendResult:\n",
    "    \n",
    "    shots = 100\n",
    "    # find the parameters for the highest energy\n",
    "    best_mixer, best_cost = qaoa_optimise_energy_GA(compiler_pass,\n",
    "                                                 backend,\n",
    "                                                 iterations,\n",
    "                                                 n = 3,\n",
    "                                                 shots = 100,\n",
    "                                                 seed = 12345, \n",
    "                                                 population_size =  40, \n",
    "                                                 mixer_angles_encode_size = 8,\n",
    "                                                 cost_angles_encode_size = 8,\n",
    "                                                 generations =   100, \n",
    "                                                 elite_size = 8)\n",
    "    \n",
    "    # get the circuit with the final parameters of the optimisation:\n",
    "    my_qaoa_circuit = qaoa_max_cut_circuit(max_cut_graph_edges,\n",
    "                                           n_nodes,\n",
    "                                           best_mixer,\n",
    "                                           best_cost)\n",
    "\n",
    "    my_qaoa_circuit.measure_all()\n",
    "\n",
    "    compiler_pass(my_qaoa_circuit)\n",
    "    handle = backend.process_circuit(my_qaoa_circuit, shots, seed=seed)\n",
    "\n",
    "    result = backend.get_result(handle)    \n",
    "    \n",
    "    return result"
   ]
  },
  {
   "cell_type": "markdown",
   "id": "9dd97e10",
   "metadata": {
    "slideshow": {
     "slide_type": "slide"
    }
   },
   "source": [
    "## Results with the Noiseless Simulator"
   ]
  },
  {
   "cell_type": "code",
   "execution_count": 17,
   "id": "e7afb38e",
   "metadata": {
    "slideshow": {
     "slide_type": "fragment"
    }
   },
   "outputs": [],
   "source": [
    "from pytket.extensions.qiskit import AerBackend\n",
    "\n",
    "backend = AerBackend()\n",
    "comp = backend.get_compiled_circuit"
   ]
  },
  {
   "cell_type": "code",
   "execution_count": 18,
   "id": "aaea7e2f",
   "metadata": {
    "slideshow": {
     "slide_type": "slide"
    }
   },
   "outputs": [
    {
     "name": "stdout",
     "output_type": "stream",
     "text": [
      "population is: \n",
      "[(4.760000000000001, '010111000001011000011001100000001100101101001111'), (4.340000000000002, '011111110000010001000111101011000010001101110111'), (4.190000000000001, '101110100111010111111010011111110001001100010010'), (4.0600000000000005, '001011010011110111010110110111001001001101010100'), (3.790000000000002, '000100011101110001000010000000101111011001111001'), (3.79, '001011001100100010010100001111101001010000001101'), (3.7300000000000013, '110100111110101101010100000100001100011101101110'), (3.6400000000000006, '000101010110000001101000100101100100001011010001'), (3.580000000000002, '111001010010101100110011101100011000101001101101'), (3.540000000000001, '101110000011011001000101111111110111010001111010'), (3.540000000000001, '011010000101001010101000010011001100101100011001'), (3.5300000000000007, '110100100000001101111011101111101110100100100111'), (3.480000000000001, '000011010011011101001101000010000100011001001001'), (3.4700000000000006, '111111001000101110101010101100011100011010101100'), (3.4600000000000013, '010000101000110110010011111110101111100010101011'), (3.4200000000000013, '010101111110101100011010001000011001110010000001'), (3.270000000000001, '111011001011101001101101100110001111010010010000'), (3.2300000000000004, '100100111000001100001110010100111000000010000000'), (3.190000000000001, '110111101100000010011100110100000101111110000000'), (3.030000000000001, '011101101111111001110100100110100111011101110110'), (3.0100000000000007, '000010111111010010001000100010111110000010010001'), (2.9800000000000013, '010001111100110000011010101111001010100010111111'), (2.960000000000001, '111011100001100111111111100000010111101110001110'), (2.930000000000001, '110011110111110111000001101001101010001000111110'), (2.910000000000001, '001010101110101001000110101101101000011111011010'), (2.910000000000001, '000001101000110010000010000010000000100100011000'), (2.8900000000000006, '010010010011101101011000110111010111001101011111'), (2.840000000000001, '010010101100001010101011110001011010001101000000'), (2.710000000000001, '001001011110001100001111000110011011001100100001'), (2.66, '110011010011001001110010111100011100010001101110'), (2.3000000000000007, '100010111110000001100000100011111001011111100111'), (2.270000000000001, '111101010000101110011001000001011011111111100100'), (2.2200000000000006, '100100111010100010111100001111111000011101010100'), (2.1800000000000006, '111011110001101010000010011000011110010000110000'), (2.07, '100101001011000000001101111100111101101100001001'), (2.0600000000000005, '111111100110110100111110100000100010100000100101'), (1.7400000000000002, '000110101111101110110110000011111001000100111000'), (1.72, '000110011011110010110101001100010000010111110000'), (1.56, '010111111110011111001011000100111000111110110110'), (1.36, '110111111101010000001110110001101011111110101111')]\n",
      "generation number is:  0\n",
      "Best 3:  [4.760000000000001, 4.340000000000002, 4.190000000000001]\n",
      "Worst 3:  [1.36, 1.56, 1.72]\n",
      "generation number is:  1\n",
      "Best 3:  [5.020000000000001, 4.760000000000001, 4.340000000000002]\n",
      "Worst 3:  [1.7400000000000002, 2.0600000000000005, 2.07]\n",
      "generation number is:  2\n",
      "Best 3:  [5.020000000000001, 4.760000000000001, 4.340000000000002]\n",
      "Worst 3:  [2.1800000000000006, 2.2200000000000006, 2.270000000000001]\n",
      "generation number is:  3\n",
      "Best 3:  [5.020000000000001, 4.760000000000001, 4.530000000000001]\n",
      "Worst 3:  [2.3000000000000007, 2.66, 2.710000000000001]\n",
      "generation number is:  4\n",
      "Best 3:  [5.020000000000001, 5.020000000000001, 4.760000000000001]\n",
      "Worst 3:  [2.840000000000001, 2.8900000000000006, 2.910000000000001]\n",
      "generation number is:  5\n",
      "Best 3:  [5.020000000000001, 5.020000000000001, 5.020000000000001]\n",
      "Worst 3:  [2.910000000000001, 2.930000000000001, 2.960000000000001]\n",
      "generation number is:  6\n",
      "Best 3:  [5.020000000000001, 5.020000000000001, 5.020000000000001]\n",
      "Worst 3:  [2.9800000000000013, 3.0100000000000007, 3.030000000000001]\n",
      "generation number is:  7\n",
      "Best 3:  [5.020000000000001, 5.020000000000001, 5.020000000000001]\n",
      "Worst 3:  [3.190000000000001, 3.2300000000000004, 3.270000000000001]\n",
      "generation number is:  8\n",
      "Best 3:  [5.020000000000001, 5.020000000000001, 5.020000000000001]\n",
      "Worst 3:  [3.4200000000000013, 3.4600000000000013, 3.4700000000000006]\n",
      "generation number is:  9\n",
      "Best 3:  [5.020000000000001, 5.020000000000001, 5.020000000000001]\n",
      "Worst 3:  [3.480000000000001, 3.5300000000000007, 3.540000000000001]\n",
      "generation number is:  10\n",
      "Best 3:  [5.020000000000001, 5.020000000000001, 5.020000000000001]\n",
      "Worst 3:  [3.540000000000001, 3.560000000000001, 3.580000000000002]\n",
      "generation number is:  11\n",
      "Best 3:  [5.020000000000001, 5.020000000000001, 5.020000000000001]\n",
      "Worst 3:  [3.6400000000000006, 3.7300000000000013, 3.79]\n",
      "generation number is:  12\n",
      "Best 3:  [5.020000000000001, 5.020000000000001, 5.020000000000001]\n",
      "Worst 3:  [3.790000000000002, 4.020000000000001, 4.0600000000000005]\n",
      "generation number is:  13\n",
      "Best 3:  [5.020000000000001, 5.020000000000001, 5.020000000000001]\n",
      "Worst 3:  [4.190000000000001, 4.210000000000002, 4.260000000000001]\n",
      "generation number is:  14\n",
      "Best 3:  [5.020000000000001, 5.020000000000001, 5.020000000000001]\n",
      "Worst 3:  [4.310000000000001, 4.340000000000002, 4.4300000000000015]\n",
      "generation number is:  15\n",
      "Best 3:  [5.020000000000001, 5.020000000000001, 5.020000000000001]\n",
      "Worst 3:  [4.45, 4.510000000000002, 4.530000000000001]\n",
      "generation number is:  16\n",
      "Best 3:  [5.020000000000001, 5.020000000000001, 5.020000000000001]\n",
      "Worst 3:  [4.530000000000001, 4.630000000000001, 4.760000000000001]\n",
      "generation number is:  17\n",
      "Best 3:  [5.020000000000001, 5.020000000000001, 5.020000000000001]\n",
      "Worst 3:  [4.810000000000001, 5.020000000000001, 5.020000000000001]\n",
      "generation number is:  18\n",
      "Best 3:  [5.020000000000001, 5.020000000000001, 5.020000000000001]\n",
      "Worst 3:  [5.020000000000001, 5.020000000000001, 5.020000000000001]\n",
      "generation number is:  19\n",
      "Best 3:  [5.020000000000001, 5.020000000000001, 5.020000000000001]\n",
      "Worst 3:  [5.020000000000001, 5.020000000000001, 5.020000000000001]\n",
      "generation number is:  20\n",
      "Best 3:  [5.020000000000001, 5.020000000000001, 5.020000000000001]\n",
      "Worst 3:  [5.020000000000001, 5.020000000000001, 5.020000000000001]\n",
      "generation number is:  21\n",
      "Best 3:  [5.020000000000001, 5.020000000000001, 5.020000000000001]\n",
      "Worst 3:  [5.020000000000001, 5.020000000000001, 5.020000000000001]\n",
      "generation number is:  22\n",
      "Best 3:  [5.020000000000001, 5.020000000000001, 5.020000000000001]\n",
      "Worst 3:  [5.020000000000001, 5.020000000000001, 5.020000000000001]\n",
      "generation number is:  23\n",
      "Best 3:  [5.020000000000001, 5.020000000000001, 5.020000000000001]\n",
      "Worst 3:  [5.020000000000001, 5.020000000000001, 5.020000000000001]\n",
      "generation number is:  24\n",
      "Best 3:  [5.020000000000001, 5.020000000000001, 5.020000000000001]\n",
      "Worst 3:  [5.020000000000001, 5.020000000000001, 5.020000000000001]\n",
      "generation number is:  25\n",
      "Best 3:  [5.020000000000001, 5.020000000000001, 5.020000000000001]\n",
      "Worst 3:  [5.020000000000001, 5.020000000000001, 5.020000000000001]\n",
      "generation number is:  26\n",
      "Best 3:  [5.020000000000001, 5.020000000000001, 5.020000000000001]\n",
      "Worst 3:  [5.020000000000001, 5.020000000000001, 5.020000000000001]\n",
      "generation number is:  27\n",
      "Best 3:  [5.020000000000001, 5.020000000000001, 5.020000000000001]\n",
      "Worst 3:  [5.020000000000001, 5.020000000000001, 5.020000000000001]\n",
      "generation number is:  28\n",
      "Best 3:  [5.020000000000001, 5.020000000000001, 5.020000000000001]\n",
      "Worst 3:  [5.020000000000001, 5.020000000000001, 5.020000000000001]\n",
      "generation number is:  29\n",
      "Best 3:  [5.020000000000001, 5.020000000000001, 5.020000000000001]\n",
      "Worst 3:  [5.020000000000001, 5.020000000000001, 5.020000000000001]\n",
      "generation number is:  30\n",
      "Best 3:  [5.020000000000001, 5.020000000000001, 5.020000000000001]\n",
      "Worst 3:  [5.020000000000001, 5.020000000000001, 5.020000000000001]\n",
      "generation number is:  31\n",
      "Best 3:  [5.020000000000001, 5.020000000000001, 5.020000000000001]\n",
      "Worst 3:  [5.020000000000001, 5.020000000000001, 5.020000000000001]\n",
      "generation number is:  32\n",
      "Best 3:  [5.020000000000001, 5.020000000000001, 5.020000000000001]\n",
      "Worst 3:  [5.020000000000001, 5.020000000000001, 5.020000000000001]\n",
      "generation number is:  33\n",
      "Best 3:  [5.020000000000001, 5.020000000000001, 5.020000000000001]\n",
      "Worst 3:  [5.020000000000001, 5.020000000000001, 5.020000000000001]\n",
      "generation number is:  34\n",
      "Best 3:  [5.020000000000001, 5.020000000000001, 5.020000000000001]\n",
      "Worst 3:  [5.020000000000001, 5.020000000000001, 5.020000000000001]\n",
      "generation number is:  35\n",
      "Best 3:  [5.020000000000001, 5.020000000000001, 5.020000000000001]\n",
      "Worst 3:  [5.020000000000001, 5.020000000000001, 5.020000000000001]\n",
      "generation number is:  36\n",
      "Best 3:  [5.020000000000001, 5.020000000000001, 5.020000000000001]\n",
      "Worst 3:  [5.020000000000001, 5.020000000000001, 5.020000000000001]\n",
      "generation number is:  37\n",
      "Best 3:  [5.020000000000001, 5.020000000000001, 5.020000000000001]\n",
      "Worst 3:  [5.020000000000001, 5.020000000000001, 5.020000000000001]\n",
      "generation number is:  38\n",
      "Best 3:  [5.020000000000001, 5.020000000000001, 5.020000000000001]\n",
      "Worst 3:  [5.020000000000001, 5.020000000000001, 5.020000000000001]\n",
      "generation number is:  39\n",
      "Best 3:  [5.020000000000001, 5.020000000000001, 5.020000000000001]\n",
      "Worst 3:  [5.020000000000001, 5.020000000000001, 5.020000000000001]\n",
      "generation number is:  40\n",
      "Best 3:  [5.020000000000001, 5.020000000000001, 5.020000000000001]\n",
      "Worst 3:  [5.020000000000001, 5.020000000000001, 5.020000000000001]\n",
      "generation number is:  41\n",
      "Best 3:  [5.020000000000001, 5.020000000000001, 5.020000000000001]\n",
      "Worst 3:  [5.020000000000001, 5.020000000000001, 5.020000000000001]\n",
      "generation number is:  42\n",
      "Best 3:  [5.020000000000001, 5.020000000000001, 5.020000000000001]\n",
      "Worst 3:  [5.020000000000001, 5.020000000000001, 5.020000000000001]\n",
      "generation number is:  43\n",
      "Best 3:  [5.020000000000001, 5.020000000000001, 5.020000000000001]\n",
      "Worst 3:  [5.020000000000001, 5.020000000000001, 5.020000000000001]\n",
      "generation number is:  44\n",
      "Best 3:  [5.020000000000001, 5.020000000000001, 5.020000000000001]\n",
      "Worst 3:  [5.020000000000001, 5.020000000000001, 5.020000000000001]\n",
      "generation number is:  45\n",
      "Best 3:  [5.020000000000001, 5.020000000000001, 5.020000000000001]\n",
      "Worst 3:  [5.020000000000001, 5.020000000000001, 5.020000000000001]\n",
      "generation number is:  46\n",
      "Best 3:  [5.020000000000001, 5.020000000000001, 5.020000000000001]\n",
      "Worst 3:  [5.020000000000001, 5.020000000000001, 5.020000000000001]\n",
      "generation number is:  47\n",
      "Best 3:  [5.020000000000001, 5.020000000000001, 5.020000000000001]\n",
      "Worst 3:  [5.020000000000001, 5.020000000000001, 5.020000000000001]\n",
      "generation number is:  48\n",
      "Best 3:  [5.020000000000001, 5.020000000000001, 5.020000000000001]\n",
      "Worst 3:  [5.020000000000001, 5.020000000000001, 5.020000000000001]\n",
      "generation number is:  49\n",
      "Best 3:  [5.020000000000001, 5.020000000000001, 5.020000000000001]\n",
      "Worst 3:  [5.020000000000001, 5.020000000000001, 5.020000000000001]\n",
      "generation number is:  50\n",
      "Best 3:  [5.020000000000001, 5.020000000000001, 5.020000000000001]\n",
      "Worst 3:  [5.020000000000001, 5.020000000000001, 5.020000000000001]\n",
      "generation number is:  51\n",
      "Best 3:  [5.020000000000001, 5.020000000000001, 5.020000000000001]\n",
      "Worst 3:  [5.020000000000001, 5.020000000000001, 5.020000000000001]\n",
      "generation number is:  52\n",
      "Best 3:  [5.020000000000001, 5.020000000000001, 5.020000000000001]\n",
      "Worst 3:  [5.020000000000001, 5.020000000000001, 5.020000000000001]\n",
      "generation number is:  53\n",
      "Best 3:  [5.020000000000001, 5.020000000000001, 5.020000000000001]\n",
      "Worst 3:  [5.020000000000001, 5.020000000000001, 5.020000000000001]\n",
      "generation number is:  54\n",
      "Best 3:  [5.020000000000001, 5.020000000000001, 5.020000000000001]\n",
      "Worst 3:  [5.020000000000001, 5.020000000000001, 5.020000000000001]\n",
      "generation number is:  55\n",
      "Best 3:  [5.020000000000001, 5.020000000000001, 5.020000000000001]\n",
      "Worst 3:  [5.020000000000001, 5.020000000000001, 5.020000000000001]\n",
      "generation number is:  56\n",
      "Best 3:  [5.020000000000001, 5.020000000000001, 5.020000000000001]\n",
      "Worst 3:  [5.020000000000001, 5.020000000000001, 5.020000000000001]\n",
      "generation number is:  57\n",
      "Best 3:  [5.020000000000001, 5.020000000000001, 5.020000000000001]\n",
      "Worst 3:  [5.020000000000001, 5.020000000000001, 5.020000000000001]\n",
      "generation number is:  58\n",
      "Best 3:  [5.020000000000001, 5.020000000000001, 5.020000000000001]\n",
      "Worst 3:  [5.020000000000001, 5.020000000000001, 5.020000000000001]\n",
      "generation number is:  59\n",
      "Best 3:  [5.020000000000001, 5.020000000000001, 5.020000000000001]\n",
      "Worst 3:  [5.020000000000001, 5.020000000000001, 5.020000000000001]\n",
      "generation number is:  60\n",
      "Best 3:  [5.020000000000001, 5.020000000000001, 5.020000000000001]\n",
      "Worst 3:  [5.020000000000001, 5.020000000000001, 5.020000000000001]\n",
      "generation number is:  61\n",
      "Best 3:  [5.020000000000001, 5.020000000000001, 5.020000000000001]\n",
      "Worst 3:  [5.020000000000001, 5.020000000000001, 5.020000000000001]\n",
      "generation number is:  62\n",
      "Best 3:  [5.020000000000001, 5.020000000000001, 5.020000000000001]\n",
      "Worst 3:  [5.020000000000001, 5.020000000000001, 5.020000000000001]\n",
      "generation number is:  63\n",
      "Best 3:  [5.020000000000001, 5.020000000000001, 5.020000000000001]\n",
      "Worst 3:  [5.020000000000001, 5.020000000000001, 5.020000000000001]\n",
      "generation number is:  64\n",
      "Best 3:  [5.020000000000001, 5.020000000000001, 5.020000000000001]\n",
      "Worst 3:  [5.020000000000001, 5.020000000000001, 5.020000000000001]\n",
      "generation number is:  65\n",
      "Best 3:  [5.020000000000001, 5.020000000000001, 5.020000000000001]\n",
      "Worst 3:  [5.020000000000001, 5.020000000000001, 5.020000000000001]\n",
      "generation number is:  66\n",
      "Best 3:  [5.020000000000001, 5.020000000000001, 5.020000000000001]\n",
      "Worst 3:  [5.020000000000001, 5.020000000000001, 5.020000000000001]\n",
      "generation number is:  67\n",
      "Best 3:  [5.020000000000001, 5.020000000000001, 5.020000000000001]\n",
      "Worst 3:  [5.020000000000001, 5.020000000000001, 5.020000000000001]\n",
      "generation number is:  68\n",
      "Best 3:  [5.020000000000001, 5.020000000000001, 5.020000000000001]\n",
      "Worst 3:  [5.020000000000001, 5.020000000000001, 5.020000000000001]\n",
      "generation number is:  69\n",
      "Best 3:  [5.020000000000001, 5.020000000000001, 5.020000000000001]\n",
      "Worst 3:  [5.020000000000001, 5.020000000000001, 5.020000000000001]\n",
      "generation number is:  70\n",
      "Best 3:  [5.020000000000001, 5.020000000000001, 5.020000000000001]\n",
      "Worst 3:  [5.020000000000001, 5.020000000000001, 5.020000000000001]\n",
      "generation number is:  71\n",
      "Best 3:  [5.020000000000001, 5.020000000000001, 5.020000000000001]\n",
      "Worst 3:  [5.020000000000001, 5.020000000000001, 5.020000000000001]\n",
      "generation number is:  72\n",
      "Best 3:  [5.020000000000001, 5.020000000000001, 5.020000000000001]\n",
      "Worst 3:  [5.020000000000001, 5.020000000000001, 5.020000000000001]\n",
      "generation number is:  73\n",
      "Best 3:  [5.020000000000001, 5.020000000000001, 5.020000000000001]\n",
      "Worst 3:  [5.020000000000001, 5.020000000000001, 5.020000000000001]\n",
      "generation number is:  74\n",
      "Best 3:  [5.020000000000001, 5.020000000000001, 5.020000000000001]\n",
      "Worst 3:  [5.020000000000001, 5.020000000000001, 5.020000000000001]\n",
      "generation number is:  75\n",
      "Best 3:  [5.020000000000001, 5.020000000000001, 5.020000000000001]\n",
      "Worst 3:  [5.020000000000001, 5.020000000000001, 5.020000000000001]\n",
      "generation number is:  76\n",
      "Best 3:  [5.020000000000001, 5.020000000000001, 5.020000000000001]\n",
      "Worst 3:  [5.020000000000001, 5.020000000000001, 5.020000000000001]\n",
      "generation number is:  77\n",
      "Best 3:  [5.020000000000001, 5.020000000000001, 5.020000000000001]\n",
      "Worst 3:  [5.020000000000001, 5.020000000000001, 5.020000000000001]\n",
      "generation number is:  78\n",
      "Best 3:  [5.020000000000001, 5.020000000000001, 5.020000000000001]\n",
      "Worst 3:  [5.020000000000001, 5.020000000000001, 5.020000000000001]\n",
      "generation number is:  79\n",
      "Best 3:  [5.020000000000001, 5.020000000000001, 5.020000000000001]\n",
      "Worst 3:  [5.020000000000001, 5.020000000000001, 5.020000000000001]\n",
      "generation number is:  80\n",
      "Best 3:  [5.020000000000001, 5.020000000000001, 5.020000000000001]\n",
      "Worst 3:  [5.020000000000001, 5.020000000000001, 5.020000000000001]\n",
      "generation number is:  81\n",
      "Best 3:  [5.020000000000001, 5.020000000000001, 5.020000000000001]\n",
      "Worst 3:  [5.020000000000001, 5.020000000000001, 5.020000000000001]\n",
      "generation number is:  82\n",
      "Best 3:  [5.020000000000001, 5.020000000000001, 5.020000000000001]\n",
      "Worst 3:  [5.020000000000001, 5.020000000000001, 5.020000000000001]\n",
      "generation number is:  83\n",
      "Best 3:  [5.020000000000001, 5.020000000000001, 5.020000000000001]\n",
      "Worst 3:  [5.020000000000001, 5.020000000000001, 5.020000000000001]\n",
      "generation number is:  84\n",
      "Best 3:  [5.020000000000001, 5.020000000000001, 5.020000000000001]\n",
      "Worst 3:  [5.020000000000001, 5.020000000000001, 5.020000000000001]\n",
      "generation number is:  85\n",
      "Best 3:  [5.020000000000001, 5.020000000000001, 5.020000000000001]\n",
      "Worst 3:  [5.020000000000001, 5.020000000000001, 5.020000000000001]\n",
      "generation number is:  86\n",
      "Best 3:  [5.020000000000001, 5.020000000000001, 5.020000000000001]\n",
      "Worst 3:  [5.020000000000001, 5.020000000000001, 5.020000000000001]\n",
      "generation number is:  87\n",
      "Best 3:  [5.020000000000001, 5.020000000000001, 5.020000000000001]\n",
      "Worst 3:  [5.020000000000001, 5.020000000000001, 5.020000000000001]\n",
      "generation number is:  88\n",
      "Best 3:  [5.020000000000001, 5.020000000000001, 5.020000000000001]\n",
      "Worst 3:  [5.020000000000001, 5.020000000000001, 5.020000000000001]\n",
      "generation number is:  89\n",
      "Best 3:  [5.020000000000001, 5.020000000000001, 5.020000000000001]\n",
      "Worst 3:  [5.020000000000001, 5.020000000000001, 5.020000000000001]\n",
      "generation number is:  90\n",
      "Best 3:  [5.020000000000001, 5.020000000000001, 5.020000000000001]\n",
      "Worst 3:  [5.020000000000001, 5.020000000000001, 5.020000000000001]\n",
      "generation number is:  91\n",
      "Best 3:  [5.020000000000001, 5.020000000000001, 5.020000000000001]\n",
      "Worst 3:  [5.020000000000001, 5.020000000000001, 5.020000000000001]\n",
      "generation number is:  92\n",
      "Best 3:  [5.020000000000001, 5.020000000000001, 5.020000000000001]\n",
      "Worst 3:  [5.020000000000001, 5.020000000000001, 5.020000000000001]\n",
      "generation number is:  93\n",
      "Best 3:  [5.020000000000001, 5.020000000000001, 5.020000000000001]\n",
      "Worst 3:  [5.020000000000001, 5.020000000000001, 5.020000000000001]\n",
      "generation number is:  94\n",
      "Best 3:  [5.020000000000001, 5.020000000000001, 5.020000000000001]\n",
      "Worst 3:  [5.020000000000001, 5.020000000000001, 5.020000000000001]\n",
      "generation number is:  95\n",
      "Best 3:  [5.020000000000001, 5.020000000000001, 5.020000000000001]\n",
      "Worst 3:  [5.020000000000001, 5.020000000000001, 5.020000000000001]\n",
      "generation number is:  96\n",
      "Best 3:  [5.020000000000001, 5.020000000000001, 5.020000000000001]\n",
      "Worst 3:  [5.020000000000001, 5.020000000000001, 5.020000000000001]\n",
      "generation number is:  97\n",
      "Best 3:  [5.020000000000001, 5.020000000000001, 5.020000000000001]\n",
      "Worst 3:  [5.020000000000001, 5.020000000000001, 5.020000000000001]\n",
      "generation number is:  98\n",
      "Best 3:  [5.020000000000001, 5.020000000000001, 5.020000000000001]\n",
      "Worst 3:  [5.020000000000001, 5.020000000000001, 5.020000000000001]\n",
      "generation number is:  99\n",
      "Best 3:  [5.020000000000001, 5.020000000000001, 5.020000000000001]\n",
      "Worst 3:  [5.020000000000001, 5.020000000000001, 5.020000000000001]\n",
      "highest energy:  5.020000000000001\n",
      "best guess mixer angles:  [0.359375, 0.0859375, 0.09765625]\n",
      "best guess cost angles:  [0.50390625, 0.57421875, 0.328125]\n",
      "CPU times: user 4min 33s, sys: 122 ms, total: 4min 33s\n",
      "Wall time: 4min 33s\n"
     ]
    }
   ],
   "source": [
    "%%time\n",
    "res = qaoa_calculate(backend, backend.default_compilation_pass(2).apply, shots = 100, iterations = 50, seed=12345)"
   ]
  },
  {
   "cell_type": "code",
   "execution_count": 19,
   "id": "3b86301e-7645-4553-be38-3ebf89eedd37",
   "metadata": {},
   "outputs": [
    {
     "name": "stdout",
     "output_type": "stream",
     "text": [
      "Success ratio 0.4 \n"
     ]
    },
    {
     "data": {
      "image/png": "[encoded data removed]",
      "text/plain": [
       "<Figure size 432x288 with 1 Axes>"
      ]
     },
     "metadata": {
      "needs_background": "light"
     },
     "output_type": "display_data"
    }
   ],
   "source": [
    "from maxcut_plotting import plot_maxcut_results\n",
    "\n",
    "plot_maxcut_results(res, 6)"
   ]
  },
  {
   "cell_type": "markdown",
   "id": "6e36c4fb-a118-4ab8-be01-77a674f273e3",
   "metadata": {},
   "source": [
    "Here the binary strings in the results correspond to the two optimal colourings of our graph."
   ]
  },
  {
   "cell_type": "code",
   "execution_count": 20,
   "id": "ffce2a97-902c-44d8-8d64-b25498752907",
   "metadata": {},
   "outputs": [
    {
     "data": {
      "image/png": "[encoded data removed]",
      "text/plain": [
       "<Figure size 432x288 with 1 Axes>"
      ]
     },
     "metadata": {},
     "output_type": "display_data"
    },
    {
     "data": {
      "image/png": "[encoded data removed]",
      "text/plain": [
       "<Figure size 432x288 with 1 Axes>"
      ]
     },
     "metadata": {},
     "output_type": "display_data"
    }
   ],
   "source": [
    "G = nx.Graph()\n",
    "G.add_edges_from(max_cut_graph_edges)\n",
    "\n",
    "H = nx.Graph()\n",
    "H.add_edges_from(max_cut_graph_edges)\n",
    "\n",
    "plt.figure(1)\n",
    "nx.draw(G, labels={node: node for node in max_cut_graph.nodes()}, node_color= ['red', 'blue', 'red','red', 'blue', 'red', 'red'])\n",
    "plt.figure(2)\n",
    "nx.draw(H, labels={node: node for node in max_cut_graph.nodes()}, node_color= ['blue', 'red', 'blue', 'blue', 'red', 'blue', 'blue'])\n",
    "\n",
    "plt.show()"
   ]
  },
  {
   "cell_type": "code",
   "execution_count": null,
   "id": "d131921e-ba81-4ed8-baa5-105d0d20f2ce",
   "metadata": {},
   "outputs": [],
   "source": []
  },
  {
   "cell_type": "code",
   "execution_count": null,
   "id": "030a6684-89b8-4a51-bc81-fff9dca87e17",
   "metadata": {},
   "outputs": [
    {
     "name": "stdout",
     "output_type": "stream",
     "text": [
      "Collecting pytket-quantinuum\n",
      "  Downloading pytket_quantinuum-0.13.0-py3-none-any.whl (28 kB)\n",
      "Requirement already satisfied: pytket~=1.11 in /opt/.qbraid/environments/qbraid_000000/pyenv/lib/python3.9/site-packages (from pytket-quantinuum) (1.11.1)\n",
      "Requirement already satisfied: requests>=2.2 in /opt/.qbraid/environments/qbraid_000000/pyenv/lib/python3.9/site-packages (from pytket-quantinuum) (2.28.2)\n",
      "Requirement already satisfied: nest-asyncio>=1.2 in /opt/.qbraid/environments/qbraid_000000/pyenv/lib/python3.9/site-packages (from pytket-quantinuum) (1.5.6)\n",
      "Requirement already satisfied: msal~=1.18 in /opt/conda/lib/python3.9/site-packages (from pytket-quantinuum) (1.20.0)\n",
      "Collecting types-requests\n",
      "  Downloading types_requests-2.28.11.8-py3-none-any.whl (14 kB)\n",
      "Requirement already satisfied: pyjwt~=2.4 in /opt/.qbraid/environments/qbraid_000000/pyenv/lib/python3.9/site-packages (from pytket-quantinuum) (2.6.0)\n",
      "Requirement already satisfied: websockets>=7.0 in /opt/.qbraid/environments/qbraid_000000/pyenv/lib/python3.9/site-packages (from pytket-quantinuum) (10.4)\n",
      "Requirement already satisfied: cryptography<41,>=0.6 in /opt/.qbraid/environments/qbraid_000000/pyenv/lib/python3.9/site-packages (from msal~=1.18->pytket-quantinuum) (39.0.0)\n",
      "Requirement already satisfied: scipy<2.0,>=1.7.2 in /opt/.qbraid/environments/qbraid_000000/pyenv/lib/python3.9/site-packages (from pytket~=1.11->pytket-quantinuum) (1.10.0)\n",
      "Requirement already satisfied: sympy~=1.6 in /opt/.qbraid/environments/qbraid_000000/pyenv/lib/python3.9/site-packages (from pytket~=1.11->pytket-quantinuum) (1.11.1)\n",
      "Requirement already satisfied: numpy<2.0,>=1.21.4 in /opt/.qbraid/environments/qbraid_000000/pyenv/lib/python3.9/site-packages (from pytket~=1.11->pytket-quantinuum) (1.21.6)\n",
      "Requirement already satisfied: typing-extensions~=4.2 in /opt/.qbraid/environments/qbraid_000000/pyenv/lib/python3.9/site-packages (from pytket~=1.11->pytket-quantinuum) (4.4.0)\n",
      "Requirement already satisfied: qwasm~=1.0 in /opt/.qbraid/environments/qbraid_000000/pyenv/lib/python3.9/site-packages (from pytket~=1.11->pytket-quantinuum) (1.0.1)\n",
      "Requirement already satisfied: types-pkg-resources in /opt/.qbraid/environments/qbraid_000000/pyenv/lib/python3.9/site-packages (from pytket~=1.11->pytket-quantinuum) (0.1.3)\n",
      "Requirement already satisfied: graphviz~=0.14 in /opt/.qbraid/environments/qbraid_000000/pyenv/lib/python3.9/site-packages (from pytket~=1.11->pytket-quantinuum) (0.20.1)\n",
      "Requirement already satisfied: jinja2~=3.0 in /opt/.qbraid/environments/qbraid_000000/pyenv/lib/python3.9/site-packages (from pytket~=1.11->pytket-quantinuum) (3.1.2)\n",
      "Requirement already satisfied: lark-parser~=0.7 in /opt/.qbraid/environments/qbraid_000000/pyenv/lib/python3.9/site-packages (from pytket~=1.11->pytket-quantinuum) (0.12.0)\n",
      "Requirement already satisfied: networkx~=2.4 in /opt/.qbraid/environments/qbraid_000000/pyenv/lib/python3.9/site-packages (from pytket~=1.11->pytket-quantinuum) (2.8.8)\n",
      "Requirement already satisfied: certifi>=2017.4.17 in /opt/.qbraid/environments/qbraid_000000/pyenv/lib/python3.9/site-packages (from requests>=2.2->pytket-quantinuum) (2022.12.7)\n",
      "Requirement already satisfied: urllib3<1.27,>=1.21.1 in /opt/.qbraid/environments/qbraid_000000/pyenv/lib/python3.9/site-packages (from requests>=2.2->pytket-quantinuum) (1.26.14)\n",
      "Requirement already satisfied: charset-normalizer<4,>=2 in /opt/.qbraid/environments/qbraid_000000/pyenv/lib/python3.9/site-packages (from requests>=2.2->pytket-quantinuum) (3.0.1)\n",
      "Requirement already satisfied: idna<4,>=2.5 in /opt/.qbraid/environments/qbraid_000000/pyenv/lib/python3.9/site-packages (from requests>=2.2->pytket-quantinuum) (2.8)\n",
      "Collecting types-urllib3<1.27\n",
      "  Downloading types_urllib3-1.26.25.4-py3-none-any.whl (14 kB)\n",
      "Requirement already satisfied: cffi>=1.12 in /opt/.qbraid/environments/qbraid_000000/pyenv/lib/python3.9/site-packages (from cryptography<41,>=0.6->msal~=1.18->pytket-quantinuum) (1.15.1)\n",
      "Requirement already satisfied: MarkupSafe>=2.0 in /opt/.qbraid/environments/qbraid_000000/pyenv/lib/python3.9/site-packages (from jinja2~=3.0->pytket~=1.11->pytket-quantinuum) (2.1.2)\n",
      "Requirement already satisfied: setuptools in /opt/.qbraid/environments/qbraid_000000/pyenv/lib/python3.9/site-packages (from qwasm~=1.0->pytket~=1.11->pytket-quantinuum) (58.1.0)\n",
      "Requirement already satisfied: mpmath>=0.19 in /opt/.qbraid/environments/qbraid_000000/pyenv/lib/python3.9/site-packages (from sympy~=1.6->pytket~=1.11->pytket-quantinuum) (1.2.1)\n",
      "Requirement already satisfied: pycparser in /opt/.qbraid/environments/qbraid_000000/pyenv/lib/python3.9/site-packages (from cffi>=1.12->cryptography<41,>=0.6->msal~=1.18->pytket-quantinuum) (2.21)\n",
      "Installing collected packages: types-urllib3, types-requests, pytket-quantinuum\n",
      "Successfully installed pytket-quantinuum-0.13.0 types-requests-2.28.11.8 types-urllib3-1.26.25.4\n",
      "Note: you may need to restart the kernel to use updated packages.\n"
     ]
    },
    {
     "name": "stdout",
     "output_type": "stream",
     "text": [
      "Enter your Quantinuum email:  linchuanyang@umass.edu\n",
      "Enter your Quantinuum password:  ········\n"
     ]
    },
    {
     "name": "stdout",
     "output_type": "stream",
     "text": [
      "H1-2E status: online\n"
     ]
    }
   ],
   "source": [
    "# Try to run on actual emulator\n",
    "%pip install pytket-quantinuum \n",
    "from pytket import Circuit\n",
    "from pytket.extensions.quantinuum import QuantinuumBackend\n",
    "machine = 'H1-2E'\n",
    "backend = QuantinuumBackend(device_name=machine)\n",
    "backend.login()\n",
    "print(machine, \"status:\", backend.device_state(device_name=machine))\n",
    "res1 = qaoa_calculate(backend, backend.default_compilation_pass(2).apply, shots = 500, iterations = 15, seed=12345)"
   ]
  },
  {
   "cell_type": "code",
   "execution_count": null,
   "id": "eb38f79f-708c-43f1-aa82-5387af3d3a4d",
   "metadata": {},
   "outputs": [],
   "source": [
    "from maxcut_plotting import plot_maxcut_results\n",
    "\n",
    "plot_maxcut_results(res1, 6)"
   ]
  },
  {
   "cell_type": "code",
   "execution_count": null,
   "id": "ebab66ed-f26c-4ab2-8a92-26f2cec706bc",
   "metadata": {},
   "outputs": [],
   "source": []
  }
 ],
 "metadata": {
  "celltoolbar": "Slideshow",
  "kernelspec": {
   "display_name": "Python 3 [Default]",
   "language": "python",
   "name": "python3"
  },
  "language_info": {
   "codemirror_mode": {
    "name": "ipython",
    "version": 3
   },
   "file_extension": ".py",
   "mimetype": "text/x-python",
   "name": "python",
   "nbconvert_exporter": "python",
   "pygments_lexer": "ipython3",
   "version": "3.9.10"
  },
  "vscode": {
   "interpreter": {
    "hash": "3289aa74b4cc5b65254d7b081e6c83acb4efa1b1c1d2fe845644451ee4b44b02"
   }
  }
 },
 "nbformat": 4,
 "nbformat_minor": 5
}
