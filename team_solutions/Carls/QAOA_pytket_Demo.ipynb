{
 "cells": [
  {
   "cell_type": "markdown",
   "id": "3b9a8b73-cfff-4dff-bee9-72da3ceb9e05",
   "metadata": {},
   "source": [
    "# Carls' Implementation of QAOA using PytKet and COBAYLA\n",
    "\n",
    "## Background\n",
    "\n",
    "### QAOA and VQE Overview\n",
    "\n",
    "QAOA is a specific example of Variational Quantum Eigensolver (VQE).  All VQEs aim to find the ground state of a Hamiltonion, which can then be used for tasks such as optimization.  \n",
    "\n",
    "These systems function as a feedback loop between a classical and quantum system.  Our classical system is a form of function optimization algorithm (Think Gradient Descent) while our quantum system implements our problem statement. In a VQE (and by extension, in a QAOA), we treat a quantum system as the function which we wish to minimze with the classical optimization algorithm.  \n",
    "\n",
    "### Designing the Quantum System\n",
    "\n",
    "Our goal for the quantum system is to find the ground state of some target Hamiltonion.  We do this by employing the Adiabatic theorem.  This theorem states that if we originate in the ground state of some Hamiltonion, then transition slowly enough (i.e. over enough time steps) to eventually reach our target state, we will now be in the ground state of our target Hamiltonion.\n",
    "\n",
    "To find the ground state of our target Hamiltonion, we first start in a system with a known ground state.  This is generally the result of a n dimensional Hadamard $H^{\\otimes n}$.  We then apply an alternating series of parametric 'Problem' and parametric 'Mixing' Circuits.  The problem circuits encode the target Hamiltonion while the mixing circuit are used to introduce rotations in a different orientation to the problem circuits.  Each repetition is parametarized by its own parameter, denoted $\\gamma_i$ and $\\beta_i$ for problem circuit $i$ and mixing circuit $i$.  In total, this series is paramaterized by a length $p$ vector $\\gamma = (\\gamma_1, \\gamma_2, ... \\gamma_p)$ and length $p$ vector $\\beta = (\\beta_1, \\beta_2, ..., \\beta_p)$.  This decomposition of our target Hamiltonion into an alternating sequence of operators is known as Totterization.\n",
    "\n",
    "### Integrating Quantum and Classical\n",
    "\n",
    "At each iteration $i$ of our classical solver, we instantiate a new instance of our quantum system.  We then calculate the expectation value of our target Hamiltonion using our state vector.  Note that we must run a number of shots on the quantum system before we can get an good estimate for the expecation value.\n",
    "\n",
    "At this point, we pass the expectation value into our classical solver, which then updates $\\beta$ and $\\gamma$.  This repeats until a stopping criteria for the classical solver (set by the user) is met. \n",
    "\n",
    "## Our Project\n",
    "\n",
    "We implement a QAOA solver in Qiskit and integrate it with Quantinuum's pytket.  Furthermore, we integrate our quantum program with the COBYLA classical optimization algorithm.  \n",
    "\n",
    "Our original goal was to extend our QAOA system to solve the Traveling Salesman Problem.  This would enable us to iterface our QAOA with our custom designed search and rescue app.  This would demonstrate the possiblity for search and rescue teams to leverage quantum computation in order to more efficently plan their serach missions. As can be seen in our writeup, `QUBO_Traveling_Salesman_Overview`, we were able to create a cost function for Traveling Salesman and had the theoretical means to convert it to an appropriate Quantum Circuit.  However, we were unable to implement this as a Quantum Circuit and connect it to our graphical interface.  \n",
    "\n",
    "### References\n",
    "\n",
    "https://qiskit.org/textbook/ch-applications/qaoa.html\n",
    "\n",
    "Please refer to the references in QUBO overview writeup for additional information."
   ]
  },
  {
   "cell_type": "code",
   "execution_count": 6,
   "id": "336bb64a-85e9-451f-8670-d9b536a2b1fe",
   "metadata": {},
   "outputs": [
    {
     "name": "stdout",
     "output_type": "stream",
     "text": [
      "Requirement already satisfied: networkx in /Users/elchun/opt/miniconda3/envs/iQuHACK/lib/python3.10/site-packages (2.8.8)\r\n"
     ]
    },
    {
     "ename": "ModuleNotFoundError",
     "evalue": "No module named 'networkx'",
     "output_type": "error",
     "traceback": [
      "\u001b[0;31m---------------------------------------------------------------------------\u001b[0m",
      "\u001b[0;31mModuleNotFoundError\u001b[0m                       Traceback (most recent call last)",
      "Cell \u001b[0;32mIn [6], line 6\u001b[0m\n\u001b[1;32m      1\u001b[0m \u001b[38;5;66;03m#!pip3 install qiskit\u001b[39;00m\n\u001b[1;32m      2\u001b[0m \u001b[38;5;66;03m#!pip3 install pytket-qiskit\u001b[39;00m\n\u001b[1;32m      3\u001b[0m \u001b[38;5;66;03m#!pip3 install pytket\u001b[39;00m\n\u001b[1;32m      4\u001b[0m get_ipython()\u001b[38;5;241m.\u001b[39msystem(\u001b[38;5;124m'\u001b[39m\u001b[38;5;124mpip3 install networkx\u001b[39m\u001b[38;5;124m'\u001b[39m)\n\u001b[0;32m----> 6\u001b[0m \u001b[38;5;28;01mimport\u001b[39;00m \u001b[38;5;21;01mnetworkx\u001b[39;00m \u001b[38;5;28;01mas\u001b[39;00m \u001b[38;5;21;01mnx\u001b[39;00m\n\u001b[1;32m      7\u001b[0m \u001b[38;5;28;01mimport\u001b[39;00m \u001b[38;5;21;01mmatplotlib\u001b[39;00m\u001b[38;5;21;01m.\u001b[39;00m\u001b[38;5;21;01mpyplot\u001b[39;00m \u001b[38;5;28;01mas\u001b[39;00m \u001b[38;5;21;01mplt\u001b[39;00m\n\u001b[1;32m      8\u001b[0m \u001b[38;5;28;01mimport\u001b[39;00m \u001b[38;5;21;01mpytket\u001b[39;00m\n",
      "\u001b[0;31mModuleNotFoundError\u001b[0m: No module named 'networkx'"
     ]
    }
   ],
   "source": [
    "#!pip3 install qiskit\n",
    "#!pip3 install pytket-qiskit\n",
    "#!pip3 install pytket\n",
    "!pip3 install networkx\n",
    "\n",
    "import networkx as nx\n",
    "import matplotlib.pyplot as plt\n",
    "import pytket\n",
    "\n",
    "from qiskit import QuantumCircuit, ClassicalRegister, QuantumRegister\n",
    "from qiskit import Aer, execute\n",
    "from qiskit.circuit import Parameter\n",
    "from qiskit.tools.visualization import circuit_drawer\n",
    "from qiskit.visualization import plot_histogram\n",
    "from scipy.optimize import minimize\n",
    "from pytket.extensions.quantinuum import QuantinuumBackend\n",
    "from pytket.extensions.qiskit import qiskit_to_tk\n",
    "from pytket.circuit.display import render_circuit_jupyter"
   ]
  },
  {
   "cell_type": "markdown",
   "id": "04bfac30-1363-4112-963a-e28d73d3ee5b",
   "metadata": {},
   "source": [
    "## Connecting with Quantinuum H1-2E Machine\n",
    "\n",
    "We create a connection with Quantinuum backend machine."
   ]
  },
  {
   "cell_type": "code",
   "execution_count": 5,
   "id": "2bf9f056-3a14-4609-bd63-b8a65d15a85a",
   "metadata": {},
   "outputs": [
    {
     "name": "stdout",
     "output_type": "stream",
     "text": [
      "Enter your Quantinuum email:  elchun@mit.edu\n",
      "Enter your Quantinuum password:  ········\n"
     ]
    },
    {
     "name": "stdout",
     "output_type": "stream",
     "text": [
      "H1-2E status:  online\n"
     ]
    }
   ],
   "source": [
    "machine = 'H1-2E'\n",
    "backend = QuantinuumBackend(device_name=machine)\n",
    "backend.login()\n",
    "print(machine, \"status: \", backend.device_state(device_name=machine))"
   ]
  },
  {
   "cell_type": "markdown",
   "id": "55d1484b-dfc2-44c6-aeca-429962e3e11d",
   "metadata": {},
   "source": [
    "## Create QUBO Instance\n",
    "\n",
    "We first create an instance of a Quadratic Unconstrained Binary Optimization problem.\n",
    "\n",
    "In this example, we solve the Max-Cut problem.  The user will be prompted to instantiate a graph of their choosing"
   ]
  },
  {
   "cell_type": "code",
   "execution_count": 7,
   "id": "10a316a8",
   "metadata": {},
   "outputs": [],
   "source": [
    "enable_user_graph_input = True "
   ]
  },
  {
   "cell_type": "code",
   "execution_count": 8,
   "id": "b4ceca35",
   "metadata": {},
   "outputs": [],
   "source": [
    "def get_user_graph():\n",
    "    \"\"\"\n",
    "    Generates graph by prompting user for number \n",
    "    of nodes and edge pairs.\n",
    "    \n",
    "    Returns: Graph, number of nodes\n",
    "    \"\"\"\n",
    "    G = nx.Graph()\n",
    "    n_nodes = int(input('Enter number of nodes: '))\n",
    "    print('Now add edges.  Enter \"done\" to finish.')\n",
    "    nodes_list = list(range(n_nodes))\n",
    "    edges_list = []\n",
    "    while True:\n",
    "        nodes = input('Enter pair of nodes for edge \"u, v\": ')\n",
    "        if nodes == 'exit':\n",
    "            break\n",
    "        u, v = nodes.split(',')\n",
    "        edges_list.append((int(u), int(v)))\n",
    "    G.add_nodes_from(nodes_list)\n",
    "    G.add_edges_from(edges_list)\n",
    "    print(edges_list)\n",
    "    return G, n_nodes"
   ]
  },
  {
   "cell_type": "code",
   "execution_count": 9,
   "id": "33f41cc0-8a5e-42dc-a5ea-b30eb4e01a1c",
   "metadata": {},
   "outputs": [
    {
     "ename": "NameError",
     "evalue": "name 'nx' is not defined",
     "output_type": "error",
     "traceback": [
      "\u001b[0;31m---------------------------------------------------------------------------\u001b[0m",
      "\u001b[0;31mNameError\u001b[0m                                 Traceback (most recent call last)",
      "Cell \u001b[0;32mIn [9], line 4\u001b[0m\n\u001b[1;32m      2\u001b[0m p \u001b[38;5;241m=\u001b[39m \u001b[38;5;241m1\u001b[39m\n\u001b[1;32m      3\u001b[0m shots \u001b[38;5;241m=\u001b[39m \u001b[38;5;241m1000\u001b[39m\n\u001b[0;32m----> 4\u001b[0m G \u001b[38;5;241m=\u001b[39m \u001b[43mnx\u001b[49m\u001b[38;5;241m.\u001b[39mGraph()\n\u001b[1;32m      5\u001b[0m G\u001b[38;5;241m.\u001b[39madd_nodes_from([\u001b[38;5;241m0\u001b[39m, \u001b[38;5;241m1\u001b[39m, \u001b[38;5;241m2\u001b[39m, \u001b[38;5;241m3\u001b[39m,\u001b[38;5;241m4\u001b[39m,\u001b[38;5;241m5\u001b[39m])\n\u001b[1;32m      6\u001b[0m \u001b[38;5;66;03m# G.add_edges_from([(0, 1), (0, 2), (0, 3), (0, 4), (0, 5)])\u001b[39;00m\n",
      "\u001b[0;31mNameError\u001b[0m: name 'nx' is not defined"
     ]
    }
   ],
   "source": [
    "p = 1\n",
    "shots = 1000\n",
    "\n",
    "if enable_user_graph_input:\n",
    "    G, n_qubits = get_user_graph()\n",
    "else:\n",
    "    n_qubits = 6\n",
    "    G = nx.Graph()\n",
    "    G.add_nodes_from([0, 1, 2, 3,4,5])\n",
    "    # G.add_edges_from([(0, 1), (0, 2), (0, 3), (0, 4), (0, 5)])\n",
    "    G.add_edges_from([(0, 1), (1, 2), (1, 3), (3, 4), (4,5), (4,6)])\n",
    "    \n",
    "nx.draw(G, with_labels=True, alpha=0.8, node_size=500)"
   ]
  },
  {
   "cell_type": "markdown",
   "id": "a0836e05-00a2-4545-b392-a81b56ab8be6",
   "metadata": {},
   "source": [
    "## Convert to Quantum Circuit\n",
    "\n",
    "We now convert our graph into an appropriate quantum circuit to run QAOA.  This involves creating the mixing circuit (A set of $X$ rotations in our case), problem circuit (Implemented using $ZZ$ rotations corresponding to each edge in our graph), and the initial state setup circuit ($H^{\\otimes n}$).  We then combine these circuits into a complete QAOA quantum circuit."
   ]
  },
  {
   "cell_type": "markdown",
   "id": "a3fb7c14-2f0e-4a4f-a82f-fcd116ea5629",
   "metadata": {},
   "source": [
    "### Create Mixing Quantum Circuit"
   ]
  },
  {
   "cell_type": "code",
   "execution_count": 8,
   "id": "246566da-d204-4d29-9be5-34553f227156",
   "metadata": {},
   "outputs": [
    {
     "data": {
      "image/png": "[encoded data removed]",
      "text/plain": [
       "<Figure size 146.797x445.48 with 1 Axes>"
      ]
     },
     "execution_count": 8,
     "metadata": {},
     "output_type": "execute_result"
    }
   ],
   "source": [
    "def create_mixing_qc(n_qubits, beta):\n",
    "    \"\"\"\n",
    "    Create mixing quantum circuit.\n",
    "    \n",
    "    Return a quantum circuit instance.\n",
    "    \"\"\"\n",
    "    qc_mix = QuantumCircuit(n_qubits)\n",
    "    for i in range(0, n_qubits):\n",
    "        qc_mix.rx(2 * beta, i)\n",
    "    return qc_mix\n",
    "\n",
    "qc = create_mixing_qc(n_qubits, Parameter(\"$\\\\beta$\"))\n",
    "\n",
    "circuit_drawer(qc, output='mpl', style={'backgroundcolor': '#EEEEEE'})\n",
    "\n",
    "        "
   ]
  },
  {
   "cell_type": "markdown",
   "id": "a7f511aa-4bd6-4084-bd02-304d80fa2bab",
   "metadata": {},
   "source": [
    "### Create Problem Quantum Circuit"
   ]
  },
  {
   "cell_type": "code",
   "execution_count": 9,
   "id": "37f548a6-fd88-4cd0-8dec-15bf7ac519b9",
   "metadata": {},
   "outputs": [
    {
     "data": {
      "image/png": "[encoded data removed]",
      "text/plain": [
       "<Figure size 808.997x445.48 with 1 Axes>"
      ]
     },
     "execution_count": 9,
     "metadata": {},
     "output_type": "execute_result"
    }
   ],
   "source": [
    "def create_graph_problem_qc(G, n_qubits, gamma):\n",
    "    \"\"\"\n",
    "    Create problem quantum circuit.\n",
    "    \n",
    "    Return a quantum circuit instance.\n",
    "    \"\"\"\n",
    "    qc_p = QuantumCircuit(n_qubits)\n",
    "    for pair in list(G.edges()):  # pairs of nodes\n",
    "        qc_p.rzz(2 * gamma, pair[0], pair[1])\n",
    "        # qc_p.barrier()\n",
    "    return qc_p\n",
    "\n",
    "qc = create_graph_problem_qc(G, n_qubits, Parameter(\"$\\\\gamma$\"))\n",
    "circuit_drawer(qc, output='mpl', style={'backgroundcolor': '#EEEEEE'})         "
   ]
  },
  {
   "cell_type": "markdown",
   "id": "e8240e1b-60c0-47a5-832c-10648c515c07",
   "metadata": {},
   "source": [
    "### Create Initial State"
   ]
  },
  {
   "cell_type": "code",
   "execution_count": 10,
   "id": "e47e430b-c815-4d8d-a154-01d089998c48",
   "metadata": {},
   "outputs": [
    {
     "ename": "NameError",
     "evalue": "name 'QuantumCircuit' is not defined",
     "output_type": "error",
     "traceback": [
      "\u001b[0;31m---------------------------------------------------------------------------\u001b[0m",
      "\u001b[0;31mNameError\u001b[0m                                 Traceback (most recent call last)",
      "Cell \u001b[0;32mIn [10], line 13\u001b[0m\n\u001b[1;32m     10\u001b[0m         qc_0\u001b[38;5;241m.\u001b[39mh(i)\n\u001b[1;32m     11\u001b[0m     \u001b[38;5;28;01mreturn\u001b[39;00m qc_0\n\u001b[0;32m---> 13\u001b[0m qc \u001b[38;5;241m=\u001b[39m \u001b[43mcreate_initial_qc\u001b[49m\u001b[43m(\u001b[49m\u001b[43mn_qubits\u001b[49m\u001b[43m)\u001b[49m\n\u001b[1;32m     14\u001b[0m circuit_drawer(qc, output\u001b[38;5;241m=\u001b[39m\u001b[38;5;124m'\u001b[39m\u001b[38;5;124mmpl\u001b[39m\u001b[38;5;124m'\u001b[39m, style\u001b[38;5;241m=\u001b[39m{\u001b[38;5;124m'\u001b[39m\u001b[38;5;124mbackgroundcolor\u001b[39m\u001b[38;5;124m'\u001b[39m: \u001b[38;5;124m'\u001b[39m\u001b[38;5;124m#EEEEEE\u001b[39m\u001b[38;5;124m'\u001b[39m})         \n",
      "Cell \u001b[0;32mIn [10], line 8\u001b[0m, in \u001b[0;36mcreate_initial_qc\u001b[0;34m(n_qubits)\u001b[0m\n\u001b[1;32m      1\u001b[0m \u001b[38;5;28;01mdef\u001b[39;00m \u001b[38;5;21mcreate_initial_qc\u001b[39m(n_qubits):\n\u001b[1;32m      2\u001b[0m     \u001b[38;5;124;03m\"\"\"\u001b[39;00m\n\u001b[1;32m      3\u001b[0m \u001b[38;5;124;03m    Create initial quantum circuit.  This is a set of n hadamards.\u001b[39;00m\n\u001b[1;32m      4\u001b[0m \u001b[38;5;124;03m    \u001b[39;00m\n\u001b[1;32m      5\u001b[0m \u001b[38;5;124;03m    Return a quantum circuit instance.\u001b[39;00m\n\u001b[1;32m      6\u001b[0m \u001b[38;5;124;03m    \"\"\"\u001b[39;00m\n\u001b[0;32m----> 8\u001b[0m     qc_0 \u001b[38;5;241m=\u001b[39m \u001b[43mQuantumCircuit\u001b[49m(n_qubits)\n\u001b[1;32m      9\u001b[0m     \u001b[38;5;28;01mfor\u001b[39;00m i \u001b[38;5;129;01min\u001b[39;00m \u001b[38;5;28mrange\u001b[39m(\u001b[38;5;241m0\u001b[39m, n_qubits):\n\u001b[1;32m     10\u001b[0m         qc_0\u001b[38;5;241m.\u001b[39mh(i)\n",
      "\u001b[0;31mNameError\u001b[0m: name 'QuantumCircuit' is not defined"
     ]
    }
   ],
   "source": [
    "def create_initial_qc(n_qubits):\n",
    "    \"\"\"\n",
    "    Create initial quantum circuit.  This is a set of n hadamards.\n",
    "    \n",
    "    Return a quantum circuit instance.\n",
    "    \"\"\"\n",
    "    \n",
    "    qc_0 = QuantumCircuit(n_qubits)\n",
    "    for i in range(0, n_qubits):\n",
    "        qc_0.h(i)\n",
    "    return qc_0\n",
    "\n",
    "qc = create_initial_qc(n_qubits)\n",
    "circuit_drawer(qc, output='mpl', style={'backgroundcolor': '#EEEEEE'})         "
   ]
  },
  {
   "cell_type": "markdown",
   "id": "adbe7df1-a4a4-4a34-83ed-2b7495571d02",
   "metadata": {},
   "source": [
    "### Combine into QAOA Circuit"
   ]
  },
  {
   "cell_type": "code",
   "execution_count": 11,
   "id": "7257046b-3048-4c29-9d45-f8238be82588",
   "metadata": {},
   "outputs": [
    {
     "data": {
      "image/png": "[encoded data removed]",
      "text/plain": [
       "<Figure size 1621.88x1047.48 with 1 Axes>"
      ]
     },
     "execution_count": 11,
     "metadata": {},
     "output_type": "execute_result"
    }
   ],
   "source": [
    "def create_qaoa_circ(n_qubits, problem_qc_generator, mixing_qc_generator, \n",
    "                     beta_list, gamma_list):\n",
    "    \"\"\"\n",
    "    n_qubits: number of qubits to use\n",
    "    problem_qc_generator: function to generate problem quantum circuit.  Must take\n",
    "        n_qubits, gamma_list.\n",
    "    mixing_qc_generator: function to generate mixing quantum circuit.  Must take\n",
    "        n_qubits, beta_list.\n",
    "    beta_list: List of betas to use for trial where beta[i] is used in the ith iteration of \n",
    "        Trotterization.\n",
    "    gamma_list: List of gammas to use for trial which gamma[i] is used in the ith iteration of \n",
    "        Trotterization.\n",
    "    \n",
    "    \"\"\"\n",
    "    qc = QuantumCircuit(n_qubits)\n",
    "    \n",
    "    # Add initial state and specify which qubits to attach\n",
    "    attach_qubits = [i for i in range(0, n_qubits)]\n",
    "    qc.append(create_initial_qc(n_qubits), attach_qubits[:])\n",
    "    \n",
    "    assert len(beta_list) == len(gamma_list), 'Beta and gamma list must \\\n",
    "        be the same length'\n",
    "    n_reps = len(beta_list)\n",
    "    \n",
    "    # Now add repeated applications of problem and mixing circuits\n",
    "    for rep in range(0, n_reps):\n",
    "        qc.append(problem_qc_generator(n_qubits, gamma_list[rep]), attach_qubits[:])\n",
    "        qc.append(mixing_qc_generator(n_qubits, beta_list[rep]), attach_qubits[:])\n",
    "    \n",
    "    qc.measure_all()\n",
    "    return qc\n",
    "\n",
    "beta = Parameter(\"$\\\\beta$\")\n",
    "gamma = Parameter(\"$\\\\gamma$\")\n",
    "beta_list = [beta for _ in range(p)]\n",
    "gamma_list = [gamma for _ in range(p)]\n",
    "\n",
    "# Define wrappers for problem qc and mixing qc generator.\n",
    "# This allows us to solve a variety of QUBO problems with the same stack.\n",
    "def graph_qc_generator(n_qubits, gamma):\n",
    "    return create_graph_problem_qc(G, n_qubits, gamma)\n",
    "\n",
    "def mixing_qc_generator(n_qubits, beta):\n",
    "    return create_mixing_qc(n_qubits, beta)\n",
    "\n",
    "\n",
    "qc = create_qaoa_circ(n_qubits, graph_qc_generator, mixing_qc_generator,\n",
    "                      beta_list, gamma_list)\n",
    "\n",
    "# Decompose to show individual elements, then draw\n",
    "circuit_drawer(qc.decompose().decompose(), output='mpl', style={'backgroundcolor': '#EEEEEE'})         "
   ]
  },
  {
   "cell_type": "markdown",
   "id": "62334c76-0169-4248-8506-e458226d013b",
   "metadata": {},
   "source": [
    "### Create helper method to calculate expection\n",
    "\n",
    "We must calculate the expectation value of our transformed Hamiltonion.  This is easily done with a helper function.\n",
    "\n",
    "Codewise, this is implemented using the generator `get_expectation` which returns a function `execute_circ(theat)` where theta is the concatenation of beta and gamma ($\\theta = \\beta \\oplus \\gamma$).  This function is what the optimizer will optimize.\n",
    "\n",
    "We also utilize a function to convert the raw count into an expectation."
   ]
  },
  {
   "cell_type": "code",
   "execution_count": 27,
   "id": "c872cb60-2162-470d-8701-efb92d139096",
   "metadata": {},
   "outputs": [
    {
     "data": {
      "text/plain": [
       "<function __main__.get_expectation.<locals>.execute_circ(theta)>"
      ]
     },
     "execution_count": 27,
     "metadata": {},
     "output_type": "execute_result"
    }
   ],
   "source": [
    "def maxcut_obj(x, G):\n",
    "    \"\"\"\n",
    "    Given a bitstring as a solution, this function returns\n",
    "    the number of edges shared between the two partitions\n",
    "    of the graph.\n",
    "    \n",
    "    Args:\n",
    "        x: str\n",
    "           solution bitstring\n",
    "           \n",
    "        G: networkx graph\n",
    "        \n",
    "    Returns:\n",
    "        obj: float\n",
    "             Objective\n",
    "    \"\"\"\n",
    "    obj = 0\n",
    "    for i, j in G.edges():\n",
    "        if x[i] != x[j]:\n",
    "            obj -= 1\n",
    "            \n",
    "    return obj\n",
    "\n",
    "\n",
    "def compute_expectation_tket(counts, G):\n",
    "    \"\"\"\n",
    "    Compute the expecation value where counts is the\n",
    "    return type of a tket call and G is a graph.\n",
    "    \"\"\"\n",
    "    avg = 0\n",
    "    sum_count = 0\n",
    "    for bitstring, count in counts.items():\n",
    "        \n",
    "        obj = maxcut_obj(bitstring[::-1], G)\n",
    "        avg += obj * count\n",
    "        sum_count += count\n",
    "        \n",
    "    return avg/sum_count\n",
    "\n",
    "    \n",
    "def get_expectation(problem_qc_generator, mixing_qc_generator, n_qubits, shots=1028):\n",
    "    \"\"\"\n",
    "    Runs parametrized circuit\n",
    "    \n",
    "    Args:\n",
    "        G: networkx graph\n",
    "        p: int,\n",
    "           Number of repetitions of unitaries\n",
    "    \"\"\"\n",
    "    \n",
    "    # backend = Aer.get_backend('qasm_simulator')\n",
    "    \n",
    "    def execute_circ(theta):\n",
    "        midpt = len(theta) // 2\n",
    "        beta_list = theta[:midpt]\n",
    "        gamma_list = theta[midpt:]\n",
    "        \n",
    "        qc = create_qaoa_circ(n_qubits, problem_qc_generator, mixing_qc_generator,\n",
    "                          beta_list, gamma_list)\n",
    "        \n",
    "        tk_qc = qiskit_to_tk(qc)\n",
    "        tk_qc.measure_all()\n",
    "        # There are three levels of optimization (we set to 1 for now)\n",
    "        compiled_qc = backend.get_compiled_circuit(tk_qc, optimisation_level=1)\n",
    "        \n",
    "        handle = backend.process_circuit(compiled_qc, n_shots=shots)\n",
    "        print('handle: ', handle)\n",
    "        status = backend.circuit_status(handle)\n",
    "        print('status: \\n', status)\n",
    "        \n",
    "        results = backend.get_result(handle)\n",
    "        counts = results.get_counts()\n",
    "        \n",
    "        # # Have to decompose in order to run backend\n",
    "        # counts = backend.run(qc.decompose().decompose(), seed_simulator=10, \n",
    "        #                      shots=shots).result().get_counts()\n",
    "\n",
    "        return compute_expectation_tket(counts, G)\n",
    "    \n",
    "    return execute_circ\n",
    "\n",
    "# Wrappers for problem generating function\n",
    "def graph_qc_generator(n_qubits, gamma):\n",
    "    return create_graph_problem_qc(G, n_qubits, gamma)\n",
    "\n",
    "# Wrappers for mixing generating function\n",
    "def mixing_qc_generator(n_qubits, beta):\n",
    "    return create_mixing_qc(n_qubits, beta)\n",
    "\n",
    "# This returns a function which can optimize classically\n",
    "get_expectation(graph_qc_generator, mixing_qc_generator, n_qubits, shots)\n"
   ]
  },
  {
   "cell_type": "markdown",
   "id": "b809f239-87ed-44b4-ac67-e6087f13c4da",
   "metadata": {},
   "source": [
    "### Define QAOA"
   ]
  },
  {
   "cell_type": "code",
   "execution_count": 28,
   "id": "7beb1a24-e670-4547-a563-b2db97e4b954",
   "metadata": {},
   "outputs": [
    {
     "name": "stdout",
     "output_type": "stream",
     "text": [
      "handle:  ('30934e86242a44bc989ffce11d5e9287', 'null')\n",
      "status: \n",
      " CircuitStatus(status=<StatusEnum.QUEUED: 'Circuit is queued.'>, message='{\"name\": \"circuit-352\", \"submit-date\": \"2023-01-29T07:34:04.646716\", \"result-date\": null, \"queue-position\": null, \"cost\": null, \"error\": null}', error_detail=None, completed_time=None, queued_time=None, submitted_time=None, running_time=None, cancelled_time=None, error_time=None, queue_position=None)\n",
      "handle:  ('3e3deff47ab5421da71a435052918beb', 'null')\n",
      "status: \n",
      " CircuitStatus(status=<StatusEnum.QUEUED: 'Circuit is queued.'>, message='{\"name\": \"circuit-362\", \"submit-date\": \"2023-01-29T07:34:25.944925\", \"result-date\": null, \"queue-position\": null, \"cost\": null, \"error\": null}', error_detail=None, completed_time=None, queued_time=None, submitted_time=None, running_time=None, cancelled_time=None, error_time=None, queue_position=None)\n",
      "handle:  ('c915397aa1354150b5006d7785b0bb75', 'null')\n",
      "status: \n",
      " CircuitStatus(status=<StatusEnum.QUEUED: 'Circuit is queued.'>, message='{\"name\": \"circuit-372\", \"submit-date\": \"2023-01-29T07:35:12.609839\", \"result-date\": null, \"queue-position\": null, \"cost\": null, \"error\": null}', error_detail=None, completed_time=None, queued_time=None, submitted_time=None, running_time=None, cancelled_time=None, error_time=None, queue_position=None)\n",
      "handle:  ('ca125366aa5c413f8cf803e6069db4b7', 'null')\n",
      "status: \n",
      " CircuitStatus(status=<StatusEnum.QUEUED: 'Circuit is queued.'>, message='{\"name\": \"circuit-382\", \"submit-date\": \"2023-01-29T07:35:57.112592\", \"result-date\": null, \"queue-position\": null, \"cost\": null, \"error\": null}', error_detail=None, completed_time=None, queued_time=None, submitted_time=None, running_time=None, cancelled_time=None, error_time=None, queue_position=None)\n",
      "handle:  ('fcd011b330444803b71f3b7d4aef4111', 'null')\n",
      "status: \n",
      " CircuitStatus(status=<StatusEnum.QUEUED: 'Circuit is queued.'>, message='{\"name\": \"circuit-392\", \"submit-date\": \"2023-01-29T07:36:44.692634\", \"result-date\": null, \"queue-position\": null, \"cost\": null, \"error\": null}', error_detail=None, completed_time=None, queued_time=None, submitted_time=None, running_time=None, cancelled_time=None, error_time=None, queue_position=None)\n",
      "handle:  ('f4e2912190624ae19d44da76184633c4', 'null')\n",
      "status: \n",
      " CircuitStatus(status=<StatusEnum.QUEUED: 'Circuit is queued.'>, message='{\"name\": \"circuit-402\", \"submit-date\": \"2023-01-29T07:37:19.679623\", \"result-date\": null, \"queue-position\": null, \"cost\": null, \"error\": null}', error_detail=None, completed_time=None, queued_time=None, submitted_time=None, running_time=None, cancelled_time=None, error_time=None, queue_position=None)\n",
      "handle:  ('b34ac830dedf458dbfc57fde232d3710', 'null')\n",
      "status: \n",
      " CircuitStatus(status=<StatusEnum.QUEUED: 'Circuit is queued.'>, message='{\"name\": \"circuit-412\", \"submit-date\": \"2023-01-29T07:37:42.872299\", \"result-date\": null, \"queue-position\": null, \"cost\": null, \"error\": null}', error_detail=None, completed_time=None, queued_time=None, submitted_time=None, running_time=None, cancelled_time=None, error_time=None, queue_position=None)\n",
      "handle:  ('eaa3706234644bf18d95e5ff024db813', 'null')\n",
      "status: \n",
      " CircuitStatus(status=<StatusEnum.QUEUED: 'Circuit is queued.'>, message='{\"name\": \"circuit-422\", \"submit-date\": \"2023-01-29T07:38:40.452396\", \"result-date\": null, \"queue-position\": null, \"cost\": null, \"error\": null}', error_detail=None, completed_time=None, queued_time=None, submitted_time=None, running_time=None, cancelled_time=None, error_time=None, queue_position=None)\n",
      "handle:  ('2ef9f72d7c324255bad53ad7a6db7c0e', 'null')\n",
      "status: \n",
      " CircuitStatus(status=<StatusEnum.QUEUED: 'Circuit is queued.'>, message='{\"name\": \"circuit-432\", \"submit-date\": \"2023-01-29T07:39:36.931174\", \"result-date\": null, \"queue-position\": null, \"cost\": null, \"error\": null}', error_detail=None, completed_time=None, queued_time=None, submitted_time=None, running_time=None, cancelled_time=None, error_time=None, queue_position=None)\n",
      "handle:  ('1d0fbdc31adc477192f93ce4a877bd6f', 'null')\n",
      "status: \n",
      " CircuitStatus(status=<StatusEnum.QUEUED: 'Circuit is queued.'>, message='{\"name\": \"circuit-442\", \"submit-date\": \"2023-01-29T07:40:34.766109\", \"result-date\": null, \"queue-position\": null, \"cost\": null, \"error\": null}', error_detail=None, completed_time=None, queued_time=None, submitted_time=None, running_time=None, cancelled_time=None, error_time=None, queue_position=None)\n",
      "handle:  ('ddf9e4f01bc04815bf4710d29cdec88b', 'null')\n",
      "status: \n",
      " CircuitStatus(status=<StatusEnum.QUEUED: 'Circuit is queued.'>, message='{\"name\": \"circuit-452\", \"submit-date\": \"2023-01-29T07:41:32.249102\", \"result-date\": null, \"queue-position\": null, \"cost\": null, \"error\": null}', error_detail=None, completed_time=None, queued_time=None, submitted_time=None, running_time=None, cancelled_time=None, error_time=None, queue_position=None)\n",
      "handle:  ('db3160b5b2db4992a1186de24752eea5', 'null')\n",
      "status: \n",
      " CircuitStatus(status=<StatusEnum.QUEUED: 'Circuit is queued.'>, message='{\"name\": \"circuit-462\", \"submit-date\": \"2023-01-29T07:42:06.158210\", \"result-date\": null, \"queue-position\": null, \"cost\": null, \"error\": null}', error_detail=None, completed_time=None, queued_time=None, submitted_time=None, running_time=None, cancelled_time=None, error_time=None, queue_position=None)\n",
      "handle:  ('96caa40ed5fd419a88ed490b5b87cef9', 'null')\n",
      "status: \n",
      " CircuitStatus(status=<StatusEnum.QUEUED: 'Circuit is queued.'>, message='{\"name\": \"circuit-472\", \"submit-date\": \"2023-01-29T07:42:52.608392\", \"result-date\": null, \"queue-position\": null, \"cost\": null, \"error\": null}', error_detail=None, completed_time=None, queued_time=None, submitted_time=None, running_time=None, cancelled_time=None, error_time=None, queue_position=None)\n",
      "handle:  ('8d8f40a791c4443db66c38b83f7c6329', 'null')\n",
      "status: \n",
      " CircuitStatus(status=<StatusEnum.QUEUED: 'Circuit is queued.'>, message='{\"name\": \"circuit-482\", \"submit-date\": \"2023-01-29T07:43:38.280544\", \"result-date\": null, \"queue-position\": null, \"cost\": null, \"error\": null}', error_detail=None, completed_time=None, queued_time=None, submitted_time=None, running_time=None, cancelled_time=None, error_time=None, queue_position=None)\n",
      "handle:  ('3a9cd4dfb9f04aa48974d5e2b6c0e9d3', 'null')\n",
      "status: \n",
      " CircuitStatus(status=<StatusEnum.QUEUED: 'Circuit is queued.'>, message='{\"name\": \"circuit-492\", \"submit-date\": \"2023-01-29T07:44:11.975429\", \"result-date\": null, \"queue-position\": null, \"cost\": null, \"error\": null}', error_detail=None, completed_time=None, queued_time=None, submitted_time=None, running_time=None, cancelled_time=None, error_time=None, queue_position=None)\n",
      "handle:  ('6b548ef2810f461dbbab4035f0ad9894', 'null')\n",
      "status: \n",
      " CircuitStatus(status=<StatusEnum.QUEUED: 'Circuit is queued.'>, message='{\"name\": \"circuit-502\", \"submit-date\": \"2023-01-29T07:45:34.799176\", \"result-date\": null, \"queue-position\": null, \"cost\": null, \"error\": null}', error_detail=None, completed_time=None, queued_time=None, submitted_time=None, running_time=None, cancelled_time=None, error_time=None, queue_position=None)\n",
      "handle:  ('991ae33972044f4998162d55071daf51', 'null')\n",
      "status: \n",
      " CircuitStatus(status=<StatusEnum.QUEUED: 'Circuit is queued.'>, message='{\"name\": \"circuit-512\", \"submit-date\": \"2023-01-29T07:46:10.201923\", \"result-date\": null, \"queue-position\": null, \"cost\": null, \"error\": null}', error_detail=None, completed_time=None, queued_time=None, submitted_time=None, running_time=None, cancelled_time=None, error_time=None, queue_position=None)\n",
      "handle:  ('72a640295c504b97b50f2b461ec805dd', 'null')\n",
      "status: \n",
      " CircuitStatus(status=<StatusEnum.QUEUED: 'Circuit is queued.'>, message='{\"name\": \"circuit-522\", \"submit-date\": \"2023-01-29T07:46:45.356822\", \"result-date\": null, \"queue-position\": null, \"cost\": null, \"error\": null}', error_detail=None, completed_time=None, queued_time=None, submitted_time=None, running_time=None, cancelled_time=None, error_time=None, queue_position=None)\n",
      "handle:  ('03cb28a8723b4ea98da6aa769d74ae13', 'null')\n",
      "status: \n",
      " CircuitStatus(status=<StatusEnum.QUEUED: 'Circuit is queued.'>, message='{\"name\": \"circuit-532\", \"submit-date\": \"2023-01-29T07:47:19.540048\", \"result-date\": null, \"queue-position\": null, \"cost\": null, \"error\": null}', error_detail=None, completed_time=None, queued_time=None, submitted_time=None, running_time=None, cancelled_time=None, error_time=None, queue_position=None)\n",
      "handle:  ('b7dc3fdc60cd408e94639e328f28cd95', 'null')\n",
      "status: \n",
      " CircuitStatus(status=<StatusEnum.QUEUED: 'Circuit is queued.'>, message='{\"name\": \"circuit-542\", \"submit-date\": \"2023-01-29T07:47:42.842245\", \"result-date\": null, \"queue-position\": null, \"cost\": null, \"error\": null}', error_detail=None, completed_time=None, queued_time=None, submitted_time=None, running_time=None, cancelled_time=None, error_time=None, queue_position=None)\n",
      "handle:  ('4326303fddf4405c90243d236873ec40', 'null')\n",
      "status: \n",
      " CircuitStatus(status=<StatusEnum.QUEUED: 'Circuit is queued.'>, message='{\"name\": \"circuit-552\", \"submit-date\": \"2023-01-29T07:48:17.099394\", \"result-date\": null, \"queue-position\": null, \"cost\": null, \"error\": null}', error_detail=None, completed_time=None, queued_time=None, submitted_time=None, running_time=None, cancelled_time=None, error_time=None, queue_position=None)\n",
      "handle:  ('931da1bcd4b04f97b885d05bb998ed96', 'null')\n",
      "status: \n",
      " CircuitStatus(status=<StatusEnum.QUEUED: 'Circuit is queued.'>, message='{\"name\": \"circuit-562\", \"submit-date\": \"2023-01-29T07:48:39.523440\", \"result-date\": null, \"queue-position\": null, \"cost\": null, \"error\": null}', error_detail=None, completed_time=None, queued_time=None, submitted_time=None, running_time=None, cancelled_time=None, error_time=None, queue_position=None)\n",
      "handle:  ('2705323f8b024c9899eeb86a457b221d', 'null')\n",
      "status: \n",
      " CircuitStatus(status=<StatusEnum.QUEUED: 'Circuit is queued.'>, message='{\"name\": \"circuit-572\", \"submit-date\": \"2023-01-29T07:49:15.443177\", \"result-date\": null, \"queue-position\": null, \"cost\": null, \"error\": null}', error_detail=None, completed_time=None, queued_time=None, submitted_time=None, running_time=None, cancelled_time=None, error_time=None, queue_position=None)\n",
      "handle:  ('6d5cf9f60c284066acbe02d130a77de1', 'null')\n",
      "status: \n",
      " CircuitStatus(status=<StatusEnum.QUEUED: 'Circuit is queued.'>, message='{\"name\": \"circuit-582\", \"submit-date\": \"2023-01-29T07:50:12.137011\", \"result-date\": null, \"queue-position\": null, \"cost\": null, \"error\": null}', error_detail=None, completed_time=None, queued_time=None, submitted_time=None, running_time=None, cancelled_time=None, error_time=None, queue_position=None)\n",
      "handle:  ('248661b4920c4058aa7cf0727ced402b', 'null')\n",
      "status: \n",
      " CircuitStatus(status=<StatusEnum.QUEUED: 'Circuit is queued.'>, message='{\"name\": \"circuit-592\", \"submit-date\": \"2023-01-29T07:50:48.833730\", \"result-date\": null, \"queue-position\": null, \"cost\": null, \"error\": null}', error_detail=None, completed_time=None, queued_time=None, submitted_time=None, running_time=None, cancelled_time=None, error_time=None, queue_position=None)\n",
      " message: Optimization terminated successfully.\n",
      " success: True\n",
      "  status: 1\n",
      "     fun: -3.394\n",
      "       x: [ 1.274e+00  1.115e+00]\n",
      "    nfev: 25\n",
      "   maxcv: 0.0\n",
      "[1.27409057 1.1146796 ]\n"
     ]
    }
   ],
   "source": [
    "def qaoa(problem_qc_generator, mixing_qc_generator, n_qubits, shots):\n",
    "    \"\"\"\n",
    "    Run qaoa using the given problem_qc_generator, mixing_qc_generator, number of qubits, and shots.\n",
    "    \"\"\"\n",
    "    \n",
    "    expectation = get_expectation(problem_qc_generator, mixing_qc_generator, \n",
    "                                  n_qubits, shots)\n",
    "\n",
    "    initial_theta_value = [1.0 for _ in range(p * 2)]\n",
    "    res = minimize(expectation, \n",
    "                   initial_theta_value,\n",
    "                   method='COBYLA',\n",
    "                   tol=0.001) \n",
    "    \n",
    "    return res\n",
    "    \n",
    "res = qaoa(graph_qc_generator, mixing_qc_generator, n_qubits, shots)\n",
    "print(res)\n",
    "print(res.x)  # [ 1.357e+00  1.125e+00]"
   ]
  },
  {
   "cell_type": "markdown",
   "id": "45ab0812",
   "metadata": {},
   "source": [
    "### Run QAOA"
   ]
  },
  {
   "cell_type": "code",
   "execution_count": null,
   "id": "2376ad33-b488-4ce7-8167-8792aa4407c4",
   "metadata": {},
   "outputs": [],
   "source": [
    "# sim_backend = Aer.get_backend('aer_simulator')\n",
    "res_shots = shots\n",
    "\n",
    "def graph_qc_generator(n_qubits, gamma):\n",
    "    return create_graph_problem_qc(G, n_qubits, gamma)\n",
    "\n",
    "def mixing_qc_generator(n_qubits, beta):\n",
    "    return create_mixing_qc(n_qubits, beta)\n",
    "\n",
    "beta, gamma = res.x[:p], res.x[p:]\n",
    "\n",
    "qc = create_qaoa_circ(n_qubits, graph_qc_generator, mixing_qc_generator,\n",
    "                          beta, gamma)\n",
    "\n",
    "tk_qc = qiskit_to_tk(qc)\n",
    "tk_qc.measure_all()\n",
    "compiled_qc = backend.get_compiled_circuit(tk_qc, optimisation_level=1)\n",
    "handle = backend.process_circuit(compiled_qc, n_shots=res_shots)\n",
    "status = backend.circuit_status(handle)\n",
    "print('handle: ', handle)\n",
    "print('status: \\n', status)\n",
    "\n",
    "results = backend.get_result(handle)\n",
    "counts = results.get_counts()\n",
    "\n",
    "# counts = sim_backend.run(qc.decompose().decompose(), seed_simulator=10, shots=10000).result().get_counts()\n",
    "\n",
    "\n",
    "# Print out bitstring\n",
    "\n",
    "def show_counts(counts):\n",
    "    print(counts)\n",
    "    values = list(counts.values())\n",
    "    values.sort()\n",
    "    viz = s[-2:]\n",
    "    \n",
    "    for k, v in counts.items():\n",
    "    if v in viz:\n",
    "        print(k[::-1])\n",
    "    \n",
    "    print(sum(s))\n",
    "    \n",
    "    \n",
    "    \n",
    "\n",
    "# print(counts)\n",
    "# s = []\n",
    "# max_val = 0\n",
    "# for _ in counts.values():\n",
    "#     s.append(_)\n",
    "\n",
    "# s.sort()\n",
    "# viz = s[-2:]\n",
    "# for k, v in counts.items():\n",
    "#     if v in viz:\n",
    "#         print(k[::-1])\n",
    "\n",
    "# print(sum(s))\n",
    "\n",
    "show_counts(counts)\n",
    "\n",
    "plot_histogram({str(k): v for k, v in counts.items()})"
   ]
  },
  {
   "cell_type": "code",
   "execution_count": null,
   "id": "4e2b5ef0-3a90-4c8a-9968-9a2b64022060",
   "metadata": {},
   "outputs": [],
   "source": []
  }
 ],
 "metadata": {
  "kernelspec": {
   "display_name": "Python 3",
   "language": "python",
   "name": "python3"
  },
  "language_info": {
   "codemirror_mode": {
    "name": "ipython",
    "version": 3
   },
   "file_extension": ".py",
   "mimetype": "text/x-python",
   "name": "python",
   "nbconvert_exporter": "python",
   "pygments_lexer": "ipython3",
   "version": "3.10.8 (main, Oct 13 2022, 09:48:40) [Clang 14.0.0 (clang-1400.0.29.102)]"
  },
  "vscode": {
   "interpreter": {
    "hash": "908abd7e78fd4d71ba1be92795635fd82be5080a16e3cc7c1eae8bbfec458fa8"
   }
  }
 },
 "nbformat": 4,
 "nbformat_minor": 5
}
