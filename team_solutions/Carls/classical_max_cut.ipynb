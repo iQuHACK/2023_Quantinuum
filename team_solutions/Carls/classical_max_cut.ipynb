{
 "cells": [
  {
   "attachments": {},
   "cell_type": "markdown",
   "metadata": {},
   "source": [
    "# Classical Implementation of MaxCut\n",
    "Rough (lack of time :) ) implementation of a maxcut solver.  This can be\n",
    "used to compare against our quantum approach."
   ]
  },
  {
   "cell_type": "code",
   "execution_count": 1,
   "metadata": {},
   "outputs": [
    {
     "name": "stdout",
     "output_type": "stream",
     "text": [
      "Requirement already satisfied: requests in c:\\users\\suety\\anaconda3\\lib\\site-packages (2.24.0)\n",
      "Requirement already satisfied: idna<3,>=2.5 in c:\\users\\suety\\anaconda3\\lib\\site-packages (from requests) (2.10)\n",
      "Requirement already satisfied: chardet<4,>=3.0.2 in c:\\users\\suety\\anaconda3\\lib\\site-packages (from requests) (3.0.4)\n",
      "Requirement already satisfied: urllib3!=1.25.0,!=1.25.1,<1.26,>=1.21.1 in c:\\users\\suety\\anaconda3\\lib\\site-packages (from requests) (1.25.9)\n",
      "Requirement already satisfied: certifi>=2017.4.17 in c:\\users\\suety\\anaconda3\\lib\\site-packages (from requests) (2020.6.20)\n",
      "Note: you may need to restart the kernel to use updated packages.\n"
     ]
    }
   ],
   "source": [
    "pip install requests msal websockets nest_asyncio pyjwt keyring pytket pytket-quantinuum"
   ]
  },
  {
   "cell_type": "code",
   "execution_count": 3,
   "metadata": {},
   "outputs": [
    {
     "name": "stdout",
     "output_type": "stream",
     "text": [
      "Collecting cvxpy\n",
      "  Downloading cvxpy-1.3.0-cp38-cp38-win_amd64.whl (885 kB)\n",
      "Requirement already satisfied: scipy>=1.1.0 in c:\\users\\suety\\anaconda3\\lib\\site-packages (from cvxpy) (1.10.0)\n",
      "Requirement already satisfied: setuptools<=64.0.2 in c:\\users\\suety\\anaconda3\\lib\\site-packages (from cvxpy) (49.2.0.post20200714)\n",
      "Collecting ecos>=2\n",
      "  Downloading ecos-2.0.12-cp38-cp38-win_amd64.whl (72 kB)\n",
      "Collecting osqp>=0.4.1\n",
      "  Downloading osqp-0.6.2.post8-cp38-cp38-win_amd64.whl (292 kB)\n",
      "Requirement already satisfied: numpy>=1.15 in c:\\users\\suety\\anaconda3\\lib\\site-packages (from cvxpy) (1.24.1)\n",
      "Collecting scs>=1.1.6\n",
      "  Downloading scs-3.2.2-cp38-cp38-win_amd64.whl (8.2 MB)\n",
      "Collecting qdldl\n",
      "  Downloading qdldl-0.1.5.post3-cp38-cp38-win_amd64.whl (82 kB)\n",
      "Installing collected packages: ecos, qdldl, osqp, scs, cvxpy\n",
      "Successfully installed cvxpy-1.3.0 ecos-2.0.12 osqp-0.6.2.post8 qdldl-0.1.5.post3 scs-3.2.2\n",
      "Note: you may need to restart the kernel to use updated packages.\n"
     ]
    }
   ],
   "source": [
    "pip install cvxpy"
   ]
  },
  {
   "cell_type": "markdown",
   "metadata": {},
   "source": [
    "## Classical MaxFlow Algorithm using Convex Optimization\n"
   ]
  },
  {
   "cell_type": "code",
   "execution_count": 82,
   "metadata": {},
   "outputs": [],
   "source": [
    "def column(matrix, i):\n",
    "    mat = [round(row[i]) for row in matrix]\n",
    "    for j in range(len(mat)):\n",
    "        if mat[j] < 0:\n",
    "            mat[j] = 0\n",
    "            \n",
    "    return mat"
   ]
  },
  {
   "cell_type": "code",
   "execution_count": 83,
   "metadata": {},
   "outputs": [
    {
     "name": "stdout",
     "output_type": "stream",
     "text": [
      "[1, 1, 0, 1, 0, 1, 1]\n"
     ]
    }
   ],
   "source": [
    "import cvxpy as cp\n",
    "import numpy as np\n",
    "\n",
    "def cut_size(A, T) :\n",
    "    # Define and solve the CVXPY problem.\n",
    "    # Create a symmetric matrix variable and constraints\n",
    "    n = A.shape[0]\n",
    "\n",
    "    X = cp.Variable((n,n), symmetric=True)\n",
    "    constraints = [X >> 0]\n",
    "    constraints += [ cp.diag(X) == 1]\n",
    "\n",
    "    prob = cp.Problem(cp.Minimize(cp.trace(A @ X)), constraints)\n",
    "    prob.solve(solver='CVXOPT')\n",
    "\n",
    "    # Solve for the maximum cut\n",
    "    U = np.linalg.cholesky(X.value)\n",
    "    cut = 0\n",
    "    for i in range(0, T) :\n",
    "        r = np.random.normal(0, 1, n)\n",
    "        y = np.sign(U @ r)\n",
    "\n",
    "        # Calculate the cut\n",
    "        cut = cut + (np.sum(A) - y.T@A@y)/4\n",
    "#     return round(cut / T)\n",
    "    return column(U, 0)\n",
    "# Generate a random SDP.\n",
    "# n = 20\n",
    "# p = 0.4\n",
    "# A = (np.random.rand(n, n) < p).astype(int)\n",
    "# A = np.triu(A) + np.triu(A).T\n",
    "# A = A - np.diag(np.diag(A))\n",
    "\n",
    "a1 = [[0, 0, 1, 0, 0, 0, 0], [0, 0, 1, 0, 0, 0, 0], [0, 0, 0, 1, 0, 0, 0], [0, 0, 0, 0, 1, 0, 0], [0, 0, 0, 0, 0, 1, 1], [0, 0, 0, 0, 1, 0, 0], [0, 0, 0, 0, 1, 0, 0]]\n",
    "a1 = np.triu(a1) + np.triu(a1).T\n",
    "a1 = a1 - np.diag(np.diag(a1))\n",
    "cut = cut_size(a1, 100)\n",
    "print(cut)\n"
   ]
  },
  {
   "cell_type": "code",
   "execution_count": null,
   "metadata": {},
   "outputs": [],
   "source": []
  }
 ],
 "metadata": {
  "kernelspec": {
   "display_name": "Python 3",
   "language": "python",
   "name": "python3"
  },
  "language_info": {
   "codemirror_mode": {
    "name": "ipython",
    "version": 3
   },
   "file_extension": ".py",
   "mimetype": "text/x-python",
   "name": "python",
   "nbconvert_exporter": "python",
   "pygments_lexer": "ipython3",
   "version": "3.10.8 (main, Oct 13 2022, 09:48:40) [Clang 14.0.0 (clang-1400.0.29.102)]"
  },
  "vscode": {
   "interpreter": {
    "hash": "908abd7e78fd4d71ba1be92795635fd82be5080a16e3cc7c1eae8bbfec458fa8"
   }
  }
 },
 "nbformat": 4,
 "nbformat_minor": 4
}
