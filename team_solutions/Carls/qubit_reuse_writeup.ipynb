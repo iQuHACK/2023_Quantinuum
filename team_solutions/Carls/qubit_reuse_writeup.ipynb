{
  "cells": [
    {
      "cell_type": "markdown",
      "metadata": {
        "colab_type": "text",
        "id": "view-in-github"
      },
      "source": [
        "<a href=\"https://colab.research.google.com/github/micah-roberson/2023_Quantinuum_Carls/blob/main/qubit_reuse.ipynb\" target=\"_parent\"><img src=\"https://colab.research.google.com/assets/colab-badge.svg\" alt=\"Open In Colab\"/></a>"
      ]
    },
    {
      "cell_type": "markdown",
      "metadata": {
        "id": "ThSxX53TUNPd"
      },
      "source": [
        "# How does qubit reusability work?"
      ]
    },
    {
      "cell_type": "markdown",
      "metadata": {
        "id": "TWDFgiZUUSEO"
      },
      "source": [
        "*Qubit Reuse* is the process of compiling a given quantum circuit into a circuit with fewer qubits. Consider a circuit $C$. Our qubit reuse circuit is defined as $R(C)$ where $R(C) \\cong C$ in the sense that $R(C)$ and $C$ are identical in the results they produce (a classical computer would not be able to identify whether a result came from $C$ or $R(C)$. \n",
        "\n",
        "While there is a CP-SAT method of solving this problem for the true optimal solution, we have a greedy heuristic we can employ: \n",
        "\n",
        "1) First, determine which qubit $q$  has the fewest number of input qubits in $C_q$. $C_q$ is defined as the causal cone of qubit $q$. This can be thought of as all the gates and qubits in the qubit $q$'s past that affect it. \n",
        "\n",
        "2) Next, find a qubit $q'$ in the causal cone of $C_q$ whose causal cone $C_{q'}$ adds the fewest number of input qubits to $C_q$\n",
        "\n",
        "3) Repeat step 2 iteratively."
      ]
    },
    {
      "cell_type": "markdown",
      "metadata": {
        "id": "39ZsVqBFs76J"
      },
      "source": [
        "## Toy Example: BV Example for 4 qubits\n",
        "\n",
        "For 4 qubits, we can run our Bernstein-Vazirani algorithm which results in the below circuit:"
      ]
    },
    {
      "cell_type": "code",
      "execution_count": null,
      "metadata": {
        "colab": {
          "base_uri": "https://localhost:8080/",
          "height": 222
        },
        "id": "zoCn6OV-Zmx8",
        "outputId": "1b9c340b-436d-45d9-d654-2fb3cea8f427"
      },
      "outputs": [
        {
          "data": {
            "text/html": [
              "\n",
              "\n",
              "\n",
              "\n",
              "\n",
              "\n",
              "<iframe srcdoc=\"\n",
              "&lt;!DOCTYPE html&gt;\n",
              "&lt;html lang=&#34;en&#34;&gt;\n",
              "&lt;head&gt;\n",
              "    &lt;meta charset=&#34;UTF-8&#34;&gt;\n",
              "    &lt;script type=&#34;application/javascript&#34; src=&#34;https://cdn.jsdelivr.net/npm/vue@3&#34;&gt;&lt;/script&gt;\n",
              "    &lt;script type=&#34;application/javascript&#34; src=&#34;https://unpkg.com/pytket-circuit-renderer@0.3/dist/pytket-circuit-renderer.umd.js&#34;&gt;&lt;/script&gt;\n",
              "    &lt;link rel=&#34;stylesheet&#34; href=&#34;https://unpkg.com/pytket-circuit-renderer@0.3/dist/pytket-circuit-renderer.css&#34;&gt;\n",
              "&lt;/head&gt;\n",
              "&lt;body&gt;\n",
              "    &lt;div id=&#34;circuit-display-vue-container-17392bd7-b76c-4563-8434-2728d13421ac&#34; class=&#34;pytket-circuit-display-container&#34;&gt;\n",
              "        &lt;div style=&#34;display: none&#34;&gt;\n",
              "            &lt;div id=&#34;circuit-json-to-display&#34;&gt;{&#34;bits&#34;: [[&#34;c&#34;, [0]], [&#34;c&#34;, [1]], [&#34;c&#34;, [2]], [&#34;c&#34;, [3]]], &#34;commands&#34;: [{&#34;args&#34;: [[&#34;q&#34;, [0]]], &#34;op&#34;: {&#34;type&#34;: &#34;H&#34;}}, {&#34;args&#34;: [[&#34;q&#34;, [1]]], &#34;op&#34;: {&#34;type&#34;: &#34;H&#34;}}, {&#34;args&#34;: [[&#34;q&#34;, [2]]], &#34;op&#34;: {&#34;type&#34;: &#34;H&#34;}}, {&#34;args&#34;: [[&#34;q&#34;, [3]]], &#34;op&#34;: {&#34;type&#34;: &#34;X&#34;}}, {&#34;args&#34;: [[&#34;q&#34;, [3]]], &#34;op&#34;: {&#34;type&#34;: &#34;H&#34;}}, {&#34;args&#34;: [[&#34;q&#34;, [0]], [&#34;q&#34;, [3]]], &#34;op&#34;: {&#34;type&#34;: &#34;CX&#34;}}, {&#34;args&#34;: [[&#34;q&#34;, [0]]], &#34;op&#34;: {&#34;type&#34;: &#34;H&#34;}}, {&#34;args&#34;: [[&#34;q&#34;, [1]], [&#34;q&#34;, [3]]], &#34;op&#34;: {&#34;type&#34;: &#34;CX&#34;}}, {&#34;args&#34;: [[&#34;q&#34;, [1]]], &#34;op&#34;: {&#34;type&#34;: &#34;H&#34;}}, {&#34;args&#34;: [[&#34;q&#34;, [2]], [&#34;q&#34;, [3]]], &#34;op&#34;: {&#34;type&#34;: &#34;CX&#34;}}, {&#34;args&#34;: [[&#34;q&#34;, [2]]], &#34;op&#34;: {&#34;type&#34;: &#34;H&#34;}}], &#34;created_qubits&#34;: [], &#34;discarded_qubits&#34;: [], &#34;implicit_permutation&#34;: [[[&#34;q&#34;, [0]], [&#34;q&#34;, [0]]], [[&#34;q&#34;, [1]], [&#34;q&#34;, [1]]], [[&#34;q&#34;, [2]], [&#34;q&#34;, [2]]], [[&#34;q&#34;, [3]], [&#34;q&#34;, [3]]]], &#34;phase&#34;: &#34;0.0&#34;, &#34;qubits&#34;: [[&#34;q&#34;, [0]], [&#34;q&#34;, [1]], [&#34;q&#34;, [2]], [&#34;q&#34;, [3]]]}&lt;/div&gt;\n",
              "        &lt;/div&gt;\n",
              "        &lt;circuit-display-container :circuit-element-str=&#34;&#39;#circuit-json-to-display&#39;&#34;&gt;&lt;/circuit-display-container&gt;\n",
              "    &lt;/div&gt;\n",
              "    &lt;script type=&#34;application/javascript&#34;&gt;\n",
              "        const { createApp } = Vue;\n",
              "        const circuitDisplayContainer = window[&#34;pytket-circuit-renderer&#34;].default;\n",
              "        // Init variables to be shared between circuit display instances\n",
              "        if (typeof window.pytketCircuitDisplays === &#34;undefined&#34;) {\n",
              "            window.pytketCircuitDisplays = {};\n",
              "        }\n",
              "        const uid = &#34;17392bd7-b76c-4563-8434-2728d13421ac&#34;;\n",
              "        // Create the root Vue component\n",
              "        const app = createApp({\n",
              "            delimiters: [&#39;[[#&#39;, &#39;#]]&#39;],\n",
              "            components: { circuitDisplayContainer },\n",
              "        })\n",
              "        app.config.unwrapInjectedRef = true;\n",
              "        app.mount(&#34;#circuit-display-vue-container-&#34;+uid);\n",
              "        window.pytketCircuitDisplays[uid] = app;\n",
              "    &lt;/script&gt;\n",
              "&lt;/body&gt;\n",
              "&lt;/html&gt;\n",
              "\"\n",
              "        width=\"100%\" height=\"200px\"\n",
              "        style=\"border: none; outline: none; resize: vertical; overflow: auto\"></iframe>\n",
              "\n"
            ],
            "text/plain": [
              "<IPython.core.display.HTML object>"
            ]
          },
          "metadata": {},
          "output_type": "display_data"
        }
      ],
      "source": [
        "# BV Circuit 4 Qubit Example\n",
        "\n",
        "str_circ_bv_4 = \"\"\"\n",
        "OPENQASM 2.0;\n",
        "include \"qelib1.inc\";\n",
        "\n",
        "qreg q[4];\n",
        "creg c[4];\n",
        "h q[0];\n",
        "h q[1];\n",
        "h q[2];\n",
        "x q[3];\n",
        "h q[3];\n",
        "cx q[0],q[3];\n",
        "h q[0];\n",
        "cx q[1],q[3];\n",
        "h q[1];\n",
        "cx q[2],q[3];\n",
        "h q[2];\n",
        "\"\"\"\n",
        "circ_bv_4 = circuit_from_qasm_str(str_circ_bv_4)\n",
        "\n",
        "\n",
        "\n",
        "render_circuit_jupyter(circ_bv_4)"
      ]
    },
    {
      "cell_type": "markdown",
      "metadata": {
        "id": "cwGjwZMBtT92"
      },
      "source": [
        "Next, we can apply our general greedy algorithm which results in the true optimal solution for reducing our qubit count from 4 to 2. Notice that we can calculate our $q_0$ qubit and then immediately measure and reset it, thus making it available for another qubit. Notice that intuitively, if we repeat this process, we will always have two qubits left at the end for our BV qubit optimization using qubit resets. Below is the implementation of the 2 qubit version of our 4 bit BV circuit from above:"
      ]
    },
    {
      "cell_type": "code",
      "execution_count": null,
      "metadata": {
        "colab": {
          "base_uri": "https://localhost:8080/",
          "height": 222
        },
        "id": "NznC1kqls6z6",
        "outputId": "4aefb0a2-aeaf-42f5-dd9d-95f6110f6fc2"
      },
      "outputs": [
        {
          "data": {
            "text/html": [
              "\n",
              "\n",
              "\n",
              "\n",
              "\n",
              "\n",
              "<iframe srcdoc=\"\n",
              "&lt;!DOCTYPE html&gt;\n",
              "&lt;html lang=&#34;en&#34;&gt;\n",
              "&lt;head&gt;\n",
              "    &lt;meta charset=&#34;UTF-8&#34;&gt;\n",
              "    &lt;script type=&#34;application/javascript&#34; src=&#34;https://cdn.jsdelivr.net/npm/vue@3&#34;&gt;&lt;/script&gt;\n",
              "    &lt;script type=&#34;application/javascript&#34; src=&#34;https://unpkg.com/pytket-circuit-renderer@0.3/dist/pytket-circuit-renderer.umd.js&#34;&gt;&lt;/script&gt;\n",
              "    &lt;link rel=&#34;stylesheet&#34; href=&#34;https://unpkg.com/pytket-circuit-renderer@0.3/dist/pytket-circuit-renderer.css&#34;&gt;\n",
              "&lt;/head&gt;\n",
              "&lt;body&gt;\n",
              "    &lt;div id=&#34;circuit-display-vue-container-24dfcd4a-dfcf-4f09-b2d7-5af8f451ffa6&#34; class=&#34;pytket-circuit-display-container&#34;&gt;\n",
              "        &lt;div style=&#34;display: none&#34;&gt;\n",
              "            &lt;div id=&#34;circuit-json-to-display&#34;&gt;{&#34;bits&#34;: [[&#34;c&#34;, [0]], [&#34;c&#34;, [1]], [&#34;c&#34;, [2]]], &#34;commands&#34;: [{&#34;args&#34;: [[&#34;q&#34;, [0]]], &#34;op&#34;: {&#34;type&#34;: &#34;H&#34;}}, {&#34;args&#34;: [[&#34;q&#34;, [3]]], &#34;op&#34;: {&#34;type&#34;: &#34;X&#34;}}, {&#34;args&#34;: [[&#34;q&#34;, [3]]], &#34;op&#34;: {&#34;type&#34;: &#34;H&#34;}}, {&#34;args&#34;: [[&#34;q&#34;, [0]], [&#34;q&#34;, [3]]], &#34;op&#34;: {&#34;type&#34;: &#34;CX&#34;}}, {&#34;args&#34;: [[&#34;q&#34;, [0]]], &#34;op&#34;: {&#34;type&#34;: &#34;H&#34;}}, {&#34;args&#34;: [[&#34;q&#34;, [0]], [&#34;c&#34;, [0]]], &#34;op&#34;: {&#34;type&#34;: &#34;Measure&#34;}}, {&#34;args&#34;: [[&#34;q&#34;, [0]]], &#34;op&#34;: {&#34;type&#34;: &#34;Reset&#34;}}, {&#34;args&#34;: [[&#34;q&#34;, [0]]], &#34;op&#34;: {&#34;type&#34;: &#34;H&#34;}}, {&#34;args&#34;: [[&#34;q&#34;, [0]], [&#34;q&#34;, [3]]], &#34;op&#34;: {&#34;type&#34;: &#34;CX&#34;}}, {&#34;args&#34;: [[&#34;q&#34;, [0]]], &#34;op&#34;: {&#34;type&#34;: &#34;H&#34;}}, {&#34;args&#34;: [[&#34;q&#34;, [0]], [&#34;c&#34;, [1]]], &#34;op&#34;: {&#34;type&#34;: &#34;Measure&#34;}}, {&#34;args&#34;: [[&#34;q&#34;, [0]]], &#34;op&#34;: {&#34;type&#34;: &#34;Reset&#34;}}, {&#34;args&#34;: [[&#34;q&#34;, [0]]], &#34;op&#34;: {&#34;type&#34;: &#34;H&#34;}}, {&#34;args&#34;: [[&#34;q&#34;, [0]], [&#34;q&#34;, [3]]], &#34;op&#34;: {&#34;type&#34;: &#34;CX&#34;}}, {&#34;args&#34;: [[&#34;q&#34;, [0]]], &#34;op&#34;: {&#34;type&#34;: &#34;H&#34;}}, {&#34;args&#34;: [[&#34;q&#34;, [0]], [&#34;c&#34;, [2]]], &#34;op&#34;: {&#34;type&#34;: &#34;Measure&#34;}}], &#34;created_qubits&#34;: [], &#34;discarded_qubits&#34;: [], &#34;implicit_permutation&#34;: [[[&#34;q&#34;, [0]], [&#34;q&#34;, [0]]], [[&#34;q&#34;, [1]], [&#34;q&#34;, [1]]], [[&#34;q&#34;, [2]], [&#34;q&#34;, [2]]], [[&#34;q&#34;, [3]], [&#34;q&#34;, [3]]]], &#34;phase&#34;: &#34;0.0&#34;, &#34;qubits&#34;: [[&#34;q&#34;, [0]], [&#34;q&#34;, [1]], [&#34;q&#34;, [2]], [&#34;q&#34;, [3]]]}&lt;/div&gt;\n",
              "        &lt;/div&gt;\n",
              "        &lt;circuit-display-container :circuit-element-str=&#34;&#39;#circuit-json-to-display&#39;&#34;&gt;&lt;/circuit-display-container&gt;\n",
              "    &lt;/div&gt;\n",
              "    &lt;script type=&#34;application/javascript&#34;&gt;\n",
              "        const { createApp } = Vue;\n",
              "        const circuitDisplayContainer = window[&#34;pytket-circuit-renderer&#34;].default;\n",
              "        // Init variables to be shared between circuit display instances\n",
              "        if (typeof window.pytketCircuitDisplays === &#34;undefined&#34;) {\n",
              "            window.pytketCircuitDisplays = {};\n",
              "        }\n",
              "        const uid = &#34;24dfcd4a-dfcf-4f09-b2d7-5af8f451ffa6&#34;;\n",
              "        // Create the root Vue component\n",
              "        const app = createApp({\n",
              "            delimiters: [&#39;[[#&#39;, &#39;#]]&#39;],\n",
              "            components: { circuitDisplayContainer },\n",
              "        })\n",
              "        app.config.unwrapInjectedRef = true;\n",
              "        app.mount(&#34;#circuit-display-vue-container-&#34;+uid);\n",
              "        window.pytketCircuitDisplays[uid] = app;\n",
              "    &lt;/script&gt;\n",
              "&lt;/body&gt;\n",
              "&lt;/html&gt;\n",
              "\"\n",
              "        width=\"100%\" height=\"200px\"\n",
              "        style=\"border: none; outline: none; resize: vertical; overflow: auto\"></iframe>\n",
              "\n"
            ],
            "text/plain": [
              "<IPython.core.display.HTML object>"
            ]
          },
          "metadata": {},
          "output_type": "display_data"
        }
      ],
      "source": [
        "circ_BV_two = Circuit(4, 3)\n",
        "circ_BV_two.H(0).X(3).H(3)\n",
        "# Reuse q[0] once\n",
        "circ_BV_two.CX(0,3).H(0).Measure(0, 0) # q[0] --> c[0]\n",
        "circ_BV_two.add_gate(OpType.Reset, [0]) # first reset\n",
        "\n",
        "# q[0] after first reset becomes q[1] --> c[1]\n",
        "circ_BV_two.H(0).CX(0,3).H(0).Measure(0, 1)\n",
        "circ_BV_two.add_gate(OpType.Reset, [0]) #second reset\n",
        "\n",
        "# q[0] after second reset becomes q[2] --> c[2]\n",
        "circ_BV_two.H(0).CX(0,3).H(0).Measure(0, 2)\n",
        "render_circuit_jupyter(circ_BV_two)"
      ]
    },
    {
      "cell_type": "markdown",
      "metadata": {
        "id": "tmLQLCmD-UYk"
      },
      "source": [
        "## Future Work\n",
        "\n",
        "There were a few problems we wanted to solve but weren't able to due to time constraintts. Nonetheless, we will describe what our future work could be that builds on top of what we have done so far. \n",
        "\n",
        "### Qubit Reusibility \n",
        "Qubit reusibility allows NISQ era quantum computers to reuse qubits in order to solve problems that would require a large number of qubits that can't easily be used currently. Quantinuum has utilized this to reduce an 80 qubit version of MaxCut to an approximate 20 qubit version which had around a 91% accuracy to the true optimal solution for this NP-Hard problem. We also attempted to recreate the CP-SAT optimizer from the same paper but had difficulty writing the constraints for our cost function. Future work can be done in creating an actual circuit to CP-SAT optimizer to qubit reuse circuit pipeline. "
      ]
    }
  ],
  "metadata": {
    "colab": {
      "authorship_tag": "ABX9TyPUQr2f1cm4VXt1oNn/hfxD",
      "include_colab_link": true,
      "provenance": []
    },
    "kernelspec": {
      "display_name": "Python 3",
      "language": "python",
      "name": "python3"
    },
    "language_info": {
      "name": "python",
      "version": "3.10.8 (main, Oct 13 2022, 09:48:40) [Clang 14.0.0 (clang-1400.0.29.102)]"
    },
    "vscode": {
      "interpreter": {
        "hash": "908abd7e78fd4d71ba1be92795635fd82be5080a16e3cc7c1eae8bbfec458fa8"
      }
    }
  },
  "nbformat": 4,
  "nbformat_minor": 0
}
