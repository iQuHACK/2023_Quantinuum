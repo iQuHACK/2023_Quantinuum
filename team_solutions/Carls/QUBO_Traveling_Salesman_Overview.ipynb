{
 "cells": [
  {
   "cell_type": "markdown",
   "id": "7ad969f6-a9e5-4eb0-881f-01499378993a",
   "metadata": {},
   "source": [
    "# The Traveling Salesman Problem and Designing QUBOs for use with QAOA\n",
    "\n",
    "QAOA (Quantum Approximate Optimization Algorithm) is an excellent case study in the use of quantum hardware for solving approximation algorithms.  In principle, QAOA is able to solve all Quadratic Unconstrained Binary Optimization (QUBO) problems, however encoding the Hamiltonian may be challenging depending upon the QUBO parameters.  This summary article will provide an overview of creating QUBOs for use with QAOA with a focus on the Traveling Salesman Problem.  We also include some helpful resources for learning about QAOAs, Variational Quantum Eigensolvers (VQEs), and QUBOs."
   ]
  },
  {
   "cell_type": "markdown",
   "id": "66ddbfef-1661-43d9-aff5-4479d7b0c6c4",
   "metadata": {},
   "source": [
    "## QUBO Overview\n",
    "\n",
    "As the name suggests, Quadratic Unconstrained Binary Optimization (QUBO) problems are a specific case of [quadratic optimization](https://en.wikipedia.org/wiki/Quadratic_programming) problem.  Specifically, these problems have no constraints on the optimization solution (Unconstrained) and the problems optimize a binary vector (Binary).  "
   ]
  },
  {
   "cell_type": "markdown",
   "id": "bc40caf0",
   "metadata": {},
   "source": [
    "## The Traveling Salesman Problem: Build the Cost Function\n",
    "\n",
    "For a graph $G = (V, E)$ with $n = |V|$ vertices and weights $w_{u, v}$ for edge $(u, v)$, the Traveleing Salesman Problem attempts to find a path that traverses each vertex exactly once, returns to the starting vertex, and minimizes the cummulative weights of edges traversed.\n",
    "\n",
    "To convert this to a QUBO, we must frame our constraints as part of a cost function.\n",
    "\n",
    "First, we create a cost function to ensure that each node can only appear once in the final solution.  This can be written as:\n",
    "\n",
    "$$\n",
    "c_a = \\sum_{i=1}^{n}\\left(1 - \\sum_{j=1}^n x_{v, j}\\right)^2\n",
    "$$\n",
    "\n",
    "Next, we add a cost function to enusre that all nodes are present in the solution:\n",
    "\n",
    "$$\n",
    "c_b = \\sum_{j=1}\\left(1 - \\sum_{v=1}^n x_{v, j} \\right)^2\n",
    "$$\n",
    "\n",
    "We next add a third cost function whose purpose was beyond us :(\n",
    "\n",
    "$$\n",
    "c_c = \\sum_{(u, v) \\not{\\in} E} \\sum_{j=1}^n x_{u, j} x_{v, j+1}\n",
    "$$\n",
    "\n",
    "Finally, we construct a fourth weight cost function to consider our weights $w_{i, j}$.\n",
    "\n",
    "$$\n",
    "c_d = \\sum_{(u, v) \\in E} w_{u, v} \\sum_{j=1}^n x_{u, j}x_{v, j+1}\n",
    "$$\n",
    "\n",
    "We group $c_a$, $c_b$, and $c_c$ together to serve as our constraints.  We can use a weighting term, $A$ and $B$ to specify the relative improtance of the constraint terms ($c_a$, $c_b$, $c_c$) and the weight term $c_d$ to arrive at the final cost function:\n",
    "\n",
    "$$\n",
    "C = A (c_a, c_b, c_c) + B (c_d)\n",
    "$$\n",
    "\n",
    "We must specify $A$ and $B$ such that $B$ is sufficiently smaller than $A$.  If it is not, the constraints encoded by $c_a$, $c_b$, and $c_c$ may be unsatisfied."
   ]
  },
  {
   "cell_type": "markdown",
   "id": "77d63e23",
   "metadata": {},
   "source": [
    "## The Traveling Salesman Problem: Run on a Quantum Computer\n",
    "\n",
    "We can now encode this cost function as a Hamiltonian.  Recall the following identity:\n",
    "\n",
    "$$\n",
    "Z_i|x_i\\rangle = (-1)^{x_i} = 1 - 2 x_i\n",
    "$$\n",
    "\n",
    "Rearranging, we get:\n",
    "\n",
    "$$\n",
    "\\frac{I - Z_i}{2}|x_i\\rangle = x_i\n",
    "$$\n",
    "\n",
    "If we map each instance of $x_{i, j}$ to a value $x_k'$, we can apply the above identity for all $k \\in \\{1, ..., n^2\\}$ to eliminante the $x_i$'s from our expression.  Finally, we can rearrange and take the matrix exponential to produce our final quantum circuit."
   ]
  },
  {
   "cell_type": "markdown",
   "id": "a83d8c95",
   "metadata": {},
   "source": [
    "## Resources\n",
    "\n",
    "**Stanford's Course on Quantum Computing**\\\n",
    "https://cs269q.stanford.edu/\n",
    "\n",
    "Provides a in-depth overview of quantum computing through informative psets and lecture notes.  Lectures 8 through 10 are especially relevnat to QAOA. \n",
    "\n",
    "**Quantum Algorithms for Scientific Computing and Approximate Optimization - Stuart Andrew Hadfield**\\\n",
    "https://arxiv.org/pdf/1805.03265.pdf\n",
    "\n",
    "Extensive summary article on Quantum Algorithms.  Chapters 5 and 6 are extremely useful for QAOA\n",
    "\n",
    "**Qiskit QAOA Introduction** \\\n",
    "https://www.youtube.com/watch?v=YpLzSQPrgSc&ab_channel=Qiskit\n",
    "\n",
    "**Musty Throughts Block on QAOA**\n",
    "https://www.mustythoughts.com/quantum-approximate-optimization-algorithm-explained\n",
    "\n",
    "**List of QUBO Problems and their corresponding Hamiltonian Forms**\\\n",
    "https://www.frontiersin.org/articles/10.3389/fphy.2014.00005/full\n",
    "\n"
   ]
  }
 ],
 "metadata": {
  "kernelspec": {
   "display_name": "Python 3 (ipykernel)",
   "language": "python",
   "name": "python3"
  },
  "language_info": {
   "codemirror_mode": {
    "name": "ipython",
    "version": 3
   },
   "file_extension": ".py",
   "mimetype": "text/x-python",
   "name": "python",
   "nbconvert_exporter": "python",
   "pygments_lexer": "ipython3",
   "version": "3.10.8"
  }
 },
 "nbformat": 4,
 "nbformat_minor": 5
}
